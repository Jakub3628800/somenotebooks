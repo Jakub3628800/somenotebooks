{
 "cells": [
  {
   "cell_type": "markdown",
   "id": "b9e06683",
   "metadata": {},
   "source": [
    "# <font color='red'> LESSON 4B: Classification model Fine-tuning </font>\n",
    "  * <span style=\"color:blue\">**Classification model - fine-tuning** </span>\n",
    "    * basic model principles\n",
    "    * model preparation (more techniques) \n",
    "    * dataset splitting\n",
    "    * model interpretation (widely)\n",
    "  * <span style=\"color:blue\"> **Model assessment** </span>\n",
    "    * to evaluate and choose the best model"
   ]
  },
  {
   "cell_type": "markdown",
   "id": "97e82729",
   "metadata": {},
   "source": [
    "## <font color='red'> Classification models </font>\n",
    "GOAL: To predict the outcome of a given sample where the output variable is in the form of categories. \n",
    "Examples labels such as: male & female, sick & healthy, churner & non-churner, default & correct.\n",
    "\n",
    "This means that we can use the following algorithms:\n",
    "\n",
    "* Logistic Regression\n",
    "* Decision Tree\n",
    "* Random Forest\n",
    "* Support Vector Classifications\n",
    "* Stocastic Gradient Descend\n",
    "* Nearest Neighbours Classifiers\n",
    "* Gaussian Process Classification\n",
    "* Other ensemble\n",
    "* Neural Network Models\n",
    "* Gradient Boosting (XGBoost)\n",
    "\n",
    "We will start on those that we are more familiar with: Logistic regression. First, let's start with label. "
   ]
  },
  {
   "cell_type": "markdown",
   "id": "ade8f684",
   "metadata": {
    "execution": {
     "iopub.execute_input": "2021-04-26T16:10:08.042559Z",
     "iopub.status.busy": "2021-04-26T16:10:08.042234Z",
     "iopub.status.idle": "2021-04-26T16:10:08.046057Z",
     "shell.execute_reply": "2021-04-26T16:10:08.045296Z",
     "shell.execute_reply.started": "2021-04-26T16:10:08.042513Z"
    },
    "tags": []
   },
   "source": [
    "### Our dataset after datamart fine-tuning"
   ]
  },
  {
   "cell_type": "code",
   "execution_count": 1,
   "id": "c2da1f9d",
   "metadata": {
    "execution": {
     "iopub.execute_input": "2022-05-10T09:31:06.252543Z",
     "iopub.status.busy": "2022-05-10T09:31:06.251645Z",
     "iopub.status.idle": "2022-05-10T09:31:06.805600Z",
     "shell.execute_reply": "2022-05-10T09:31:06.804420Z",
     "shell.execute_reply.started": "2022-05-10T09:31:06.252485Z"
    },
    "tags": []
   },
   "outputs": [
    {
     "data": {
      "text/html": [
       "<div>\n",
       "<style scoped>\n",
       "    .dataframe tbody tr th:only-of-type {\n",
       "        vertical-align: middle;\n",
       "    }\n",
       "\n",
       "    .dataframe tbody tr th {\n",
       "        vertical-align: top;\n",
       "    }\n",
       "\n",
       "    .dataframe thead th {\n",
       "        text-align: right;\n",
       "    }\n",
       "</style>\n",
       "<table border=\"1\" class=\"dataframe\">\n",
       "  <thead>\n",
       "    <tr style=\"text-align: right;\">\n",
       "      <th></th>\n",
       "      <th>MSSubClass_120</th>\n",
       "      <th>MSSubClass_20</th>\n",
       "      <th>MSSubClass_50</th>\n",
       "      <th>MSSubClass_60</th>\n",
       "      <th>MSSubClass_OTHER</th>\n",
       "      <th>MSZoning_OTHER</th>\n",
       "      <th>MSZoning_RL</th>\n",
       "      <th>MSZoning_RM</th>\n",
       "      <th>Street_Grvl</th>\n",
       "      <th>Street_Pave</th>\n",
       "      <th>...</th>\n",
       "      <th>TotalBsmtSF</th>\n",
       "      <th>1stFlrSF</th>\n",
       "      <th>2ndFlrSF</th>\n",
       "      <th>GrLivArea</th>\n",
       "      <th>GarageArea</th>\n",
       "      <th>WoodDeckSF</th>\n",
       "      <th>OpenPorchSF</th>\n",
       "      <th>EnclosedPorch</th>\n",
       "      <th>ScreenPorch</th>\n",
       "      <th>label</th>\n",
       "    </tr>\n",
       "    <tr>\n",
       "      <th>Id</th>\n",
       "      <th></th>\n",
       "      <th></th>\n",
       "      <th></th>\n",
       "      <th></th>\n",
       "      <th></th>\n",
       "      <th></th>\n",
       "      <th></th>\n",
       "      <th></th>\n",
       "      <th></th>\n",
       "      <th></th>\n",
       "      <th></th>\n",
       "      <th></th>\n",
       "      <th></th>\n",
       "      <th></th>\n",
       "      <th></th>\n",
       "      <th></th>\n",
       "      <th></th>\n",
       "      <th></th>\n",
       "      <th></th>\n",
       "      <th></th>\n",
       "      <th></th>\n",
       "    </tr>\n",
       "  </thead>\n",
       "  <tbody>\n",
       "    <tr>\n",
       "      <th>1</th>\n",
       "      <td>0</td>\n",
       "      <td>0</td>\n",
       "      <td>0</td>\n",
       "      <td>1</td>\n",
       "      <td>0</td>\n",
       "      <td>0</td>\n",
       "      <td>1</td>\n",
       "      <td>0</td>\n",
       "      <td>0</td>\n",
       "      <td>1</td>\n",
       "      <td>...</td>\n",
       "      <td>-0.488321</td>\n",
       "      <td>-0.830489</td>\n",
       "      <td>1.164283</td>\n",
       "      <td>0.428636</td>\n",
       "      <td>0.373509</td>\n",
       "      <td>-0.787243</td>\n",
       "      <td>0.350520</td>\n",
       "      <td>-0.359325</td>\n",
       "      <td>-0.270208</td>\n",
       "      <td>208500</td>\n",
       "    </tr>\n",
       "    <tr>\n",
       "      <th>2</th>\n",
       "      <td>0</td>\n",
       "      <td>1</td>\n",
       "      <td>0</td>\n",
       "      <td>0</td>\n",
       "      <td>0</td>\n",
       "      <td>0</td>\n",
       "      <td>1</td>\n",
       "      <td>0</td>\n",
       "      <td>0</td>\n",
       "      <td>1</td>\n",
       "      <td>...</td>\n",
       "      <td>0.532289</td>\n",
       "      <td>0.289638</td>\n",
       "      <td>-0.796041</td>\n",
       "      <td>-0.502349</td>\n",
       "      <td>-0.051541</td>\n",
       "      <td>1.768105</td>\n",
       "      <td>-0.811747</td>\n",
       "      <td>-0.359325</td>\n",
       "      <td>-0.270208</td>\n",
       "      <td>181500</td>\n",
       "    </tr>\n",
       "    <tr>\n",
       "      <th>3</th>\n",
       "      <td>0</td>\n",
       "      <td>0</td>\n",
       "      <td>0</td>\n",
       "      <td>1</td>\n",
       "      <td>0</td>\n",
       "      <td>0</td>\n",
       "      <td>1</td>\n",
       "      <td>0</td>\n",
       "      <td>0</td>\n",
       "      <td>1</td>\n",
       "      <td>...</td>\n",
       "      <td>-0.327437</td>\n",
       "      <td>-0.653917</td>\n",
       "      <td>1.191828</td>\n",
       "      <td>0.586571</td>\n",
       "      <td>0.663315</td>\n",
       "      <td>-0.787243</td>\n",
       "      <td>-0.011497</td>\n",
       "      <td>-0.359325</td>\n",
       "      <td>-0.270208</td>\n",
       "      <td>223500</td>\n",
       "    </tr>\n",
       "    <tr>\n",
       "      <th>4</th>\n",
       "      <td>0</td>\n",
       "      <td>0</td>\n",
       "      <td>0</td>\n",
       "      <td>0</td>\n",
       "      <td>1</td>\n",
       "      <td>0</td>\n",
       "      <td>1</td>\n",
       "      <td>0</td>\n",
       "      <td>0</td>\n",
       "      <td>1</td>\n",
       "      <td>...</td>\n",
       "      <td>-0.739702</td>\n",
       "      <td>-0.540801</td>\n",
       "      <td>0.939328</td>\n",
       "      <td>0.443182</td>\n",
       "      <td>0.827539</td>\n",
       "      <td>-0.787243</td>\n",
       "      <td>-0.144872</td>\n",
       "      <td>4.092524</td>\n",
       "      <td>-0.270208</td>\n",
       "      <td>140000</td>\n",
       "    </tr>\n",
       "    <tr>\n",
       "      <th>5</th>\n",
       "      <td>0</td>\n",
       "      <td>0</td>\n",
       "      <td>0</td>\n",
       "      <td>1</td>\n",
       "      <td>0</td>\n",
       "      <td>0</td>\n",
       "      <td>1</td>\n",
       "      <td>0</td>\n",
       "      <td>0</td>\n",
       "      <td>1</td>\n",
       "      <td>...</td>\n",
       "      <td>0.238172</td>\n",
       "      <td>-0.033157</td>\n",
       "      <td>1.621080</td>\n",
       "      <td>1.442744</td>\n",
       "      <td>1.764579</td>\n",
       "      <td>0.859156</td>\n",
       "      <td>0.788753</td>\n",
       "      <td>-0.359325</td>\n",
       "      <td>-0.270208</td>\n",
       "      <td>250000</td>\n",
       "    </tr>\n",
       "    <tr>\n",
       "      <th>...</th>\n",
       "      <td>...</td>\n",
       "      <td>...</td>\n",
       "      <td>...</td>\n",
       "      <td>...</td>\n",
       "      <td>...</td>\n",
       "      <td>...</td>\n",
       "      <td>...</td>\n",
       "      <td>...</td>\n",
       "      <td>...</td>\n",
       "      <td>...</td>\n",
       "      <td>...</td>\n",
       "      <td>...</td>\n",
       "      <td>...</td>\n",
       "      <td>...</td>\n",
       "      <td>...</td>\n",
       "      <td>...</td>\n",
       "      <td>...</td>\n",
       "      <td>...</td>\n",
       "      <td>...</td>\n",
       "      <td>...</td>\n",
       "      <td>...</td>\n",
       "    </tr>\n",
       "    <tr>\n",
       "      <th>1456</th>\n",
       "      <td>0</td>\n",
       "      <td>0</td>\n",
       "      <td>0</td>\n",
       "      <td>1</td>\n",
       "      <td>0</td>\n",
       "      <td>0</td>\n",
       "      <td>1</td>\n",
       "      <td>0</td>\n",
       "      <td>0</td>\n",
       "      <td>1</td>\n",
       "      <td>...</td>\n",
       "      <td>-0.244481</td>\n",
       "      <td>-0.562873</td>\n",
       "      <td>0.797009</td>\n",
       "      <td>0.297716</td>\n",
       "      <td>-0.051541</td>\n",
       "      <td>-0.787243</td>\n",
       "      <td>-0.049605</td>\n",
       "      <td>-0.359325</td>\n",
       "      <td>-0.270208</td>\n",
       "      <td>175000</td>\n",
       "    </tr>\n",
       "    <tr>\n",
       "      <th>1457</th>\n",
       "      <td>0</td>\n",
       "      <td>1</td>\n",
       "      <td>0</td>\n",
       "      <td>0</td>\n",
       "      <td>0</td>\n",
       "      <td>0</td>\n",
       "      <td>1</td>\n",
       "      <td>0</td>\n",
       "      <td>0</td>\n",
       "      <td>1</td>\n",
       "      <td>...</td>\n",
       "      <td>1.236157</td>\n",
       "      <td>2.527134</td>\n",
       "      <td>-0.796041</td>\n",
       "      <td>1.182983</td>\n",
       "      <td>0.141664</td>\n",
       "      <td>2.205430</td>\n",
       "      <td>-0.811747</td>\n",
       "      <td>-0.359325</td>\n",
       "      <td>-0.270208</td>\n",
       "      <td>210000</td>\n",
       "    </tr>\n",
       "    <tr>\n",
       "      <th>1458</th>\n",
       "      <td>0</td>\n",
       "      <td>0</td>\n",
       "      <td>0</td>\n",
       "      <td>0</td>\n",
       "      <td>1</td>\n",
       "      <td>0</td>\n",
       "      <td>1</td>\n",
       "      <td>0</td>\n",
       "      <td>0</td>\n",
       "      <td>1</td>\n",
       "      <td>...</td>\n",
       "      <td>0.255769</td>\n",
       "      <td>0.085477</td>\n",
       "      <td>1.848330</td>\n",
       "      <td>1.737833</td>\n",
       "      <td>-1.056203</td>\n",
       "      <td>-0.787243</td>\n",
       "      <td>0.331467</td>\n",
       "      <td>-0.359325</td>\n",
       "      <td>-0.270208</td>\n",
       "      <td>266500</td>\n",
       "    </tr>\n",
       "    <tr>\n",
       "      <th>1459</th>\n",
       "      <td>0</td>\n",
       "      <td>1</td>\n",
       "      <td>0</td>\n",
       "      <td>0</td>\n",
       "      <td>0</td>\n",
       "      <td>0</td>\n",
       "      <td>1</td>\n",
       "      <td>0</td>\n",
       "      <td>0</td>\n",
       "      <td>1</td>\n",
       "      <td>...</td>\n",
       "      <td>0.069746</td>\n",
       "      <td>-0.218006</td>\n",
       "      <td>-0.796041</td>\n",
       "      <td>-0.884718</td>\n",
       "      <td>-1.114164</td>\n",
       "      <td>2.351205</td>\n",
       "      <td>-0.811747</td>\n",
       "      <td>1.473789</td>\n",
       "      <td>-0.270208</td>\n",
       "      <td>142125</td>\n",
       "    </tr>\n",
       "    <tr>\n",
       "      <th>1460</th>\n",
       "      <td>0</td>\n",
       "      <td>1</td>\n",
       "      <td>0</td>\n",
       "      <td>0</td>\n",
       "      <td>0</td>\n",
       "      <td>0</td>\n",
       "      <td>1</td>\n",
       "      <td>0</td>\n",
       "      <td>0</td>\n",
       "      <td>1</td>\n",
       "      <td>...</td>\n",
       "      <td>0.517206</td>\n",
       "      <td>0.273084</td>\n",
       "      <td>-0.796041</td>\n",
       "      <td>-0.514818</td>\n",
       "      <td>-0.940280</td>\n",
       "      <td>2.814254</td>\n",
       "      <td>0.483895</td>\n",
       "      <td>-0.359325</td>\n",
       "      <td>-0.270208</td>\n",
       "      <td>147500</td>\n",
       "    </tr>\n",
       "  </tbody>\n",
       "</table>\n",
       "<p>1460 rows × 236 columns</p>\n",
       "</div>"
      ],
      "text/plain": [
       "      MSSubClass_120  MSSubClass_20  MSSubClass_50  MSSubClass_60  \\\n",
       "Id                                                                  \n",
       "1                  0              0              0              1   \n",
       "2                  0              1              0              0   \n",
       "3                  0              0              0              1   \n",
       "4                  0              0              0              0   \n",
       "5                  0              0              0              1   \n",
       "...              ...            ...            ...            ...   \n",
       "1456               0              0              0              1   \n",
       "1457               0              1              0              0   \n",
       "1458               0              0              0              0   \n",
       "1459               0              1              0              0   \n",
       "1460               0              1              0              0   \n",
       "\n",
       "      MSSubClass_OTHER  MSZoning_OTHER  MSZoning_RL  MSZoning_RM  Street_Grvl  \\\n",
       "Id                                                                              \n",
       "1                    0               0            1            0            0   \n",
       "2                    0               0            1            0            0   \n",
       "3                    0               0            1            0            0   \n",
       "4                    1               0            1            0            0   \n",
       "5                    0               0            1            0            0   \n",
       "...                ...             ...          ...          ...          ...   \n",
       "1456                 0               0            1            0            0   \n",
       "1457                 0               0            1            0            0   \n",
       "1458                 1               0            1            0            0   \n",
       "1459                 0               0            1            0            0   \n",
       "1460                 0               0            1            0            0   \n",
       "\n",
       "      Street_Pave  ...  TotalBsmtSF  1stFlrSF  2ndFlrSF  GrLivArea  \\\n",
       "Id                 ...                                               \n",
       "1               1  ...    -0.488321 -0.830489  1.164283   0.428636   \n",
       "2               1  ...     0.532289  0.289638 -0.796041  -0.502349   \n",
       "3               1  ...    -0.327437 -0.653917  1.191828   0.586571   \n",
       "4               1  ...    -0.739702 -0.540801  0.939328   0.443182   \n",
       "5               1  ...     0.238172 -0.033157  1.621080   1.442744   \n",
       "...           ...  ...          ...       ...       ...        ...   \n",
       "1456            1  ...    -0.244481 -0.562873  0.797009   0.297716   \n",
       "1457            1  ...     1.236157  2.527134 -0.796041   1.182983   \n",
       "1458            1  ...     0.255769  0.085477  1.848330   1.737833   \n",
       "1459            1  ...     0.069746 -0.218006 -0.796041  -0.884718   \n",
       "1460            1  ...     0.517206  0.273084 -0.796041  -0.514818   \n",
       "\n",
       "      GarageArea  WoodDeckSF  OpenPorchSF  EnclosedPorch  ScreenPorch   label  \n",
       "Id                                                                             \n",
       "1       0.373509   -0.787243     0.350520      -0.359325    -0.270208  208500  \n",
       "2      -0.051541    1.768105    -0.811747      -0.359325    -0.270208  181500  \n",
       "3       0.663315   -0.787243    -0.011497      -0.359325    -0.270208  223500  \n",
       "4       0.827539   -0.787243    -0.144872       4.092524    -0.270208  140000  \n",
       "5       1.764579    0.859156     0.788753      -0.359325    -0.270208  250000  \n",
       "...          ...         ...          ...            ...          ...     ...  \n",
       "1456   -0.051541   -0.787243    -0.049605      -0.359325    -0.270208  175000  \n",
       "1457    0.141664    2.205430    -0.811747      -0.359325    -0.270208  210000  \n",
       "1458   -1.056203   -0.787243     0.331467      -0.359325    -0.270208  266500  \n",
       "1459   -1.114164    2.351205    -0.811747       1.473789    -0.270208  142125  \n",
       "1460   -0.940280    2.814254     0.483895      -0.359325    -0.270208  147500  \n",
       "\n",
       "[1460 rows x 236 columns]"
      ]
     },
     "execution_count": 1,
     "metadata": {},
     "output_type": "execute_result"
    }
   ],
   "source": [
    "import pandas as pd\n",
    "data = pd.read_parquet('./data/full_data.parquet')\n",
    "data"
   ]
  },
  {
   "cell_type": "code",
   "execution_count": 2,
   "id": "7b41fc36",
   "metadata": {
    "execution": {
     "iopub.execute_input": "2022-05-10T09:31:08.863120Z",
     "iopub.status.busy": "2022-05-10T09:31:08.862638Z",
     "iopub.status.idle": "2022-05-10T09:31:08.871386Z",
     "shell.execute_reply": "2022-05-10T09:31:08.870132Z",
     "shell.execute_reply.started": "2022-05-10T09:31:08.863081Z"
    },
    "tags": []
   },
   "outputs": [
    {
     "data": {
      "text/plain": [
       "(1460, 236)"
      ]
     },
     "execution_count": 2,
     "metadata": {},
     "output_type": "execute_result"
    }
   ],
   "source": [
    "data.shape"
   ]
  },
  {
   "cell_type": "markdown",
   "id": "26be7fe1",
   "metadata": {},
   "source": [
    "We have dataset with 1460 rows and 237 columns. "
   ]
  },
  {
   "cell_type": "markdown",
   "id": "9ece4f12",
   "metadata": {},
   "source": [
    "## Label Binarization \n",
    "To obtain a binary variable that we can use as the response variable in a logistic regression, we have to create a new target variable **Label_b** for expensive saleprice (1) and other saleprices (0). \n",
    "For convenience we devide expensive and other prices based on the value of sales. The top 10% of highest prices are expensive, it stands for the threshold is quantil 0.90."
   ]
  },
  {
   "cell_type": "code",
   "execution_count": 3,
   "id": "bec4e522",
   "metadata": {
    "execution": {
     "iopub.execute_input": "2022-05-10T09:31:10.590171Z",
     "iopub.status.busy": "2022-05-10T09:31:10.589740Z",
     "iopub.status.idle": "2022-05-10T09:31:10.595287Z",
     "shell.execute_reply": "2022-05-10T09:31:10.594033Z",
     "shell.execute_reply.started": "2022-05-10T09:31:10.590133Z"
    },
    "tags": []
   },
   "outputs": [],
   "source": [
    "import numpy as np"
   ]
  },
  {
   "cell_type": "code",
   "execution_count": 4,
   "id": "e4ae94e2",
   "metadata": {
    "execution": {
     "iopub.execute_input": "2022-05-10T09:31:11.222775Z",
     "iopub.status.busy": "2022-05-10T09:31:11.222309Z",
     "iopub.status.idle": "2022-05-10T09:31:11.235394Z",
     "shell.execute_reply": "2022-05-10T09:31:11.234239Z",
     "shell.execute_reply.started": "2022-05-10T09:31:11.222738Z"
    },
    "tags": []
   },
   "outputs": [],
   "source": [
    "data['label_b'] = data['label'] >= np.quantile(data['label'], 0.9)"
   ]
  },
  {
   "cell_type": "code",
   "execution_count": 5,
   "id": "a0e3933b",
   "metadata": {
    "execution": {
     "iopub.execute_input": "2022-05-10T09:31:11.548522Z",
     "iopub.status.busy": "2022-05-10T09:31:11.548080Z",
     "iopub.status.idle": "2022-05-10T09:31:11.592800Z",
     "shell.execute_reply": "2022-05-10T09:31:11.591655Z",
     "shell.execute_reply.started": "2022-05-10T09:31:11.548476Z"
    },
    "tags": []
   },
   "outputs": [
    {
     "data": {
      "text/html": [
       "<div>\n",
       "<style scoped>\n",
       "    .dataframe tbody tr th:only-of-type {\n",
       "        vertical-align: middle;\n",
       "    }\n",
       "\n",
       "    .dataframe tbody tr th {\n",
       "        vertical-align: top;\n",
       "    }\n",
       "\n",
       "    .dataframe thead th {\n",
       "        text-align: right;\n",
       "    }\n",
       "</style>\n",
       "<table border=\"1\" class=\"dataframe\">\n",
       "  <thead>\n",
       "    <tr style=\"text-align: right;\">\n",
       "      <th></th>\n",
       "      <th>MSSubClass_120</th>\n",
       "      <th>MSSubClass_20</th>\n",
       "      <th>MSSubClass_50</th>\n",
       "      <th>MSSubClass_60</th>\n",
       "      <th>MSSubClass_OTHER</th>\n",
       "      <th>MSZoning_OTHER</th>\n",
       "      <th>MSZoning_RL</th>\n",
       "      <th>MSZoning_RM</th>\n",
       "      <th>Street_Grvl</th>\n",
       "      <th>Street_Pave</th>\n",
       "      <th>...</th>\n",
       "      <th>1stFlrSF</th>\n",
       "      <th>2ndFlrSF</th>\n",
       "      <th>GrLivArea</th>\n",
       "      <th>GarageArea</th>\n",
       "      <th>WoodDeckSF</th>\n",
       "      <th>OpenPorchSF</th>\n",
       "      <th>EnclosedPorch</th>\n",
       "      <th>ScreenPorch</th>\n",
       "      <th>label</th>\n",
       "      <th>label_b</th>\n",
       "    </tr>\n",
       "    <tr>\n",
       "      <th>Id</th>\n",
       "      <th></th>\n",
       "      <th></th>\n",
       "      <th></th>\n",
       "      <th></th>\n",
       "      <th></th>\n",
       "      <th></th>\n",
       "      <th></th>\n",
       "      <th></th>\n",
       "      <th></th>\n",
       "      <th></th>\n",
       "      <th></th>\n",
       "      <th></th>\n",
       "      <th></th>\n",
       "      <th></th>\n",
       "      <th></th>\n",
       "      <th></th>\n",
       "      <th></th>\n",
       "      <th></th>\n",
       "      <th></th>\n",
       "      <th></th>\n",
       "      <th></th>\n",
       "    </tr>\n",
       "  </thead>\n",
       "  <tbody>\n",
       "    <tr>\n",
       "      <th>1</th>\n",
       "      <td>0</td>\n",
       "      <td>0</td>\n",
       "      <td>0</td>\n",
       "      <td>1</td>\n",
       "      <td>0</td>\n",
       "      <td>0</td>\n",
       "      <td>1</td>\n",
       "      <td>0</td>\n",
       "      <td>0</td>\n",
       "      <td>1</td>\n",
       "      <td>...</td>\n",
       "      <td>-0.830489</td>\n",
       "      <td>1.164283</td>\n",
       "      <td>0.428636</td>\n",
       "      <td>0.373509</td>\n",
       "      <td>-0.787243</td>\n",
       "      <td>0.350520</td>\n",
       "      <td>-0.359325</td>\n",
       "      <td>-0.270208</td>\n",
       "      <td>208500</td>\n",
       "      <td>False</td>\n",
       "    </tr>\n",
       "    <tr>\n",
       "      <th>2</th>\n",
       "      <td>0</td>\n",
       "      <td>1</td>\n",
       "      <td>0</td>\n",
       "      <td>0</td>\n",
       "      <td>0</td>\n",
       "      <td>0</td>\n",
       "      <td>1</td>\n",
       "      <td>0</td>\n",
       "      <td>0</td>\n",
       "      <td>1</td>\n",
       "      <td>...</td>\n",
       "      <td>0.289638</td>\n",
       "      <td>-0.796041</td>\n",
       "      <td>-0.502349</td>\n",
       "      <td>-0.051541</td>\n",
       "      <td>1.768105</td>\n",
       "      <td>-0.811747</td>\n",
       "      <td>-0.359325</td>\n",
       "      <td>-0.270208</td>\n",
       "      <td>181500</td>\n",
       "      <td>False</td>\n",
       "    </tr>\n",
       "    <tr>\n",
       "      <th>3</th>\n",
       "      <td>0</td>\n",
       "      <td>0</td>\n",
       "      <td>0</td>\n",
       "      <td>1</td>\n",
       "      <td>0</td>\n",
       "      <td>0</td>\n",
       "      <td>1</td>\n",
       "      <td>0</td>\n",
       "      <td>0</td>\n",
       "      <td>1</td>\n",
       "      <td>...</td>\n",
       "      <td>-0.653917</td>\n",
       "      <td>1.191828</td>\n",
       "      <td>0.586571</td>\n",
       "      <td>0.663315</td>\n",
       "      <td>-0.787243</td>\n",
       "      <td>-0.011497</td>\n",
       "      <td>-0.359325</td>\n",
       "      <td>-0.270208</td>\n",
       "      <td>223500</td>\n",
       "      <td>False</td>\n",
       "    </tr>\n",
       "    <tr>\n",
       "      <th>4</th>\n",
       "      <td>0</td>\n",
       "      <td>0</td>\n",
       "      <td>0</td>\n",
       "      <td>0</td>\n",
       "      <td>1</td>\n",
       "      <td>0</td>\n",
       "      <td>1</td>\n",
       "      <td>0</td>\n",
       "      <td>0</td>\n",
       "      <td>1</td>\n",
       "      <td>...</td>\n",
       "      <td>-0.540801</td>\n",
       "      <td>0.939328</td>\n",
       "      <td>0.443182</td>\n",
       "      <td>0.827539</td>\n",
       "      <td>-0.787243</td>\n",
       "      <td>-0.144872</td>\n",
       "      <td>4.092524</td>\n",
       "      <td>-0.270208</td>\n",
       "      <td>140000</td>\n",
       "      <td>False</td>\n",
       "    </tr>\n",
       "    <tr>\n",
       "      <th>5</th>\n",
       "      <td>0</td>\n",
       "      <td>0</td>\n",
       "      <td>0</td>\n",
       "      <td>1</td>\n",
       "      <td>0</td>\n",
       "      <td>0</td>\n",
       "      <td>1</td>\n",
       "      <td>0</td>\n",
       "      <td>0</td>\n",
       "      <td>1</td>\n",
       "      <td>...</td>\n",
       "      <td>-0.033157</td>\n",
       "      <td>1.621080</td>\n",
       "      <td>1.442744</td>\n",
       "      <td>1.764579</td>\n",
       "      <td>0.859156</td>\n",
       "      <td>0.788753</td>\n",
       "      <td>-0.359325</td>\n",
       "      <td>-0.270208</td>\n",
       "      <td>250000</td>\n",
       "      <td>False</td>\n",
       "    </tr>\n",
       "    <tr>\n",
       "      <th>...</th>\n",
       "      <td>...</td>\n",
       "      <td>...</td>\n",
       "      <td>...</td>\n",
       "      <td>...</td>\n",
       "      <td>...</td>\n",
       "      <td>...</td>\n",
       "      <td>...</td>\n",
       "      <td>...</td>\n",
       "      <td>...</td>\n",
       "      <td>...</td>\n",
       "      <td>...</td>\n",
       "      <td>...</td>\n",
       "      <td>...</td>\n",
       "      <td>...</td>\n",
       "      <td>...</td>\n",
       "      <td>...</td>\n",
       "      <td>...</td>\n",
       "      <td>...</td>\n",
       "      <td>...</td>\n",
       "      <td>...</td>\n",
       "      <td>...</td>\n",
       "    </tr>\n",
       "    <tr>\n",
       "      <th>1456</th>\n",
       "      <td>0</td>\n",
       "      <td>0</td>\n",
       "      <td>0</td>\n",
       "      <td>1</td>\n",
       "      <td>0</td>\n",
       "      <td>0</td>\n",
       "      <td>1</td>\n",
       "      <td>0</td>\n",
       "      <td>0</td>\n",
       "      <td>1</td>\n",
       "      <td>...</td>\n",
       "      <td>-0.562873</td>\n",
       "      <td>0.797009</td>\n",
       "      <td>0.297716</td>\n",
       "      <td>-0.051541</td>\n",
       "      <td>-0.787243</td>\n",
       "      <td>-0.049605</td>\n",
       "      <td>-0.359325</td>\n",
       "      <td>-0.270208</td>\n",
       "      <td>175000</td>\n",
       "      <td>False</td>\n",
       "    </tr>\n",
       "    <tr>\n",
       "      <th>1457</th>\n",
       "      <td>0</td>\n",
       "      <td>1</td>\n",
       "      <td>0</td>\n",
       "      <td>0</td>\n",
       "      <td>0</td>\n",
       "      <td>0</td>\n",
       "      <td>1</td>\n",
       "      <td>0</td>\n",
       "      <td>0</td>\n",
       "      <td>1</td>\n",
       "      <td>...</td>\n",
       "      <td>2.527134</td>\n",
       "      <td>-0.796041</td>\n",
       "      <td>1.182983</td>\n",
       "      <td>0.141664</td>\n",
       "      <td>2.205430</td>\n",
       "      <td>-0.811747</td>\n",
       "      <td>-0.359325</td>\n",
       "      <td>-0.270208</td>\n",
       "      <td>210000</td>\n",
       "      <td>False</td>\n",
       "    </tr>\n",
       "    <tr>\n",
       "      <th>1458</th>\n",
       "      <td>0</td>\n",
       "      <td>0</td>\n",
       "      <td>0</td>\n",
       "      <td>0</td>\n",
       "      <td>1</td>\n",
       "      <td>0</td>\n",
       "      <td>1</td>\n",
       "      <td>0</td>\n",
       "      <td>0</td>\n",
       "      <td>1</td>\n",
       "      <td>...</td>\n",
       "      <td>0.085477</td>\n",
       "      <td>1.848330</td>\n",
       "      <td>1.737833</td>\n",
       "      <td>-1.056203</td>\n",
       "      <td>-0.787243</td>\n",
       "      <td>0.331467</td>\n",
       "      <td>-0.359325</td>\n",
       "      <td>-0.270208</td>\n",
       "      <td>266500</td>\n",
       "      <td>False</td>\n",
       "    </tr>\n",
       "    <tr>\n",
       "      <th>1459</th>\n",
       "      <td>0</td>\n",
       "      <td>1</td>\n",
       "      <td>0</td>\n",
       "      <td>0</td>\n",
       "      <td>0</td>\n",
       "      <td>0</td>\n",
       "      <td>1</td>\n",
       "      <td>0</td>\n",
       "      <td>0</td>\n",
       "      <td>1</td>\n",
       "      <td>...</td>\n",
       "      <td>-0.218006</td>\n",
       "      <td>-0.796041</td>\n",
       "      <td>-0.884718</td>\n",
       "      <td>-1.114164</td>\n",
       "      <td>2.351205</td>\n",
       "      <td>-0.811747</td>\n",
       "      <td>1.473789</td>\n",
       "      <td>-0.270208</td>\n",
       "      <td>142125</td>\n",
       "      <td>False</td>\n",
       "    </tr>\n",
       "    <tr>\n",
       "      <th>1460</th>\n",
       "      <td>0</td>\n",
       "      <td>1</td>\n",
       "      <td>0</td>\n",
       "      <td>0</td>\n",
       "      <td>0</td>\n",
       "      <td>0</td>\n",
       "      <td>1</td>\n",
       "      <td>0</td>\n",
       "      <td>0</td>\n",
       "      <td>1</td>\n",
       "      <td>...</td>\n",
       "      <td>0.273084</td>\n",
       "      <td>-0.796041</td>\n",
       "      <td>-0.514818</td>\n",
       "      <td>-0.940280</td>\n",
       "      <td>2.814254</td>\n",
       "      <td>0.483895</td>\n",
       "      <td>-0.359325</td>\n",
       "      <td>-0.270208</td>\n",
       "      <td>147500</td>\n",
       "      <td>False</td>\n",
       "    </tr>\n",
       "  </tbody>\n",
       "</table>\n",
       "<p>1313 rows × 237 columns</p>\n",
       "</div>"
      ],
      "text/plain": [
       "      MSSubClass_120  MSSubClass_20  MSSubClass_50  MSSubClass_60  \\\n",
       "Id                                                                  \n",
       "1                  0              0              0              1   \n",
       "2                  0              1              0              0   \n",
       "3                  0              0              0              1   \n",
       "4                  0              0              0              0   \n",
       "5                  0              0              0              1   \n",
       "...              ...            ...            ...            ...   \n",
       "1456               0              0              0              1   \n",
       "1457               0              1              0              0   \n",
       "1458               0              0              0              0   \n",
       "1459               0              1              0              0   \n",
       "1460               0              1              0              0   \n",
       "\n",
       "      MSSubClass_OTHER  MSZoning_OTHER  MSZoning_RL  MSZoning_RM  Street_Grvl  \\\n",
       "Id                                                                              \n",
       "1                    0               0            1            0            0   \n",
       "2                    0               0            1            0            0   \n",
       "3                    0               0            1            0            0   \n",
       "4                    1               0            1            0            0   \n",
       "5                    0               0            1            0            0   \n",
       "...                ...             ...          ...          ...          ...   \n",
       "1456                 0               0            1            0            0   \n",
       "1457                 0               0            1            0            0   \n",
       "1458                 1               0            1            0            0   \n",
       "1459                 0               0            1            0            0   \n",
       "1460                 0               0            1            0            0   \n",
       "\n",
       "      Street_Pave  ...  1stFlrSF  2ndFlrSF  GrLivArea  GarageArea  WoodDeckSF  \\\n",
       "Id                 ...                                                          \n",
       "1               1  ... -0.830489  1.164283   0.428636    0.373509   -0.787243   \n",
       "2               1  ...  0.289638 -0.796041  -0.502349   -0.051541    1.768105   \n",
       "3               1  ... -0.653917  1.191828   0.586571    0.663315   -0.787243   \n",
       "4               1  ... -0.540801  0.939328   0.443182    0.827539   -0.787243   \n",
       "5               1  ... -0.033157  1.621080   1.442744    1.764579    0.859156   \n",
       "...           ...  ...       ...       ...        ...         ...         ...   \n",
       "1456            1  ... -0.562873  0.797009   0.297716   -0.051541   -0.787243   \n",
       "1457            1  ...  2.527134 -0.796041   1.182983    0.141664    2.205430   \n",
       "1458            1  ...  0.085477  1.848330   1.737833   -1.056203   -0.787243   \n",
       "1459            1  ... -0.218006 -0.796041  -0.884718   -1.114164    2.351205   \n",
       "1460            1  ...  0.273084 -0.796041  -0.514818   -0.940280    2.814254   \n",
       "\n",
       "      OpenPorchSF  EnclosedPorch  ScreenPorch   label  label_b  \n",
       "Id                                                              \n",
       "1        0.350520      -0.359325    -0.270208  208500    False  \n",
       "2       -0.811747      -0.359325    -0.270208  181500    False  \n",
       "3       -0.011497      -0.359325    -0.270208  223500    False  \n",
       "4       -0.144872       4.092524    -0.270208  140000    False  \n",
       "5        0.788753      -0.359325    -0.270208  250000    False  \n",
       "...           ...            ...          ...     ...      ...  \n",
       "1456    -0.049605      -0.359325    -0.270208  175000    False  \n",
       "1457    -0.811747      -0.359325    -0.270208  210000    False  \n",
       "1458     0.331467      -0.359325    -0.270208  266500    False  \n",
       "1459    -0.811747       1.473789    -0.270208  142125    False  \n",
       "1460     0.483895      -0.359325    -0.270208  147500    False  \n",
       "\n",
       "[1313 rows x 237 columns]"
      ]
     },
     "execution_count": 5,
     "metadata": {},
     "output_type": "execute_result"
    }
   ],
   "source": [
    "data[data['label_b'] == False]"
   ]
  },
  {
   "cell_type": "markdown",
   "id": "a2e61d4d",
   "metadata": {},
   "source": [
    "Let's check whether new label is really binary (class) variable. "
   ]
  },
  {
   "cell_type": "code",
   "execution_count": 6,
   "id": "88791fcf",
   "metadata": {
    "execution": {
     "iopub.execute_input": "2022-05-10T09:31:20.122217Z",
     "iopub.status.busy": "2022-05-10T09:31:20.121736Z",
     "iopub.status.idle": "2022-05-10T09:31:20.132600Z",
     "shell.execute_reply": "2022-05-10T09:31:20.131662Z",
     "shell.execute_reply.started": "2022-05-10T09:31:20.122179Z"
    },
    "tags": []
   },
   "outputs": [
    {
     "data": {
      "text/plain": [
       "2"
      ]
     },
     "metadata": {},
     "output_type": "display_data"
    },
    {
     "data": {
      "text/plain": [
       "array([False,  True])"
      ]
     },
     "execution_count": 6,
     "metadata": {},
     "output_type": "execute_result"
    }
   ],
   "source": [
    "display(data['label_b'].nunique())\n",
    "data.label_b.unique()"
   ]
  },
  {
   "cell_type": "code",
   "execution_count": 7,
   "id": "f729f5db",
   "metadata": {
    "execution": {
     "iopub.execute_input": "2022-05-10T09:31:21.998414Z",
     "iopub.status.busy": "2022-05-10T09:31:21.997755Z",
     "iopub.status.idle": "2022-05-10T09:31:22.008117Z",
     "shell.execute_reply": "2022-05-10T09:31:22.006812Z",
     "shell.execute_reply.started": "2022-05-10T09:31:21.998375Z"
    },
    "tags": []
   },
   "outputs": [
    {
     "data": {
      "text/plain": [
       "False    1313\n",
       "True      147\n",
       "Name: label_b, dtype: int64"
      ]
     },
     "metadata": {},
     "output_type": "display_data"
    }
   ],
   "source": [
    "display(data['label_b'].value_counts())"
   ]
  },
  {
   "cell_type": "markdown",
   "id": "287ebbfd",
   "metadata": {},
   "source": [
    "### Feature selection based on Chi-square\n",
    "Compute chi-squared stats between each non-negative feature and class.\n",
    "\n",
    "This score can be used to select the N features with the highest values for the test chi-squared statistic from feature list, which must contain only non-negative features such as booleans or frequencies (e.g., term counts in document classification), relative to the classes. "
   ]
  },
  {
   "cell_type": "markdown",
   "id": "d3483ccb",
   "metadata": {},
   "source": [
    "#### Selection of categorical features  \n"
   ]
  },
  {
   "cell_type": "code",
   "execution_count": 8,
   "id": "c84f2d80",
   "metadata": {
    "execution": {
     "iopub.execute_input": "2022-05-10T09:31:25.803890Z",
     "iopub.status.busy": "2022-05-10T09:31:25.803239Z",
     "iopub.status.idle": "2022-05-10T09:31:26.104080Z",
     "shell.execute_reply": "2022-05-10T09:31:26.102825Z",
     "shell.execute_reply.started": "2022-05-10T09:31:25.803852Z"
    },
    "tags": []
   },
   "outputs": [],
   "source": [
    "unique_count_ratio = 0.05\n",
    "empty_ratio = 0.9\n",
    "min_distinct_values = 2\n",
    "excluded_features = ['label_b']\n",
    "cat_features = []\n",
    "columns = data.columns \n",
    "#consider feature categorical if ratio is below given value and number of unique records is >= 2\n",
    "for var in columns:\n",
    "    if \\\n",
    "      1.*data[var].nunique()/data[var].count() < unique_count_ratio \\\n",
    "      and data[var].nunique() >= min_distinct_values \\\n",
    "      and data[var].isna().sum() / data[var].count() < empty_ratio:\n",
    "        cat_features.append(var)\n",
    "cat_features = [f for f in cat_features if f not in excluded_features ]\n",
    "#display(cat_features)"
   ]
  },
  {
   "cell_type": "markdown",
   "id": "9bb183b6",
   "metadata": {},
   "source": [
    "#### Chi-square computation"
   ]
  },
  {
   "cell_type": "code",
   "execution_count": 102,
   "id": "ad9fa166",
   "metadata": {
    "execution": {
     "iopub.execute_input": "2022-05-10T10:40:41.910716Z",
     "iopub.status.busy": "2022-05-10T10:40:41.909784Z",
     "iopub.status.idle": "2022-05-10T10:40:41.956752Z",
     "shell.execute_reply": "2022-05-10T10:40:41.955328Z",
     "shell.execute_reply.started": "2022-05-10T10:40:41.910677Z"
    },
    "tags": []
   },
   "outputs": [
    {
     "name": "stdout",
     "output_type": "stream",
     "text": [
      "['MSSubClass_60', 'MSSubClass_OTHER', 'Neighborhood_NridgHt', 'OverallQual_5', 'OverallQual_6', 'OverallQual_8', 'OverallQual_OTHER', 'RoofStyle_Hip', 'Exterior1st_VinylSd', 'MasVnrType_None', 'MasVnrType_Stone', 'ExterQual_Gd', 'ExterQual_OTHER', 'ExterQual_TA', 'Foundation_CBlock', 'Foundation_PConc', 'BsmtQual_Ex', 'BsmtQual_TA', 'BsmtExposure_Gd', 'BsmtFinType1_GLQ', 'HeatingQC_Ex', 'HeatingQC_TA', 'BsmtFullBath_1', 'FullBath_1', 'FullBath_OTHER', 'BedroomAbvGr_4', 'KitchenQual_Ex', 'KitchenQual_TA', 'TotRmsAbvGrd_6', 'TotRmsAbvGrd_9', 'TotRmsAbvGrd_OTHER', 'Fireplaces_0', 'Fireplaces_1', 'Fireplaces_2', 'FireplaceQu_Gd', 'FireplaceQu_None', 'GarageType_BuiltIn', 'GarageType_Detchd', 'GarageFinish_Fin', 'GarageFinish_Unf', 'GarageCars_1', 'GarageCars_2', 'GarageCars_3', 'SaleType_New', 'SaleCondition_Partial', 'YearBuilt_b_Newest', 'YearBuilt_b_Old', 'GarageYrBlt_b_Newest', 'YearRemodAdd_b_Newest', 'YearRemodAdd_b_Old', 'YearRemodAdd_b_Oldest']\n"
     ]
    },
    {
     "data": {
      "text/html": [
       "<div>\n",
       "<style scoped>\n",
       "    .dataframe tbody tr th:only-of-type {\n",
       "        vertical-align: middle;\n",
       "    }\n",
       "\n",
       "    .dataframe tbody tr th {\n",
       "        vertical-align: top;\n",
       "    }\n",
       "\n",
       "    .dataframe thead th {\n",
       "        text-align: right;\n",
       "    }\n",
       "</style>\n",
       "<table border=\"1\" class=\"dataframe\">\n",
       "  <thead>\n",
       "    <tr style=\"text-align: right;\">\n",
       "      <th></th>\n",
       "      <th>chi_sq_value</th>\n",
       "      <th>p_value</th>\n",
       "    </tr>\n",
       "    <tr>\n",
       "      <th>feature</th>\n",
       "      <th></th>\n",
       "      <th></th>\n",
       "    </tr>\n",
       "  </thead>\n",
       "  <tbody>\n",
       "    <tr>\n",
       "      <th>GarageCars_3</th>\n",
       "      <td>491.774317</td>\n",
       "      <td>5.857906e-109</td>\n",
       "    </tr>\n",
       "    <tr>\n",
       "      <th>BsmtQual_Ex</th>\n",
       "      <td>432.246324</td>\n",
       "      <td>5.272040e-96</td>\n",
       "    </tr>\n",
       "    <tr>\n",
       "      <th>KitchenQual_Ex</th>\n",
       "      <td>309.422696</td>\n",
       "      <td>2.917339e-69</td>\n",
       "    </tr>\n",
       "    <tr>\n",
       "      <th>OverallQual_OTHER</th>\n",
       "      <td>275.776845</td>\n",
       "      <td>6.250565e-62</td>\n",
       "    </tr>\n",
       "    <tr>\n",
       "      <th>Neighborhood_NridgHt</th>\n",
       "      <td>232.330149</td>\n",
       "      <td>1.850065e-52</td>\n",
       "    </tr>\n",
       "    <tr>\n",
       "      <th>...</th>\n",
       "      <td>...</td>\n",
       "      <td>...</td>\n",
       "    </tr>\n",
       "    <tr>\n",
       "      <th>3SsnPorch_0</th>\n",
       "      <td>0.002619</td>\n",
       "      <td>9.591848e-01</td>\n",
       "    </tr>\n",
       "    <tr>\n",
       "      <th>Condition2_Norm</th>\n",
       "      <td>0.001833</td>\n",
       "      <td>9.658502e-01</td>\n",
       "    </tr>\n",
       "    <tr>\n",
       "      <th>PoolArea_0</th>\n",
       "      <td>0.000662</td>\n",
       "      <td>9.794673e-01</td>\n",
       "    </tr>\n",
       "    <tr>\n",
       "      <th>TotRmsAbvGrd_7</th>\n",
       "      <td>0.000527</td>\n",
       "      <td>9.816784e-01</td>\n",
       "    </tr>\n",
       "    <tr>\n",
       "      <th>Utilities_AllPub</th>\n",
       "      <td>0.000077</td>\n",
       "      <td>9.930107e-01</td>\n",
       "    </tr>\n",
       "  </tbody>\n",
       "</table>\n",
       "<p>220 rows × 2 columns</p>\n",
       "</div>"
      ],
      "text/plain": [
       "                      chi_sq_value        p_value\n",
       "feature                                          \n",
       "GarageCars_3            491.774317  5.857906e-109\n",
       "BsmtQual_Ex             432.246324   5.272040e-96\n",
       "KitchenQual_Ex          309.422696   2.917339e-69\n",
       "OverallQual_OTHER       275.776845   6.250565e-62\n",
       "Neighborhood_NridgHt    232.330149   1.850065e-52\n",
       "...                            ...            ...\n",
       "3SsnPorch_0               0.002619   9.591848e-01\n",
       "Condition2_Norm           0.001833   9.658502e-01\n",
       "PoolArea_0                0.000662   9.794673e-01\n",
       "TotRmsAbvGrd_7            0.000527   9.816784e-01\n",
       "Utilities_AllPub          0.000077   9.930107e-01\n",
       "\n",
       "[220 rows x 2 columns]"
      ]
     },
     "metadata": {},
     "output_type": "display_data"
    }
   ],
   "source": [
    "from sklearn.feature_selection import chi2\n",
    "#cat_features_only = data.drop(['label', 'label_b'], axis=1)\n",
    "chi = chi2(data[cat_features], data.label_b)\n",
    "chi_table = pd.DataFrame()\n",
    "chi_table['chi_sq_value'] = chi[0]\n",
    "chi_table['p_value'] = chi[1]\n",
    "chi_table['feature'] = cat_features\n",
    "\n",
    "treshold = chi_table['chi_sq_value'].unique()\n",
    "treshold.sort()\n",
    "topn = 50\n",
    "\n",
    "filtered_features = chi_table[chi_table['chi_sq_value'] > treshold[-(topn + 1)]]['feature'].tolist()\n",
    "print(filtered_features)\n",
    "pd.set_option('display.max_rows', 10)\n",
    "display(chi_table.set_index('feature').sort_values('p_value', ascending=True))\n",
    "pd.set_option('display.max_rows', 10)"
   ]
  },
  {
   "cell_type": "markdown",
   "id": "7be314dc",
   "metadata": {},
   "source": [
    "## Introduction into Discrete Regression\n",
    "Regression with discrete dependent variables (e.g., binary outcomes) requires different techniques than the linear regression model that we have seen so far. \n",
    "\n",
    "This procedure, which is known as logistic regression, is an example of a binary classifier. \n",
    "\n",
    "E.g. the statsmodels library provides several methods for discrete regression:\n",
    "* the **Logit** class,\n",
    "* the related **Probit** class (which uses a cumulative distribution function of the normal distribution rather than the logistic  function to transform the linear predictor to the [0, 1] interval), \n",
    "* the multinomial logistic regression class **MNLogit** (for more than two categories), and \n",
    "* the Poisson regression class **Poisson** for Poisson-distributed count variables (positive integers)."
   ]
  },
  {
   "cell_type": "markdown",
   "id": "ed72cf73",
   "metadata": {},
   "source": [
    "Here we will create a logistic model for predicting the type of saleprice from our features. "
   ]
  },
  {
   "cell_type": "markdown",
   "id": "8873a4a7",
   "metadata": {},
   "source": [
    "## <font color='orange'> Logistic Regression </font>\n",
    "\n",
    "Binary model is a type of model which solves a classification problem!!!\n",
    "\n",
    "logistic regression is a powerful and robust statistical technique for predicting the probability of an event occurring. \n",
    "\n",
    "Robust technique means that the model will perform well and hold up over time. \n",
    "Because the predictors are linear in the log of the odds, the trick is to get the predictors as linear as possible. \n",
    "There are several ways to accomplish this. \n",
    "\n",
    "Logistic regression sees all predictive variables as continuous. So for the noncontinuous variables, we have to use dummy variables to trick the model into thinking they are continuous.\n"
   ]
  },
  {
   "cell_type": "markdown",
   "id": "a61d092b",
   "metadata": {},
   "source": [
    "### Splitting dataset into train and test\n",
    "\n",
    "This ability to generalize is often measured with a validation set. scikit-learn provides a convenient function to split up our data, train_test_split. X_train and y_train now contain the training set, and X_test and y_test now contain the test or validation set, which by default contains 25% of the examples.\n",
    "\n",
    "Let's split our dataset into train and test, it is important these two do not communicate during the training.\n",
    "This means we will train on 70% of the data and test on the remaining 30."
   ]
  },
  {
   "cell_type": "code",
   "execution_count": 103,
   "id": "df3df275",
   "metadata": {
    "execution": {
     "iopub.execute_input": "2022-05-10T10:41:00.857981Z",
     "iopub.status.busy": "2022-05-10T10:41:00.857523Z",
     "iopub.status.idle": "2022-05-10T10:41:00.873960Z",
     "shell.execute_reply": "2022-05-10T10:41:00.872815Z",
     "shell.execute_reply.started": "2022-05-10T10:41:00.857943Z"
    },
    "tags": []
   },
   "outputs": [
    {
     "name": "stdout",
     "output_type": "stream",
     "text": [
      "\n",
      "Frequencies of target variable in training data set:\n",
      " False    920\n",
      "True     102\n",
      "Name: label_b, dtype: int64\n",
      "\n",
      "Frequencies of target variable in testing data set:\n",
      " False    393\n",
      "True      45\n",
      "Name: label_b, dtype: int64\n"
     ]
    }
   ],
   "source": [
    "from sklearn.model_selection import train_test_split\n",
    "\n",
    "X_train, X_test, y_train, y_test = train_test_split(data[filtered_features], data.label_b, test_size=0.30, random_state=42) \n",
    "print('\\nFrequencies of target variable in training data set:\\n',y_train.value_counts())\n",
    "print('\\nFrequencies of target variable in testing data set:\\n',y_test.value_counts())"
   ]
  },
  {
   "cell_type": "markdown",
   "id": "f569906c",
   "metadata": {},
   "source": [
    "### Logistic regression in Python\n",
    "\n",
    "* scikit learn \n",
    "* statmodels \n"
   ]
  },
  {
   "cell_type": "markdown",
   "id": "36f33d14",
   "metadata": {
    "execution": {
     "iopub.execute_input": "2021-04-27T09:09:27.636698Z",
     "iopub.status.busy": "2021-04-27T09:09:27.636350Z",
     "iopub.status.idle": "2021-04-27T09:09:27.641612Z",
     "shell.execute_reply": "2021-04-27T09:09:27.639965Z",
     "shell.execute_reply.started": "2021-04-27T09:09:27.636665Z"
    },
    "tags": []
   },
   "source": [
    "#### Sklearn library"
   ]
  },
  {
   "cell_type": "code",
   "execution_count": 105,
   "id": "3f83e04e",
   "metadata": {
    "execution": {
     "iopub.execute_input": "2022-05-10T10:41:07.589277Z",
     "iopub.status.busy": "2022-05-10T10:41:07.588790Z",
     "iopub.status.idle": "2022-05-10T10:41:07.643584Z",
     "shell.execute_reply": "2022-05-10T10:41:07.642514Z",
     "shell.execute_reply.started": "2022-05-10T10:41:07.589242Z"
    },
    "tags": []
   },
   "outputs": [
    {
     "name": "stdout",
     "output_type": "stream",
     "text": [
      "              precision    recall  f1-score   support\n",
      "\n",
      "       False       0.97      0.97      0.97       395\n",
      "        True       0.73      0.77      0.75        43\n",
      "\n",
      "    accuracy                           0.95       438\n",
      "   macro avg       0.85      0.87      0.86       438\n",
      "weighted avg       0.95      0.95      0.95       438\n",
      "\n",
      "[[383  12]\n",
      " [ 10  33]]\n",
      "\n",
      "Accuracy Score for Logistic regression model:  0.9497716894977168\n"
     ]
    }
   ],
   "source": [
    "from sklearn.linear_model import LogisticRegression\n",
    "from sklearn.metrics import accuracy_score,classification_report,confusion_matrix,mean_squared_error, f1_score\n",
    "\n",
    "log_model = LogisticRegression()\n",
    "log_model.fit(X_train, y_train)\n",
    "\n",
    "y_pred=log_model.predict(X_test)\n",
    "\n",
    "print(classification_report(y_pred, y_test))\n",
    "print(confusion_matrix(y_pred, y_test))\n",
    "print('\\nAccuracy Score for Logistic regression model: ', accuracy_score(y_pred,y_test))"
   ]
  },
  {
   "cell_type": "code",
   "execution_count": 87,
   "id": "4e0cd214",
   "metadata": {
    "execution": {
     "iopub.execute_input": "2022-05-10T10:37:52.975207Z",
     "iopub.status.busy": "2022-05-10T10:37:52.974779Z",
     "iopub.status.idle": "2022-05-10T10:37:52.984245Z",
     "shell.execute_reply": "2022-05-10T10:37:52.983144Z",
     "shell.execute_reply.started": "2022-05-10T10:37:52.975169Z"
    },
    "tags": []
   },
   "outputs": [],
   "source": [
    "log_f1 = f1_score(y_pred, y_test)"
   ]
  },
  {
   "cell_type": "markdown",
   "id": "d46b0f20",
   "metadata": {},
   "source": [
    "#### Statsmodels library\n",
    "We can now see how to solve the same example using the statsmodels library, specifically the logit package, that is for logistic regression. The package contains an optimised and efficient algorithm to find the correct regression parameters.\n"
   ]
  },
  {
   "cell_type": "code",
   "execution_count": 113,
   "id": "b4a513fd",
   "metadata": {
    "execution": {
     "iopub.execute_input": "2022-05-10T10:44:12.609900Z",
     "iopub.status.busy": "2022-05-10T10:44:12.609421Z",
     "iopub.status.idle": "2022-05-10T10:44:12.756043Z",
     "shell.execute_reply": "2022-05-10T10:44:12.754788Z",
     "shell.execute_reply.started": "2022-05-10T10:44:12.609861Z"
    },
    "tags": []
   },
   "outputs": [
    {
     "name": "stdout",
     "output_type": "stream",
     "text": [
      "Warning: Maximum number of iterations has been exceeded.\n",
      "         Current function value: 0.550882\n",
      "         Iterations: 35\n",
      "                                Results: Logit\n",
      "===============================================================================\n",
      "Model:                   Logit                 Pseudo R-squared:      -0.697   \n",
      "Dependent Variable:      label_b               AIC:                   1156.0036\n",
      "Date:                    2022-05-10 10:44      BIC:                   1229.9464\n",
      "No. Observations:        1022                  Log-Likelihood:        -563.00  \n",
      "Df Model:                14                    LL-Null:               -331.80  \n",
      "Df Residuals:            1007                  LLR p-value:           1.0000   \n",
      "Converged:               0.0000                Scale:                 1.0000   \n",
      "No. Iterations:          35.0000                                               \n",
      "-------------------------------------------------------------------------------\n",
      "                       Coef.    Std.Err.     z    P>|z|     [0.025     0.975]  \n",
      "-------------------------------------------------------------------------------\n",
      "GarageCars_3            1.1929     0.2999  3.9782 0.0001      0.6052     1.7806\n",
      "BsmtQual_Ex             2.4100     0.3977  6.0605 0.0000      1.6306     3.1894\n",
      "KitchenQual_Ex          1.6233     0.4292  3.7822 0.0002      0.7821     2.4644\n",
      "OverallQual_OTHER       0.3038     0.4074  0.7457 0.4559     -0.4947     1.1022\n",
      "Neighborhood_NridgHt    0.6713     0.4608  1.4570 0.1451     -0.2317     1.5744\n",
      "ExterQual_OTHER        -0.3973     0.4507 -0.8815 0.3781     -1.2805     0.4860\n",
      "OverallQual_8           0.4872     0.2787  1.7477 0.0805     -0.0592     1.0335\n",
      "MasVnrType_Stone        0.2023     0.3403  0.5945 0.5522     -0.4646     0.8691\n",
      "SaleType_New           18.9575 12462.7201  0.0015 0.9988 -24407.5251 24445.4401\n",
      "SaleCondition_Partial -17.8887 12462.7201 -0.0014 0.9989 -24444.3713 24408.5939\n",
      "YearBuilt_b_Newest     -1.9212     0.6308 -3.0458 0.0023     -3.1576    -0.6849\n",
      "GarageYrBlt_b_Newest    0.5348     0.6545  0.8171 0.4139     -0.7480     1.8176\n",
      "GarageFinish_Fin       -1.4151     0.2205 -6.4168 0.0000     -1.8473    -0.9829\n",
      "BsmtFinType1_GLQ       -1.4074     0.1976 -7.1232 0.0000     -1.7946    -1.0201\n",
      "YearRemodAdd_b_Newest  -1.4682     0.3765 -3.8996 0.0001     -2.2061    -0.7303\n",
      "===============================================================================\n",
      "\n"
     ]
    },
    {
     "name": "stderr",
     "output_type": "stream",
     "text": [
      "/opt/conda/lib/python3.8/site-packages/statsmodels/base/model.py:566: ConvergenceWarning: Maximum Likelihood optimization failed to converge. Check mle_retvals\n",
      "  warnings.warn(\"Maximum Likelihood optimization failed to \"\n"
     ]
    }
   ],
   "source": [
    "import statsmodels.api as sm\n",
    "\n",
    "log_model2 = sm.Logit(y_train.astype(int), \n",
    "                      X_train[['GarageCars_3', 'BsmtQual_Ex', 'KitchenQual_Ex', 'OverallQual_OTHER', \n",
    "                               'Neighborhood_NridgHt', 'ExterQual_OTHER', 'OverallQual_8', \n",
    "                               'MasVnrType_Stone', 'SaleType_New', 'SaleCondition_Partial', \n",
    "                               'YearBuilt_b_Newest', 'GarageYrBlt_b_Newest', 'GarageFinish_Fin', \n",
    "                               'BsmtFinType1_GLQ', 'YearRemodAdd_b_Newest']])\n",
    "result_log= log_model2.fit()\n",
    "print(result_log.summary2())"
   ]
  },
  {
   "cell_type": "markdown",
   "id": "fd048d23",
   "metadata": {},
   "source": [
    "#### Explanation of some of the terms in the summary table\n",
    "\n",
    "**coef**: the coefficients of the independent variables in the regression equation.\n",
    "    \n",
    "**Log-Likelihood**: the natural logarithm of the Maximum Likelihood Estimation(MLE) function. MLE is the optimisation process of finding the set of parameters which result in best fit.\n",
    "    \n",
    "**LL-Null**: the value of log-likelihood of the model when no independent variable is included(only an intercept is included).\n",
    "    \n",
    "**Pseudo R-squ.**: a substitute for the R-squared value in Least Squares linear regression. It is the ratio of the log-likelihood of the null model to that of the full model.\n",
    "    "
   ]
  },
  {
   "cell_type": "markdown",
   "id": "3f9efc1c",
   "metadata": {},
   "source": [
    "## <font color='orange'>Decision Tree </font>\n",
    "\n",
    "The goal of a classification tree is to sequentially partition the data to maximize the differences in the dependent\n",
    "variable. It is often referred to as a decision tree. \n",
    "\n",
    "The true purpose of a classification tree is to classify the data into distinct groups or branches that create the strongest separation in the values of the dependent variable.\n",
    "\n",
    "Classification trees are very good at identifying segments with a desired behavior such as response or activation. This\n",
    "identification can be quite useful when a company is trying to understand what is driving market behavior. \n",
    "It also has an advantage over regression in its ability to detect nonlinear relationships. This can be very useful in identifying\n",
    "interactions for inputs into other modeling techniques.\n",
    "\n",
    "Classification trees are \"grown\" through a series of steps and rules that offer great flexibility. \n",
    "\n",
    "A definite advantage of classification trees over other techniques is their ability to explain the results. I often develop\n",
    "complex logistic models for scoring and build a tree to explain the results to the marketers. Although the outcome is\n",
    "never identical, the tree does a good job of uncovering key drivers in the market. Due to their broad applicability,\n",
    "classification trees are a valuable tool for all types of target modeling."
   ]
  },
  {
   "cell_type": "code",
   "execution_count": 114,
   "id": "9a611bf1",
   "metadata": {
    "execution": {
     "iopub.execute_input": "2022-05-10T10:44:25.205292Z",
     "iopub.status.busy": "2022-05-10T10:44:25.204797Z",
     "iopub.status.idle": "2022-05-10T10:44:25.224708Z",
     "shell.execute_reply": "2022-05-10T10:44:25.223521Z",
     "shell.execute_reply.started": "2022-05-10T10:44:25.205248Z"
    },
    "tags": []
   },
   "outputs": [],
   "source": [
    "#importing libraries\n",
    "from sklearn.tree import DecisionTreeClassifier\n",
    "from sklearn.metrics import accuracy_score,classification_report,confusion_matrix,mean_squared_error, f1_score, make_scorer\n",
    "\n",
    "#create the model\n",
    "tree_model = DecisionTreeClassifier(max_depth=10, random_state=14) \n",
    "# training the model\n",
    "tree_model.fit(X_train, y_train)\n",
    "\n",
    "y_pred=tree_model.predict(X_test)"
   ]
  },
  {
   "cell_type": "markdown",
   "id": "f2924116",
   "metadata": {},
   "source": [
    "### Decision Tree Set-Up\n",
    "It is a good chance to discuss some of parameters:\n",
    "* criterion can be **gini** (measures how often a randomly chosen element would be incorrectly identified) or **entropy** (measures the information contained by each attribute, thus we estimate the reduction in entropy due to sorting on the attribute)\n",
    "\n",
    "* **max depth** is the maximum amount of steps the tree should do\n",
    "\n",
    "* **max leaf nodes** maximum number of nodes\n",
    "\n",
    "* **min sample split** a limit to stop further splitting, useful to avoid overfitting\n"
   ]
  },
  {
   "cell_type": "code",
   "execution_count": 115,
   "id": "ffcce20d",
   "metadata": {
    "execution": {
     "iopub.execute_input": "2022-05-10T10:44:25.699104Z",
     "iopub.status.busy": "2022-05-10T10:44:25.698603Z",
     "iopub.status.idle": "2022-05-10T10:44:25.717302Z",
     "shell.execute_reply": "2022-05-10T10:44:25.716259Z",
     "shell.execute_reply.started": "2022-05-10T10:44:25.699064Z"
    },
    "tags": []
   },
   "outputs": [],
   "source": [
    "tree_model2 = DecisionTreeClassifier(class_weight=None, criterion='gini', max_depth=10,\n",
    "            max_features=None, max_leaf_nodes=20,\n",
    "            min_impurity_decrease=0.0, min_impurity_split=None,\n",
    "            min_samples_leaf=1, min_samples_split=20,\n",
    "            min_weight_fraction_leaf=0.0, random_state=None,\n",
    "            splitter='best')\n",
    "tree_model2.fit(X_train, y_train)\n",
    "\n",
    "y_pred=tree_model2.predict(X_test)"
   ]
  },
  {
   "cell_type": "code",
   "execution_count": 116,
   "id": "4958675f",
   "metadata": {
    "execution": {
     "iopub.execute_input": "2022-05-10T10:44:25.914480Z",
     "iopub.status.busy": "2022-05-10T10:44:25.914123Z",
     "iopub.status.idle": "2022-05-10T10:44:25.926798Z",
     "shell.execute_reply": "2022-05-10T10:44:25.925601Z",
     "shell.execute_reply.started": "2022-05-10T10:44:25.914444Z"
    },
    "tags": []
   },
   "outputs": [
    {
     "data": {
      "text/plain": [
       "0.9452054794520548"
      ]
     },
     "execution_count": 116,
     "metadata": {},
     "output_type": "execute_result"
    }
   ],
   "source": [
    "# Accuracy Score\n",
    "from sklearn.metrics import accuracy_score\n",
    "tree_model2.score(X_test, y_test)\n",
    "accuracy_score(y_test, y_pred)"
   ]
  },
  {
   "cell_type": "code",
   "execution_count": 93,
   "id": "67651fe7",
   "metadata": {
    "execution": {
     "iopub.execute_input": "2022-05-10T10:38:14.730447Z",
     "iopub.status.busy": "2022-05-10T10:38:14.729677Z",
     "iopub.status.idle": "2022-05-10T10:38:14.739521Z",
     "shell.execute_reply": "2022-05-10T10:38:14.738262Z",
     "shell.execute_reply.started": "2022-05-10T10:38:14.730408Z"
    },
    "tags": []
   },
   "outputs": [
    {
     "name": "stdout",
     "output_type": "stream",
     "text": [
      "Decision Tree Prediction Score :  0.9429223744292238\n"
     ]
    }
   ],
   "source": [
    "score = accuracy_score(y_test, y_pred)\n",
    "print(\"Decision Tree Prediction Score : \", score )"
   ]
  },
  {
   "cell_type": "markdown",
   "id": "410989b5",
   "metadata": {},
   "source": [
    "### Using GridSearch Cross Validation for Tuning Parameters to Improve Classification Performance\n"
   ]
  },
  {
   "cell_type": "code",
   "execution_count": 94,
   "id": "d50e826d",
   "metadata": {
    "execution": {
     "iopub.execute_input": "2022-05-10T10:38:15.389522Z",
     "iopub.status.busy": "2022-05-10T10:38:15.388849Z",
     "iopub.status.idle": "2022-05-10T10:39:08.248498Z",
     "shell.execute_reply": "2022-05-10T10:39:08.247576Z",
     "shell.execute_reply.started": "2022-05-10T10:38:15.389443Z"
    },
    "tags": []
   },
   "outputs": [
    {
     "name": "stdout",
     "output_type": "stream",
     "text": [
      "Fitting 3 folds for each of 2352 candidates, totalling 7056 fits\n",
      "GridSearchCV(cv=3, estimator=DecisionTreeClassifier(random_state=42),\n",
      "             param_grid={'criterion': ['gini', 'entropy'],\n",
      "                         'max_depth': [5, 10, 15],\n",
      "                         'max_leaf_nodes': [2, 3, 4, 5, 6, 7, 8, 9, 10, 11, 12,\n",
      "                                            13, 14, 15, 16, 17, 18, 19, 20, 21,\n",
      "                                            22, 23, 24, 25, 26, 27, 28, 29, 30,\n",
      "                                            31, ...],\n",
      "                         'min_samples_split': [2, 3, 4, 5]},\n",
      "             scoring='accuracy', verbose=1)\n",
      "DecisionTreeClassifier(max_depth=5, max_leaf_nodes=4, random_state=42)\n",
      "0.9422718647576334\n"
     ]
    }
   ],
   "source": [
    "from sklearn.model_selection import GridSearchCV\n",
    "# define the parameters grid\n",
    "params = {'max_depth': [5,10,15], \n",
    "         'criterion' : ['gini','entropy'],\n",
    "         'max_leaf_nodes': list(range(2, 100)), \n",
    "         'min_samples_split': [2, 3, 4, 5]}\n",
    "\n",
    "# create the grid - based on roc_auc - we can change it and use 'roc_auc'\n",
    "grid_tree = GridSearchCV(DecisionTreeClassifier(random_state=42),\n",
    "                         params, verbose=1, cv=3,scoring='accuracy')\n",
    "#training\n",
    "grid_tree.fit(X_train, y_train)\n",
    "# summarize the results of the grid search\n",
    "print(grid_tree)\n",
    "# best estimator\n",
    "print(grid_tree.best_estimator_)\n",
    "# best score\n",
    "print(grid_tree.best_score_)"
   ]
  },
  {
   "cell_type": "code",
   "execution_count": 95,
   "id": "323c79ce",
   "metadata": {
    "execution": {
     "iopub.execute_input": "2022-05-10T10:39:08.417053Z",
     "iopub.status.busy": "2022-05-10T10:39:08.416741Z",
     "iopub.status.idle": "2022-05-10T10:39:08.423895Z",
     "shell.execute_reply": "2022-05-10T10:39:08.422706Z",
     "shell.execute_reply.started": "2022-05-10T10:39:08.417022Z"
    },
    "tags": []
   },
   "outputs": [
    {
     "name": "stdout",
     "output_type": "stream",
     "text": [
      "Best Score :   0.9422718647576334\n",
      "Best Parameters :  DecisionTreeClassifier(max_depth=5, max_leaf_nodes=4, random_state=42)\n"
     ]
    }
   ],
   "source": [
    "# best score\n",
    "print(\"Best Score :  \",grid_tree.best_score_)\n",
    "# best estimator\n",
    "print(\"Best Parameters : \",grid_tree.best_estimator_)"
   ]
  },
  {
   "cell_type": "code",
   "execution_count": 120,
   "id": "910a4ad7",
   "metadata": {
    "execution": {
     "iopub.execute_input": "2022-05-10T13:12:08.820082Z",
     "iopub.status.busy": "2022-05-10T13:12:08.819578Z",
     "iopub.status.idle": "2022-05-10T13:12:08.838432Z",
     "shell.execute_reply": "2022-05-10T13:12:08.837277Z",
     "shell.execute_reply.started": "2022-05-10T13:12:08.820043Z"
    },
    "tags": []
   },
   "outputs": [
    {
     "data": {
      "text/plain": [
       "0.9360730593607306"
      ]
     },
     "execution_count": 120,
     "metadata": {},
     "output_type": "execute_result"
    }
   ],
   "source": [
    "tree_classifier = DecisionTreeClassifier(class_weight=None, \n",
    "                                    criterion='entropy', \n",
    "                                    max_depth=5, \n",
    "                                    max_leaf_nodes=4, \n",
    "                                    random_state=42, \n",
    "                                    splitter='best')\n",
    "tree_classifier.fit(X_train, y_train)\n",
    "predictions = tree_classifier.predict(X_test)\n",
    "accuracy_score(y_true = y_test, y_pred = predictions)"
   ]
  },
  {
   "cell_type": "code",
   "execution_count": 121,
   "id": "674f4c0c",
   "metadata": {
    "execution": {
     "iopub.execute_input": "2022-05-10T13:12:10.012477Z",
     "iopub.status.busy": "2022-05-10T13:12:10.011969Z",
     "iopub.status.idle": "2022-05-10T13:12:10.021540Z",
     "shell.execute_reply": "2022-05-10T13:12:10.019815Z",
     "shell.execute_reply.started": "2022-05-10T13:12:10.012437Z"
    },
    "tags": []
   },
   "outputs": [],
   "source": [
    "tree_f1 = f1_score(y_pred, y_test)"
   ]
  },
  {
   "cell_type": "markdown",
   "id": "f304637a",
   "metadata": {},
   "source": [
    "### Feature importance\n",
    "Next, we can see how important are our features for this model."
   ]
  },
  {
   "cell_type": "code",
   "execution_count": 122,
   "id": "102224f2",
   "metadata": {
    "execution": {
     "iopub.execute_input": "2022-05-10T13:12:12.273736Z",
     "iopub.status.busy": "2022-05-10T13:12:12.273276Z",
     "iopub.status.idle": "2022-05-10T13:12:12.294598Z",
     "shell.execute_reply": "2022-05-10T13:12:12.293577Z",
     "shell.execute_reply.started": "2022-05-10T13:12:12.273697Z"
    },
    "tags": []
   },
   "outputs": [
    {
     "data": {
      "text/html": [
       "<div>\n",
       "<style scoped>\n",
       "    .dataframe tbody tr th:only-of-type {\n",
       "        vertical-align: middle;\n",
       "    }\n",
       "\n",
       "    .dataframe tbody tr th {\n",
       "        vertical-align: top;\n",
       "    }\n",
       "\n",
       "    .dataframe thead th {\n",
       "        text-align: right;\n",
       "    }\n",
       "</style>\n",
       "<table border=\"1\" class=\"dataframe\">\n",
       "  <thead>\n",
       "    <tr style=\"text-align: right;\">\n",
       "      <th></th>\n",
       "      <th>feat</th>\n",
       "      <th>score</th>\n",
       "    </tr>\n",
       "  </thead>\n",
       "  <tbody>\n",
       "    <tr>\n",
       "      <th>42</th>\n",
       "      <td>GarageCars_3</td>\n",
       "      <td>0.666645</td>\n",
       "    </tr>\n",
       "    <tr>\n",
       "      <th>5</th>\n",
       "      <td>OverallQual_8</td>\n",
       "      <td>0.197293</td>\n",
       "    </tr>\n",
       "    <tr>\n",
       "      <th>16</th>\n",
       "      <td>BsmtQual_Ex</td>\n",
       "      <td>0.136061</td>\n",
       "    </tr>\n",
       "    <tr>\n",
       "      <th>0</th>\n",
       "      <td>MSSubClass_60</td>\n",
       "      <td>0.000000</td>\n",
       "    </tr>\n",
       "    <tr>\n",
       "      <th>38</th>\n",
       "      <td>GarageFinish_Fin</td>\n",
       "      <td>0.000000</td>\n",
       "    </tr>\n",
       "    <tr>\n",
       "      <th>...</th>\n",
       "      <td>...</td>\n",
       "      <td>...</td>\n",
       "    </tr>\n",
       "    <tr>\n",
       "      <th>21</th>\n",
       "      <td>HeatingQC_TA</td>\n",
       "      <td>0.000000</td>\n",
       "    </tr>\n",
       "    <tr>\n",
       "      <th>22</th>\n",
       "      <td>BsmtFullBath_1</td>\n",
       "      <td>0.000000</td>\n",
       "    </tr>\n",
       "    <tr>\n",
       "      <th>23</th>\n",
       "      <td>FullBath_1</td>\n",
       "      <td>0.000000</td>\n",
       "    </tr>\n",
       "    <tr>\n",
       "      <th>24</th>\n",
       "      <td>FullBath_OTHER</td>\n",
       "      <td>0.000000</td>\n",
       "    </tr>\n",
       "    <tr>\n",
       "      <th>50</th>\n",
       "      <td>YearRemodAdd_b_Oldest</td>\n",
       "      <td>0.000000</td>\n",
       "    </tr>\n",
       "  </tbody>\n",
       "</table>\n",
       "<p>51 rows × 2 columns</p>\n",
       "</div>"
      ],
      "text/plain": [
       "                     feat     score\n",
       "42           GarageCars_3  0.666645\n",
       "5           OverallQual_8  0.197293\n",
       "16            BsmtQual_Ex  0.136061\n",
       "0           MSSubClass_60  0.000000\n",
       "38       GarageFinish_Fin  0.000000\n",
       "..                    ...       ...\n",
       "21           HeatingQC_TA  0.000000\n",
       "22         BsmtFullBath_1  0.000000\n",
       "23             FullBath_1  0.000000\n",
       "24         FullBath_OTHER  0.000000\n",
       "50  YearRemodAdd_b_Oldest  0.000000\n",
       "\n",
       "[51 rows x 2 columns]"
      ]
     },
     "execution_count": 122,
     "metadata": {},
     "output_type": "execute_result"
    }
   ],
   "source": [
    "def get_feature_importance(clsf, ftrs):\n",
    "    imp = clsf.feature_importances_.tolist()\n",
    "    feat = ftrs\n",
    "    result = pd.DataFrame({'feat':feat,'score':imp})\n",
    "    result = result.sort_values(by=['score'],ascending=False)\n",
    "    return result\n",
    "\n",
    "get_feature_importance(tree_classifier, filtered_features)\n",
    "#get_feature_importance(classifier, features)"
   ]
  },
  {
   "cell_type": "code",
   "execution_count": 123,
   "id": "0fcf4a4d",
   "metadata": {
    "execution": {
     "iopub.execute_input": "2022-05-10T13:12:17.888267Z",
     "iopub.status.busy": "2022-05-10T13:12:17.887824Z",
     "iopub.status.idle": "2022-05-10T13:12:17.906298Z",
     "shell.execute_reply": "2022-05-10T13:12:17.905181Z",
     "shell.execute_reply.started": "2022-05-10T13:12:17.888229Z"
    },
    "tags": []
   },
   "outputs": [
    {
     "data": {
      "text/plain": [
       "0.9360730593607306"
      ]
     },
     "execution_count": 123,
     "metadata": {},
     "output_type": "execute_result"
    }
   ],
   "source": [
    "tree_classifier2 = DecisionTreeClassifier(class_weight=None, \n",
    "                                    criterion='entropy', \n",
    "                                    max_depth=5, \n",
    "                                    max_leaf_nodes=4\n",
    "                                    )\n",
    "tree_classifier2.fit((X_train[['GarageCars_3', 'BsmtQual_Ex', 'OverallQual_8']]), y_train)\n",
    "predictions = tree_classifier2.predict(X_test[['GarageCars_3', 'BsmtQual_Ex', 'OverallQual_8']])\n",
    "accuracy_score(y_true = y_test, y_pred = predictions)"
   ]
  },
  {
   "cell_type": "markdown",
   "id": "0cdd981a",
   "metadata": {},
   "source": [
    "### Tree visualisation\n",
    "The good thing about trees is that it is easy to visualize"
   ]
  },
  {
   "cell_type": "code",
   "execution_count": 124,
   "id": "ca802da4",
   "metadata": {
    "execution": {
     "iopub.execute_input": "2022-05-10T13:12:19.117742Z",
     "iopub.status.busy": "2022-05-10T13:12:19.117210Z",
     "iopub.status.idle": "2022-05-10T13:12:19.177822Z",
     "shell.execute_reply": "2022-05-10T13:12:19.175526Z",
     "shell.execute_reply.started": "2022-05-10T13:12:19.117687Z"
    },
    "tags": []
   },
   "outputs": [
    {
     "data": {
      "image/svg+xml": [
       "<?xml version=\"1.0\" encoding=\"UTF-8\" standalone=\"no\"?>\n",
       "<!DOCTYPE svg PUBLIC \"-//W3C//DTD SVG 1.1//EN\"\n",
       " \"http://www.w3.org/Graphics/SVG/1.1/DTD/svg11.dtd\">\n",
       "<!-- Generated by graphviz version 2.47.1 (20210418.0311)\n",
       " -->\n",
       "<!-- Title: Tree Pages: 1 -->\n",
       "<svg width=\"608pt\" height=\"269pt\"\n",
       " viewBox=\"0.00 0.00 607.50 269.00\" xmlns=\"http://www.w3.org/2000/svg\" xmlns:xlink=\"http://www.w3.org/1999/xlink\">\n",
       "<g id=\"graph0\" class=\"graph\" transform=\"scale(1 1) rotate(0) translate(4 265)\">\n",
       "<title>Tree</title>\n",
       "<polygon fill=\"white\" stroke=\"transparent\" points=\"-4,4 -4,-265 603.5,-265 603.5,4 -4,4\"/>\n",
       "<!-- 0 -->\n",
       "<g id=\"node1\" class=\"node\">\n",
       "<title>0</title>\n",
       "<polygon fill=\"none\" stroke=\"black\" points=\"378.5,-261 228.5,-261 228.5,-193 378.5,-193 378.5,-261\"/>\n",
       "<text text-anchor=\"middle\" x=\"303.5\" y=\"-245.8\" font-family=\"Times-Roman\" font-size=\"14.00\">X[0] &lt;= 0.5</text>\n",
       "<text text-anchor=\"middle\" x=\"303.5\" y=\"-230.8\" font-family=\"Times-Roman\" font-size=\"14.00\">entropy = 0.468</text>\n",
       "<text text-anchor=\"middle\" x=\"303.5\" y=\"-215.8\" font-family=\"Times-Roman\" font-size=\"14.00\">samples = 1022</text>\n",
       "<text text-anchor=\"middle\" x=\"303.5\" y=\"-200.8\" font-family=\"Times-Roman\" font-size=\"14.00\">value = [920, 102]</text>\n",
       "</g>\n",
       "<!-- 1 -->\n",
       "<g id=\"node2\" class=\"node\">\n",
       "<title>1</title>\n",
       "<polygon fill=\"none\" stroke=\"black\" points=\"296,-157 155,-157 155,-89 296,-89 296,-157\"/>\n",
       "<text text-anchor=\"middle\" x=\"225.5\" y=\"-141.8\" font-family=\"Times-Roman\" font-size=\"14.00\">X[2] &lt;= 0.5</text>\n",
       "<text text-anchor=\"middle\" x=\"225.5\" y=\"-126.8\" font-family=\"Times-Roman\" font-size=\"14.00\">entropy = 0.207</text>\n",
       "<text text-anchor=\"middle\" x=\"225.5\" y=\"-111.8\" font-family=\"Times-Roman\" font-size=\"14.00\">samples = 893</text>\n",
       "<text text-anchor=\"middle\" x=\"225.5\" y=\"-96.8\" font-family=\"Times-Roman\" font-size=\"14.00\">value = [864, 29]</text>\n",
       "</g>\n",
       "<!-- 0&#45;&gt;1 -->\n",
       "<g id=\"edge1\" class=\"edge\">\n",
       "<title>0&#45;&gt;1</title>\n",
       "<path fill=\"none\" stroke=\"black\" d=\"M278.18,-192.88C271.5,-184.15 264.21,-174.62 257.25,-165.51\"/>\n",
       "<polygon fill=\"black\" stroke=\"black\" points=\"259.82,-163.12 250.96,-157.3 254.26,-167.37 259.82,-163.12\"/>\n",
       "<text text-anchor=\"middle\" x=\"247.66\" y=\"-178.38\" font-family=\"Times-Roman\" font-size=\"14.00\">True</text>\n",
       "</g>\n",
       "<!-- 2 -->\n",
       "<g id=\"node5\" class=\"node\">\n",
       "<title>2</title>\n",
       "<polygon fill=\"none\" stroke=\"black\" points=\"448.5,-157 314.5,-157 314.5,-89 448.5,-89 448.5,-157\"/>\n",
       "<text text-anchor=\"middle\" x=\"381.5\" y=\"-141.8\" font-family=\"Times-Roman\" font-size=\"14.00\">X[1] &lt;= 0.5</text>\n",
       "<text text-anchor=\"middle\" x=\"381.5\" y=\"-126.8\" font-family=\"Times-Roman\" font-size=\"14.00\">entropy = 0.987</text>\n",
       "<text text-anchor=\"middle\" x=\"381.5\" y=\"-111.8\" font-family=\"Times-Roman\" font-size=\"14.00\">samples = 129</text>\n",
       "<text text-anchor=\"middle\" x=\"381.5\" y=\"-96.8\" font-family=\"Times-Roman\" font-size=\"14.00\">value = [56, 73]</text>\n",
       "</g>\n",
       "<!-- 0&#45;&gt;2 -->\n",
       "<g id=\"edge4\" class=\"edge\">\n",
       "<title>0&#45;&gt;2</title>\n",
       "<path fill=\"none\" stroke=\"black\" d=\"M328.82,-192.88C335.5,-184.15 342.79,-174.62 349.75,-165.51\"/>\n",
       "<polygon fill=\"black\" stroke=\"black\" points=\"352.74,-167.37 356.04,-157.3 347.18,-163.12 352.74,-167.37\"/>\n",
       "<text text-anchor=\"middle\" x=\"359.34\" y=\"-178.38\" font-family=\"Times-Roman\" font-size=\"14.00\">False</text>\n",
       "</g>\n",
       "<!-- 3 -->\n",
       "<g id=\"node3\" class=\"node\">\n",
       "<title>3</title>\n",
       "<polygon fill=\"none\" stroke=\"black\" points=\"141,-53 0,-53 0,0 141,0 141,-53\"/>\n",
       "<text text-anchor=\"middle\" x=\"70.5\" y=\"-37.8\" font-family=\"Times-Roman\" font-size=\"14.00\">entropy = 0.094</text>\n",
       "<text text-anchor=\"middle\" x=\"70.5\" y=\"-22.8\" font-family=\"Times-Roman\" font-size=\"14.00\">samples = 827</text>\n",
       "<text text-anchor=\"middle\" x=\"70.5\" y=\"-7.8\" font-family=\"Times-Roman\" font-size=\"14.00\">value = [817, 10]</text>\n",
       "</g>\n",
       "<!-- 1&#45;&gt;3 -->\n",
       "<g id=\"edge2\" class=\"edge\">\n",
       "<title>1&#45;&gt;3</title>\n",
       "<path fill=\"none\" stroke=\"black\" d=\"M171.29,-88.95C155.08,-79.07 137.38,-68.28 121.4,-58.53\"/>\n",
       "<polygon fill=\"black\" stroke=\"black\" points=\"123.07,-55.45 112.71,-53.24 119.43,-61.43 123.07,-55.45\"/>\n",
       "</g>\n",
       "<!-- 4 -->\n",
       "<g id=\"node4\" class=\"node\">\n",
       "<title>4</title>\n",
       "<polygon fill=\"none\" stroke=\"black\" points=\"293.5,-53 159.5,-53 159.5,0 293.5,0 293.5,-53\"/>\n",
       "<text text-anchor=\"middle\" x=\"226.5\" y=\"-37.8\" font-family=\"Times-Roman\" font-size=\"14.00\">entropy = 0.866</text>\n",
       "<text text-anchor=\"middle\" x=\"226.5\" y=\"-22.8\" font-family=\"Times-Roman\" font-size=\"14.00\">samples = 66</text>\n",
       "<text text-anchor=\"middle\" x=\"226.5\" y=\"-7.8\" font-family=\"Times-Roman\" font-size=\"14.00\">value = [47, 19]</text>\n",
       "</g>\n",
       "<!-- 1&#45;&gt;4 -->\n",
       "<g id=\"edge3\" class=\"edge\">\n",
       "<title>1&#45;&gt;4</title>\n",
       "<path fill=\"none\" stroke=\"black\" d=\"M225.85,-88.95C225.94,-80.72 226.03,-71.85 226.12,-63.48\"/>\n",
       "<polygon fill=\"black\" stroke=\"black\" points=\"229.62,-63.27 226.23,-53.24 222.62,-63.2 229.62,-63.27\"/>\n",
       "</g>\n",
       "<!-- 5 -->\n",
       "<g id=\"node6\" class=\"node\">\n",
       "<title>5</title>\n",
       "<polygon fill=\"none\" stroke=\"black\" points=\"447.5,-53 313.5,-53 313.5,0 447.5,0 447.5,-53\"/>\n",
       "<text text-anchor=\"middle\" x=\"380.5\" y=\"-37.8\" font-family=\"Times-Roman\" font-size=\"14.00\">entropy = 0.914</text>\n",
       "<text text-anchor=\"middle\" x=\"380.5\" y=\"-22.8\" font-family=\"Times-Roman\" font-size=\"14.00\">samples = 76</text>\n",
       "<text text-anchor=\"middle\" x=\"380.5\" y=\"-7.8\" font-family=\"Times-Roman\" font-size=\"14.00\">value = [51, 25]</text>\n",
       "</g>\n",
       "<!-- 2&#45;&gt;5 -->\n",
       "<g id=\"edge5\" class=\"edge\">\n",
       "<title>2&#45;&gt;5</title>\n",
       "<path fill=\"none\" stroke=\"black\" d=\"M381.15,-88.95C381.06,-80.72 380.97,-71.85 380.88,-63.48\"/>\n",
       "<polygon fill=\"black\" stroke=\"black\" points=\"384.38,-63.2 380.77,-53.24 377.38,-63.27 384.38,-63.2\"/>\n",
       "</g>\n",
       "<!-- 6 -->\n",
       "<g id=\"node7\" class=\"node\">\n",
       "<title>6</title>\n",
       "<polygon fill=\"none\" stroke=\"black\" points=\"599.5,-53 465.5,-53 465.5,0 599.5,0 599.5,-53\"/>\n",
       "<text text-anchor=\"middle\" x=\"532.5\" y=\"-37.8\" font-family=\"Times-Roman\" font-size=\"14.00\">entropy = 0.451</text>\n",
       "<text text-anchor=\"middle\" x=\"532.5\" y=\"-22.8\" font-family=\"Times-Roman\" font-size=\"14.00\">samples = 53</text>\n",
       "<text text-anchor=\"middle\" x=\"532.5\" y=\"-7.8\" font-family=\"Times-Roman\" font-size=\"14.00\">value = [5, 48]</text>\n",
       "</g>\n",
       "<!-- 2&#45;&gt;6 -->\n",
       "<g id=\"edge6\" class=\"edge\">\n",
       "<title>2&#45;&gt;6</title>\n",
       "<path fill=\"none\" stroke=\"black\" d=\"M434.31,-88.95C449.95,-79.16 467.03,-68.48 482.48,-58.8\"/>\n",
       "<polygon fill=\"black\" stroke=\"black\" points=\"484.76,-61.51 491.38,-53.24 481.04,-55.57 484.76,-61.51\"/>\n",
       "</g>\n",
       "</g>\n",
       "</svg>\n"
      ],
      "text/plain": [
       "<graphviz.sources.Source at 0x7f1ea57b5ac0>"
      ]
     },
     "execution_count": 124,
     "metadata": {},
     "output_type": "execute_result"
    }
   ],
   "source": [
    "from sklearn import tree\n",
    "import graphviz\n",
    "dot_data = tree.export_graphviz(tree_classifier2, out_file=None)  \n",
    "graph = graphviz.Source(dot_data)  \n",
    "graph"
   ]
  },
  {
   "cell_type": "markdown",
   "id": "198d8b94",
   "metadata": {},
   "source": [
    "## <font color='orange'> Random Forest </font>\n",
    "Random Forest is a bagging ensambles technique. \n",
    "\n",
    "It trains on a large number of trees and combine them. \n",
    "\n",
    "The randomness comes from the fact that each tree is allowed to choose from a random subset of features to split on and each tree is trained on a random subset of observations. It means that each tree is constructed using a random sample of records and each split is constructed using a random sample of predictors.\n",
    "\n",
    "The number of features to be searched at each split point is specified as a parameter to the random forest algorithm.\n"
   ]
  },
  {
   "cell_type": "code",
   "execution_count": 125,
   "id": "7ed1989d",
   "metadata": {
    "execution": {
     "iopub.execute_input": "2022-05-10T13:12:20.606520Z",
     "iopub.status.busy": "2022-05-10T13:12:20.606072Z",
     "iopub.status.idle": "2022-05-10T13:12:24.108786Z",
     "shell.execute_reply": "2022-05-10T13:12:24.107575Z",
     "shell.execute_reply.started": "2022-05-10T13:12:20.606481Z"
    },
    "tags": []
   },
   "outputs": [
    {
     "name": "stdout",
     "output_type": "stream",
     "text": [
      "depth=  2  estimators=  100  accuracy=  0.9337899543378996\n",
      "depth=  2  estimators=  50  accuracy=  0.9315068493150684\n",
      "depth=  2  estimators=  10  accuracy=  0.9315068493150684\n",
      "depth=  3  estimators=  100  accuracy=  0.9429223744292238\n",
      "depth=  3  estimators=  50  accuracy=  0.9406392694063926\n",
      "depth=  3  estimators=  10  accuracy=  0.9406392694063926\n",
      "depth=  4  estimators=  100  accuracy=  0.9429223744292238\n",
      "depth=  4  estimators=  50  accuracy=  0.9452054794520548\n",
      "depth=  4  estimators=  10  accuracy=  0.9406392694063926\n",
      "depth=  5  estimators=  100  accuracy=  0.9497716894977168\n",
      "depth=  5  estimators=  50  accuracy=  0.9429223744292238\n",
      "depth=  5  estimators=  10  accuracy=  0.9406392694063926\n",
      "depth=  6  estimators=  100  accuracy=  0.954337899543379\n",
      "depth=  6  estimators=  50  accuracy=  0.9474885844748858\n",
      "depth=  6  estimators=  10  accuracy=  0.9383561643835616\n",
      "depth=  7  estimators=  100  accuracy=  0.95662100456621\n",
      "depth=  7  estimators=  50  accuracy=  0.958904109589041\n",
      "depth=  7  estimators=  10  accuracy=  0.952054794520548\n",
      "depth=  8  estimators=  100  accuracy=  0.95662100456621\n",
      "depth=  8  estimators=  50  accuracy=  0.954337899543379\n",
      "depth=  8  estimators=  10  accuracy=  0.9611872146118722\n",
      "depth=  9  estimators=  100  accuracy=  0.9611872146118722\n",
      "depth=  9  estimators=  50  accuracy=  0.9611872146118722\n",
      "depth=  9  estimators=  10  accuracy=  0.9611872146118722\n"
     ]
    }
   ],
   "source": [
    "from sklearn.ensemble import RandomForestClassifier \n",
    "from sklearn.metrics import accuracy_score,classification_report,confusion_matrix,mean_squared_error, f1_score, make_scorer\n",
    "\n",
    "for x in range(2,10):\n",
    "    for y in [100,50,10]:\n",
    "        forest=RandomForestClassifier(max_depth=x,n_estimators=y)\n",
    "        forest.fit(X_train,y_train)\n",
    "        y_pred=forest.predict(X_test)\n",
    "        print(\"depth= \",x,' estimators= ',y,' accuracy= ',accuracy_score(y_test,y_pred))"
   ]
  },
  {
   "cell_type": "code",
   "execution_count": 126,
   "id": "ecfcad0b",
   "metadata": {
    "execution": {
     "iopub.execute_input": "2022-05-10T13:12:24.323098Z",
     "iopub.status.busy": "2022-05-10T13:12:24.322688Z",
     "iopub.status.idle": "2022-05-10T13:12:24.602655Z",
     "shell.execute_reply": "2022-05-10T13:12:24.601380Z",
     "shell.execute_reply.started": "2022-05-10T13:12:24.323062Z"
    },
    "tags": []
   },
   "outputs": [],
   "source": [
    "from sklearn.ensemble import RandomForestClassifier \n",
    "from sklearn.metrics import accuracy_score,classification_report,confusion_matrix,mean_squared_error, f1_score, make_scorer\n",
    "\n",
    "forest_model=RandomForestClassifier(max_depth=8)\n",
    "forest_model.fit(X_train,y_train)\n",
    "\n",
    "y_pred=forest_model.predict(X_test)"
   ]
  },
  {
   "cell_type": "code",
   "execution_count": 127,
   "id": "b8403bfb",
   "metadata": {
    "execution": {
     "iopub.execute_input": "2022-05-10T13:12:24.604416Z",
     "iopub.status.busy": "2022-05-10T13:12:24.604072Z",
     "iopub.status.idle": "2022-05-10T13:12:24.612730Z",
     "shell.execute_reply": "2022-05-10T13:12:24.611533Z",
     "shell.execute_reply.started": "2022-05-10T13:12:24.604380Z"
    },
    "tags": []
   },
   "outputs": [],
   "source": [
    "forest_f1 = f1_score(y_pred, y_test)"
   ]
  },
  {
   "cell_type": "code",
   "execution_count": 128,
   "id": "439f875f",
   "metadata": {
    "execution": {
     "iopub.execute_input": "2022-05-10T13:12:24.614455Z",
     "iopub.status.busy": "2022-05-10T13:12:24.614118Z",
     "iopub.status.idle": "2022-05-10T13:12:24.656988Z",
     "shell.execute_reply": "2022-05-10T13:12:24.655858Z",
     "shell.execute_reply.started": "2022-05-10T13:12:24.614422Z"
    },
    "tags": []
   },
   "outputs": [
    {
     "data": {
      "text/html": [
       "<div>\n",
       "<style scoped>\n",
       "    .dataframe tbody tr th:only-of-type {\n",
       "        vertical-align: middle;\n",
       "    }\n",
       "\n",
       "    .dataframe tbody tr th {\n",
       "        vertical-align: top;\n",
       "    }\n",
       "\n",
       "    .dataframe thead th {\n",
       "        text-align: right;\n",
       "    }\n",
       "</style>\n",
       "<table border=\"1\" class=\"dataframe\">\n",
       "  <thead>\n",
       "    <tr style=\"text-align: right;\">\n",
       "      <th></th>\n",
       "      <th>index</th>\n",
       "      <th>0</th>\n",
       "      <th>1</th>\n",
       "    </tr>\n",
       "  </thead>\n",
       "  <tbody>\n",
       "    <tr>\n",
       "      <th>0</th>\n",
       "      <td>16</td>\n",
       "      <td>0.126888</td>\n",
       "      <td>BsmtQual_Ex</td>\n",
       "    </tr>\n",
       "    <tr>\n",
       "      <th>1</th>\n",
       "      <td>42</td>\n",
       "      <td>0.121366</td>\n",
       "      <td>GarageCars_3</td>\n",
       "    </tr>\n",
       "    <tr>\n",
       "      <th>2</th>\n",
       "      <td>5</td>\n",
       "      <td>0.078073</td>\n",
       "      <td>OverallQual_8</td>\n",
       "    </tr>\n",
       "    <tr>\n",
       "      <th>3</th>\n",
       "      <td>26</td>\n",
       "      <td>0.061034</td>\n",
       "      <td>KitchenQual_Ex</td>\n",
       "    </tr>\n",
       "    <tr>\n",
       "      <th>4</th>\n",
       "      <td>6</td>\n",
       "      <td>0.053595</td>\n",
       "      <td>OverallQual_OTHER</td>\n",
       "    </tr>\n",
       "    <tr>\n",
       "      <th>...</th>\n",
       "      <td>...</td>\n",
       "      <td>...</td>\n",
       "      <td>...</td>\n",
       "    </tr>\n",
       "    <tr>\n",
       "      <th>7</th>\n",
       "      <td>22</td>\n",
       "      <td>0.028109</td>\n",
       "      <td>BsmtFullBath_1</td>\n",
       "    </tr>\n",
       "    <tr>\n",
       "      <th>8</th>\n",
       "      <td>13</td>\n",
       "      <td>0.026981</td>\n",
       "      <td>ExterQual_TA</td>\n",
       "    </tr>\n",
       "    <tr>\n",
       "      <th>9</th>\n",
       "      <td>18</td>\n",
       "      <td>0.022929</td>\n",
       "      <td>BsmtExposure_Gd</td>\n",
       "    </tr>\n",
       "    <tr>\n",
       "      <th>10</th>\n",
       "      <td>25</td>\n",
       "      <td>0.022774</td>\n",
       "      <td>BedroomAbvGr_4</td>\n",
       "    </tr>\n",
       "    <tr>\n",
       "      <th>11</th>\n",
       "      <td>19</td>\n",
       "      <td>0.022146</td>\n",
       "      <td>BsmtFinType1_GLQ</td>\n",
       "    </tr>\n",
       "  </tbody>\n",
       "</table>\n",
       "<p>12 rows × 3 columns</p>\n",
       "</div>"
      ],
      "text/plain": [
       "    index         0                  1\n",
       "0      16  0.126888        BsmtQual_Ex\n",
       "1      42  0.121366       GarageCars_3\n",
       "2       5  0.078073      OverallQual_8\n",
       "3      26  0.061034     KitchenQual_Ex\n",
       "4       6  0.053595  OverallQual_OTHER\n",
       "..    ...       ...                ...\n",
       "7      22  0.028109     BsmtFullBath_1\n",
       "8      13  0.026981       ExterQual_TA\n",
       "9      18  0.022929    BsmtExposure_Gd\n",
       "10     25  0.022774     BedroomAbvGr_4\n",
       "11     19  0.022146   BsmtFinType1_GLQ\n",
       "\n",
       "[12 rows x 3 columns]"
      ]
     },
     "execution_count": 128,
     "metadata": {},
     "output_type": "execute_result"
    }
   ],
   "source": [
    "# Top 12 features\n",
    "features_top_12 = pd.DataFrame(zip(forest_model.feature_importances_, list(X_train.columns))  \n",
    "                              ).sort_values(by=0, ascending=False)[:12]\n",
    "features_top_12.reset_index()"
   ]
  },
  {
   "cell_type": "markdown",
   "id": "fe83c29e",
   "metadata": {},
   "source": [
    "## <font color='orange'> Ada Boost Classifier </font>\n",
    "Boosting is a sequential ensemble where each model is built based on correcting the misclassifications of the previous model.\n",
    "Boosting involves ‘weighted voting’, where each classifier votes to obtain a final outcome which is determined by the majority– but the sequential models were built by assigning greater weights to misclassified instances of the previous models."
   ]
  },
  {
   "cell_type": "code",
   "execution_count": 129,
   "id": "8b11e745",
   "metadata": {
    "execution": {
     "iopub.execute_input": "2022-05-10T13:12:24.658858Z",
     "iopub.status.busy": "2022-05-10T13:12:24.658476Z",
     "iopub.status.idle": "2022-05-10T13:12:24.678913Z",
     "shell.execute_reply": "2022-05-10T13:12:24.677800Z",
     "shell.execute_reply.started": "2022-05-10T13:12:24.658823Z"
    },
    "tags": []
   },
   "outputs": [],
   "source": [
    "from sklearn.ensemble import GradientBoostingClassifier, AdaBoostClassifier\n",
    "from sklearn.metrics import accuracy_score,classification_report,confusion_matrix,mean_squared_error, f1_score, make_scorer\n",
    "#from xgboost import XGBClassifier\n",
    "\n",
    "ada_model = AdaBoostClassifier(algorithm='SAMME',\n",
    "          base_estimator=DecisionTreeClassifier(class_weight='balanced', criterion='gini',\n",
    "            max_depth=None, max_features=None, max_leaf_nodes=None,\n",
    "            min_impurity_decrease=0.0, min_impurity_split=None,\n",
    "            min_samples_leaf=1, min_samples_split=2,\n",
    "            min_weight_fraction_leaf=0.0, random_state=None,\n",
    "            splitter='best'),\n",
    "          learning_rate=0.75, n_estimators=300, random_state=None)\n",
    "ada_model.fit(X_train,y_train)\n",
    "y_pred=ada_model.predict(X_test)"
   ]
  },
  {
   "cell_type": "code",
   "execution_count": 130,
   "id": "6378ddea",
   "metadata": {
    "execution": {
     "iopub.execute_input": "2022-05-10T13:12:24.682682Z",
     "iopub.status.busy": "2022-05-10T13:12:24.682057Z",
     "iopub.status.idle": "2022-05-10T13:12:24.691826Z",
     "shell.execute_reply": "2022-05-10T13:12:24.690566Z",
     "shell.execute_reply.started": "2022-05-10T13:12:24.682632Z"
    },
    "tags": []
   },
   "outputs": [],
   "source": [
    "ada_f1 = f1_score(y_pred, y_test)"
   ]
  },
  {
   "cell_type": "code",
   "execution_count": 131,
   "id": "0979b1ac",
   "metadata": {
    "execution": {
     "iopub.execute_input": "2022-05-10T13:12:24.792766Z",
     "iopub.status.busy": "2022-05-10T13:12:24.792316Z",
     "iopub.status.idle": "2022-05-10T13:12:24.814109Z",
     "shell.execute_reply": "2022-05-10T13:12:24.813003Z",
     "shell.execute_reply.started": "2022-05-10T13:12:24.792731Z"
    },
    "tags": []
   },
   "outputs": [
    {
     "data": {
      "text/html": [
       "<div>\n",
       "<style scoped>\n",
       "    .dataframe tbody tr th:only-of-type {\n",
       "        vertical-align: middle;\n",
       "    }\n",
       "\n",
       "    .dataframe tbody tr th {\n",
       "        vertical-align: top;\n",
       "    }\n",
       "\n",
       "    .dataframe thead th {\n",
       "        text-align: right;\n",
       "    }\n",
       "</style>\n",
       "<table border=\"1\" class=\"dataframe\">\n",
       "  <thead>\n",
       "    <tr style=\"text-align: right;\">\n",
       "      <th></th>\n",
       "      <th>index</th>\n",
       "      <th>0</th>\n",
       "      <th>1</th>\n",
       "    </tr>\n",
       "  </thead>\n",
       "  <tbody>\n",
       "    <tr>\n",
       "      <th>0</th>\n",
       "      <td>42</td>\n",
       "      <td>0.451318</td>\n",
       "      <td>GarageCars_3</td>\n",
       "    </tr>\n",
       "    <tr>\n",
       "      <th>1</th>\n",
       "      <td>5</td>\n",
       "      <td>0.182655</td>\n",
       "      <td>OverallQual_8</td>\n",
       "    </tr>\n",
       "    <tr>\n",
       "      <th>2</th>\n",
       "      <td>33</td>\n",
       "      <td>0.039385</td>\n",
       "      <td>Fireplaces_2</td>\n",
       "    </tr>\n",
       "    <tr>\n",
       "      <th>3</th>\n",
       "      <td>16</td>\n",
       "      <td>0.036752</td>\n",
       "      <td>BsmtQual_Ex</td>\n",
       "    </tr>\n",
       "    <tr>\n",
       "      <th>4</th>\n",
       "      <td>23</td>\n",
       "      <td>0.024161</td>\n",
       "      <td>FullBath_1</td>\n",
       "    </tr>\n",
       "    <tr>\n",
       "      <th>...</th>\n",
       "      <td>...</td>\n",
       "      <td>...</td>\n",
       "      <td>...</td>\n",
       "    </tr>\n",
       "    <tr>\n",
       "      <th>7</th>\n",
       "      <td>27</td>\n",
       "      <td>0.020629</td>\n",
       "      <td>KitchenQual_TA</td>\n",
       "    </tr>\n",
       "    <tr>\n",
       "      <th>8</th>\n",
       "      <td>35</td>\n",
       "      <td>0.018507</td>\n",
       "      <td>FireplaceQu_None</td>\n",
       "    </tr>\n",
       "    <tr>\n",
       "      <th>9</th>\n",
       "      <td>8</td>\n",
       "      <td>0.016963</td>\n",
       "      <td>Exterior1st_VinylSd</td>\n",
       "    </tr>\n",
       "    <tr>\n",
       "      <th>10</th>\n",
       "      <td>4</td>\n",
       "      <td>0.014000</td>\n",
       "      <td>OverallQual_6</td>\n",
       "    </tr>\n",
       "    <tr>\n",
       "      <th>11</th>\n",
       "      <td>29</td>\n",
       "      <td>0.012296</td>\n",
       "      <td>TotRmsAbvGrd_9</td>\n",
       "    </tr>\n",
       "  </tbody>\n",
       "</table>\n",
       "<p>12 rows × 3 columns</p>\n",
       "</div>"
      ],
      "text/plain": [
       "    index         0                    1\n",
       "0      42  0.451318         GarageCars_3\n",
       "1       5  0.182655        OverallQual_8\n",
       "2      33  0.039385         Fireplaces_2\n",
       "3      16  0.036752          BsmtQual_Ex\n",
       "4      23  0.024161           FullBath_1\n",
       "..    ...       ...                  ...\n",
       "7      27  0.020629       KitchenQual_TA\n",
       "8      35  0.018507     FireplaceQu_None\n",
       "9       8  0.016963  Exterior1st_VinylSd\n",
       "10      4  0.014000        OverallQual_6\n",
       "11     29  0.012296       TotRmsAbvGrd_9\n",
       "\n",
       "[12 rows x 3 columns]"
      ]
     },
     "execution_count": 131,
     "metadata": {},
     "output_type": "execute_result"
    }
   ],
   "source": [
    "# Top 12 features\n",
    "features_top_12 = pd.DataFrame(zip(ada_model.feature_importances_, list(X_train.columns))  \n",
    "                              ).sort_values(by=0, ascending=False)[:12]\n",
    "features_top_12.reset_index()"
   ]
  },
  {
   "cell_type": "markdown",
   "id": "208409e0",
   "metadata": {},
   "source": [
    "## <font color='orange'>Support Vector Machine</font>\n",
    "VMs are one of the most robust prediction methods, being based on statistical learning framework. \n",
    "It is technique for supervised learning models with associated learning algorithms that analyze data for classification and regression analysis. "
   ]
  },
  {
   "cell_type": "code",
   "execution_count": 132,
   "id": "dd9f39ef",
   "metadata": {
    "execution": {
     "iopub.execute_input": "2022-05-10T13:12:24.912280Z",
     "iopub.status.busy": "2022-05-10T13:12:24.911932Z",
     "iopub.status.idle": "2022-05-10T13:12:24.954448Z",
     "shell.execute_reply": "2022-05-10T13:12:24.953260Z",
     "shell.execute_reply.started": "2022-05-10T13:12:24.912245Z"
    },
    "tags": []
   },
   "outputs": [],
   "source": [
    "from sklearn.svm import SVC\n",
    "from sklearn.metrics import accuracy_score,classification_report,confusion_matrix,mean_squared_error, f1_score, make_scorer\n",
    "\n",
    "svm_model = SVC(C=10.0)\n",
    "\n",
    "svm_model.fit(X_train, y_train)\n",
    "y_pred=svm_model.predict(X_test)"
   ]
  },
  {
   "cell_type": "code",
   "execution_count": 133,
   "id": "946f90d8",
   "metadata": {
    "execution": {
     "iopub.execute_input": "2022-05-10T13:12:24.956213Z",
     "iopub.status.busy": "2022-05-10T13:12:24.955860Z",
     "iopub.status.idle": "2022-05-10T13:12:24.964290Z",
     "shell.execute_reply": "2022-05-10T13:12:24.963180Z",
     "shell.execute_reply.started": "2022-05-10T13:12:24.956179Z"
    },
    "tags": []
   },
   "outputs": [],
   "source": [
    "svm_f1 = f1_score(y_pred, y_test)"
   ]
  },
  {
   "cell_type": "markdown",
   "id": "71f42260",
   "metadata": {},
   "source": [
    "## <font color='orange'>Neural Network</font>\n",
    "Neural networks are made up of nodes that are arranged in layers. \n",
    "\n",
    "This construction varies depending on the type and complexity of the neural network. \n"
   ]
  },
  {
   "cell_type": "markdown",
   "id": "1f51ad21",
   "metadata": {},
   "source": [
    "At the beginning, the weights or ''inputs\" are assigned to each of the nodes in the first layer. During each iteration, the inputs are processed through the system and compared to the actual value. The error is measured and fed back through the system to adjust the weights. "
   ]
  },
  {
   "cell_type": "code",
   "execution_count": 134,
   "id": "ae371773",
   "metadata": {
    "execution": {
     "iopub.execute_input": "2022-05-10T13:12:25.069425Z",
     "iopub.status.busy": "2022-05-10T13:12:25.069054Z",
     "iopub.status.idle": "2022-05-10T13:12:27.003426Z",
     "shell.execute_reply": "2022-05-10T13:12:27.002218Z",
     "shell.execute_reply.started": "2022-05-10T13:12:25.069388Z"
    },
    "tags": []
   },
   "outputs": [],
   "source": [
    "from sklearn.neural_network import MLPClassifier\n",
    "from sklearn.metrics import accuracy_score,classification_report,confusion_matrix,mean_squared_error, f1_score, make_scorer\n",
    "\n",
    "nn_model = MLPClassifier(hidden_layer_sizes=(64, 64))\n",
    "\n",
    "nn_model.fit(X_train, y_train)\n",
    "y_pred=nn_model.predict(X_test)"
   ]
  },
  {
   "cell_type": "code",
   "execution_count": 135,
   "id": "9fec2e2a",
   "metadata": {
    "execution": {
     "iopub.execute_input": "2022-05-10T13:12:27.846234Z",
     "iopub.status.busy": "2022-05-10T13:12:27.845907Z",
     "iopub.status.idle": "2022-05-10T13:12:27.854102Z",
     "shell.execute_reply": "2022-05-10T13:12:27.852891Z",
     "shell.execute_reply.started": "2022-05-10T13:12:27.846203Z"
    },
    "tags": []
   },
   "outputs": [],
   "source": [
    "nn_f1 = f1_score(y_pred, y_test)"
   ]
  },
  {
   "cell_type": "markdown",
   "id": "48ba7bc0",
   "metadata": {
    "execution": {
     "iopub.execute_input": "2021-05-04T06:20:32.937324Z",
     "iopub.status.busy": "2021-05-04T06:20:32.936830Z",
     "iopub.status.idle": "2021-05-04T06:20:32.941738Z",
     "shell.execute_reply": "2021-05-04T06:20:32.940696Z",
     "shell.execute_reply.started": "2021-05-04T06:20:32.937280Z"
    },
    "tags": []
   },
   "source": [
    "## <font color='orange'>K nearest neighbors model (KNN classifier) </font>"
   ]
  },
  {
   "cell_type": "markdown",
   "id": "c26f44fa",
   "metadata": {},
   "source": [
    "### Model fitting and predicting \n",
    "We can make predictions on any data set, using the original training set X. \n",
    "\n",
    "The variable y_pred now contains one entry per row of X with the prediction from the trained classifier"
   ]
  },
  {
   "cell_type": "code",
   "execution_count": 136,
   "id": "fffa25d2",
   "metadata": {
    "execution": {
     "iopub.execute_input": "2022-05-10T13:12:28.277900Z",
     "iopub.status.busy": "2022-05-10T13:12:28.277602Z",
     "iopub.status.idle": "2022-05-10T13:12:28.323870Z",
     "shell.execute_reply": "2022-05-10T13:12:28.322817Z",
     "shell.execute_reply.started": "2022-05-10T13:12:28.277870Z"
    },
    "tags": []
   },
   "outputs": [],
   "source": [
    "from sklearn.neighbors import KNeighborsClassifier\n",
    "from sklearn.metrics import accuracy_score,classification_report,confusion_matrix,mean_squared_error, f1_score, make_scorer\n",
    "\n",
    "# Create the model\n",
    "knn_model =  KNeighborsClassifier(n_neighbors=1)\n",
    "# Fitting the model\n",
    "knn_model.fit(X_train, y_train)\n",
    "# Training the model - values predicting \n",
    "y_pred=knn_model.predict(X_test)"
   ]
  },
  {
   "cell_type": "markdown",
   "id": "9a57464f",
   "metadata": {},
   "source": [
    "### Model evaluation\n",
    "Let's evaluate our KNN classifier. \n",
    "\n",
    "Before we compute the score on the test set, we need to make sure our model is training on the training set only, otherwise it would have access to the test set, defeating its purpose. So we refit on the training set, and compute the test score. We see that we have a much lower testing accuracy. \n"
   ]
  },
  {
   "cell_type": "code",
   "execution_count": 137,
   "id": "66218077",
   "metadata": {
    "execution": {
     "iopub.execute_input": "2022-05-10T13:12:28.325266Z",
     "iopub.status.busy": "2022-05-10T13:12:28.324954Z",
     "iopub.status.idle": "2022-05-10T13:12:28.370534Z",
     "shell.execute_reply": "2022-05-10T13:12:28.369674Z",
     "shell.execute_reply.started": "2022-05-10T13:12:28.325231Z"
    },
    "tags": []
   },
   "outputs": [
    {
     "data": {
      "text/plain": [
       "0.952054794520548"
      ]
     },
     "execution_count": 137,
     "metadata": {},
     "output_type": "execute_result"
    }
   ],
   "source": [
    "knn_model.score(X_test, y_test)"
   ]
  },
  {
   "cell_type": "code",
   "execution_count": 138,
   "id": "f28d251b",
   "metadata": {
    "execution": {
     "iopub.execute_input": "2022-05-10T13:12:28.371922Z",
     "iopub.status.busy": "2022-05-10T13:12:28.371635Z",
     "iopub.status.idle": "2022-05-10T13:12:28.379266Z",
     "shell.execute_reply": "2022-05-10T13:12:28.378410Z",
     "shell.execute_reply.started": "2022-05-10T13:12:28.371891Z"
    },
    "tags": []
   },
   "outputs": [
    {
     "data": {
      "text/plain": [
       "0.7529411764705882"
      ]
     },
     "execution_count": 138,
     "metadata": {},
     "output_type": "execute_result"
    }
   ],
   "source": [
    "f1_score(y_pred, y_test)"
   ]
  },
  {
   "cell_type": "code",
   "execution_count": 139,
   "id": "97f3e67b",
   "metadata": {
    "execution": {
     "iopub.execute_input": "2022-05-10T13:12:28.380435Z",
     "iopub.status.busy": "2022-05-10T13:12:28.380163Z",
     "iopub.status.idle": "2022-05-10T13:12:28.389618Z",
     "shell.execute_reply": "2022-05-10T13:12:28.388612Z",
     "shell.execute_reply.started": "2022-05-10T13:12:28.380406Z"
    },
    "tags": []
   },
   "outputs": [],
   "source": [
    "knn_f1 = f1_score(y_pred, y_test)"
   ]
  },
  {
   "cell_type": "markdown",
   "id": "8f14d6bd",
   "metadata": {},
   "source": [
    "## <font color='red'>Model Comparison - Results </font>\n",
    "\n",
    "We have a set of model validation metrics\n",
    "* Confusion Matrix\n",
    "* Accuracy Score --> Accuracy \n",
    "* Classification Report --> Precision, recall, f1-score and support\n",
    "* F1 score"
   ]
  },
  {
   "attachments": {
    "6d5f15f7-4508-45ba-ad21-cba92c0b9f73.png": {
     "image/png": "[encoded data removed]"
    }
   },
   "cell_type": "markdown",
   "id": "7dc464e4",
   "metadata": {},
   "source": [
    "## Confusion Matrix\n",
    "We often work with ROC curve and Area under Curve. In genral, we want to determine whether our ROC curve is good or not by looking at AUC (Area Under the Curve) and other parameters which are also called as Confusion Metrics. \n",
    "\n",
    "A confusion matrix is a table that is often used to describe the performance of a classification model on a set of test data for which the true values are known. All the measures except AUC can be calculated by using left most four parameters. So, let’s talk about those four parameters first.\n",
    "\n",
    "![image.png](attachment:6d5f15f7-4508-45ba-ad21-cba92c0b9f73.png)!"
   ]
  },
  {
   "cell_type": "markdown",
   "id": "b41a33c4",
   "metadata": {},
   "source": [
    "True positive and true negatives are the observations that are correctly predicted and therefore shown in green. We want to minimize false positives and false negatives so they are shown in red color. These terms are a bit confusing. So let’s take each term one by one and understand it fully.\n",
    "\n",
    "**True Positives (TP)** - These are the correctly predicted positive values which means that the value of actual class is yes and the value of predicted class is also yes. E.g. if actual class value indicates that this passenger survived and predicted class tells you the same thing.\n",
    "\n",
    "**True Negatives (TN)** - These are the correctly predicted negative values which means that the value of actual class is no and value of predicted class is also no. E.g. if actual class says this passenger did not survive and predicted class tells you the same thing.\n",
    "\n",
    "False positives and false negatives, these values occur when your actual class contradicts with the predicted class.\n",
    "\n",
    "**False Positives (FP)** – When actual class is no and predicted class is yes. E.g. if actual class says this passenger did not survive but predicted class tells you that this passenger will survive.\n",
    "\n",
    "**False Negatives (FN)** – When actual class is yes but predicted class in no. E.g. if actual class value indicates that this passenger survived and predicted class tells you that passenger will die."
   ]
  },
  {
   "cell_type": "code",
   "execution_count": 140,
   "id": "dbef2b7b",
   "metadata": {
    "execution": {
     "iopub.execute_input": "2022-05-10T13:12:28.392527Z",
     "iopub.status.busy": "2022-05-10T13:12:28.392236Z",
     "iopub.status.idle": "2022-05-10T13:12:28.398958Z",
     "shell.execute_reply": "2022-05-10T13:12:28.397917Z",
     "shell.execute_reply.started": "2022-05-10T13:12:28.392498Z"
    },
    "tags": []
   },
   "outputs": [
    {
     "name": "stdout",
     "output_type": "stream",
     "text": [
      "[[385   8]\n",
      " [ 13  32]]\n"
     ]
    }
   ],
   "source": [
    "# Confusion Matrix\n",
    "from sklearn.metrics import confusion_matrix\n",
    "print(confusion_matrix(y_test, y_pred))"
   ]
  },
  {
   "cell_type": "code",
   "execution_count": 141,
   "id": "16c02a07",
   "metadata": {
    "execution": {
     "iopub.execute_input": "2022-05-10T13:12:28.483510Z",
     "iopub.status.busy": "2022-05-10T13:12:28.483225Z",
     "iopub.status.idle": "2022-05-10T13:12:28.494800Z",
     "shell.execute_reply": "2022-05-10T13:12:28.493821Z",
     "shell.execute_reply.started": "2022-05-10T13:12:28.483479Z"
    },
    "tags": []
   },
   "outputs": [
    {
     "name": "stdout",
     "output_type": "stream",
     "text": [
      "TP: 32, FP: 8, TN: 385, FN: 13\n"
     ]
    }
   ],
   "source": [
    "# True Positive (TP): we predict a label of 1 (positive), and the true label is 1.\n",
    "TP = np.sum(np.logical_and(y_pred == 1, y_test == 1))\n",
    " \n",
    "# True Negative (TN): we predict a label of 0 (negative), and the true label is 0.\n",
    "TN = np.sum(np.logical_and(y_pred == 0, y_test == 0))\n",
    " \n",
    "# False Positive (FP): we predict a label of 1 (positive), but the true label is 0.\n",
    "FP = np.sum(np.logical_and(y_pred == 1, y_test == 0))\n",
    " \n",
    "# False Negative (FN): we predict a label of 0 (negative), but the true label is 1.\n",
    "FN = np.sum(np.logical_and(y_pred == 0, y_test == 1))\n",
    " \n",
    "print('TP: {}, FP: {}, TN: {}, FN: {}'.format(TP,FP,TN,FN))"
   ]
  },
  {
   "attachments": {
    "a31e7157-2246-4737-a5f0-d0d5707f5647.png": {
     "image/png": "[encoded data removed]"
    }
   },
   "cell_type": "markdown",
   "id": "a6596421",
   "metadata": {},
   "source": [
    "## Accuracy (ACC)\n",
    "Accuracy is the most intuitive performance measure and it is simply a ratio of correctly predicted observation to the total observations. \n",
    "One may think that, if we have high accuracy then our model is best. Yes, accuracy is a great measure but only when you have symmetric datasets where values of false positive and false negatives are almost same. \n",
    "Therefore, you have to look at other parameters to evaluate the performance of your model. \n",
    "Example: If We have got accuracy = 0.803 so it meansthat our model is approx. 80% accurate.\n",
    "\n",
    "![image.png](attachment:a31e7157-2246-4737-a5f0-d0d5707f5647.png)"
   ]
  },
  {
   "cell_type": "code",
   "execution_count": 142,
   "id": "78e4a373",
   "metadata": {
    "execution": {
     "iopub.execute_input": "2022-05-10T13:12:28.578263Z",
     "iopub.status.busy": "2022-05-10T13:12:28.577961Z",
     "iopub.status.idle": "2022-05-10T13:12:28.628157Z",
     "shell.execute_reply": "2022-05-10T13:12:28.627081Z",
     "shell.execute_reply.started": "2022-05-10T13:12:28.578232Z"
    },
    "tags": []
   },
   "outputs": [
    {
     "data": {
      "text/plain": [
       "0.952054794520548"
      ]
     },
     "execution_count": 142,
     "metadata": {},
     "output_type": "execute_result"
    }
   ],
   "source": [
    "# Accuracy Score\n",
    "from sklearn.metrics import accuracy_score\n",
    "knn_model.score(X_test, y_test)\n",
    "accuracy_score(y_test, y_pred)"
   ]
  },
  {
   "cell_type": "markdown",
   "id": "36647d6f",
   "metadata": {},
   "source": [
    "## Precision & Recall\n",
    "**Precision** - Precision is the ratio of correctly predicted positive observations to the total predicted positive observations. \n",
    "\n",
    "Example: The question that this metric answer is of all passengers that labeled as survived, how many actually survived? \n",
    "\n",
    "High precision relates to the low false positive rate. \n",
    "\n",
    "Precision = TP/TP+FP\n",
    "\n",
    "**Recall (Sensitivity)** - Recall is the ratio of correctly predicted positive observations to the all observations in actual class - yes. \n",
    "\n",
    "Example: The question recall answers is: Of all the passengers that truly survived, how many did we label? \n",
    "\n",
    "Recall = TP/TP+FN\n",
    "\n"
   ]
  },
  {
   "cell_type": "code",
   "execution_count": 143,
   "id": "99e8edef",
   "metadata": {
    "execution": {
     "iopub.execute_input": "2022-05-10T13:12:29.760797Z",
     "iopub.status.busy": "2022-05-10T13:12:29.760454Z",
     "iopub.status.idle": "2022-05-10T13:12:29.774877Z",
     "shell.execute_reply": "2022-05-10T13:12:29.773848Z",
     "shell.execute_reply.started": "2022-05-10T13:12:29.760765Z"
    },
    "tags": []
   },
   "outputs": [
    {
     "name": "stdout",
     "output_type": "stream",
     "text": [
      "              precision    recall  f1-score   support\n",
      "\n",
      "       False       0.97      0.98      0.97       393\n",
      "        True       0.80      0.71      0.75        45\n",
      "\n",
      "    accuracy                           0.95       438\n",
      "   macro avg       0.88      0.85      0.86       438\n",
      "weighted avg       0.95      0.95      0.95       438\n",
      "\n"
     ]
    }
   ],
   "source": [
    "# Classification Report\n",
    "from sklearn.metrics import classification_report\n",
    "print(classification_report(y_test, y_pred))"
   ]
  },
  {
   "cell_type": "code",
   "execution_count": 144,
   "id": "d838241c",
   "metadata": {
    "execution": {
     "iopub.execute_input": "2022-05-10T13:12:29.872642Z",
     "iopub.status.busy": "2022-05-10T13:12:29.872284Z",
     "iopub.status.idle": "2022-05-10T13:12:29.972522Z",
     "shell.execute_reply": "2022-05-10T13:12:29.971561Z",
     "shell.execute_reply.started": "2022-05-10T13:12:29.872608Z"
    },
    "tags": []
   },
   "outputs": [
    {
     "name": "stdout",
     "output_type": "stream",
     "text": [
      "Accuracy Results\n",
      "****************************************\n",
      "      Logistic Model: 0.9497716894977168\n",
      "       Decision Tree: 0.9360730593607306\n",
      "        Forest Model: 0.958904109589041\n",
      "           Ada Boost: 0.9429223744292238\n",
      "           SVM Model: 0.958904109589041\n",
      "Neural Network Model: 0.958904109589041\n",
      "     Neighbors Model: 0.952054794520548\n"
     ]
    }
   ],
   "source": [
    "log_acc = log_model.score(X_test, y_test)\n",
    "tree_acc = tree_classifier.score(X_test, y_test)\n",
    "forest_acc = forest_model.score(X_test, y_test)\n",
    "ada_acc = ada_model.score(X_test, y_test)\n",
    "svm_acc = svm_model.score(X_test, y_test)\n",
    "nn_acc = nn_model.score(X_test, y_test)\n",
    "knn_acc = knn_model.score(X_test, y_test)\n",
    "\n",
    "print(\"Accuracy Results\\n\" + \"*\"*40)\n",
    "print(\"      Logistic Model:\", log_acc)\n",
    "print(\"       Decision Tree:\", tree_acc)\n",
    "print(\"        Forest Model:\", forest_acc)\n",
    "print(\"           Ada Boost:\", ada_acc)\n",
    "print(\"           SVM Model:\", svm_acc)\n",
    "print(\"Neural Network Model:\", nn_acc)\n",
    "print(\"     Neighbors Model:\", knn_acc)"
   ]
  },
  {
   "cell_type": "markdown",
   "id": "a0b34b58",
   "metadata": {},
   "source": [
    "## F1 score\n",
    "F1 Score is the weighted average of Precision and Recall. \n",
    "\n",
    "Therefore, this score takes both false positives and false negatives into account. \n",
    "Intuitively it is not as easy to understand as accuracy, but F1 is usually more useful than accuracy, especially if you have an uneven class distribution. \n",
    "Accuracy works best if false positives and false negatives have similar cost. If the cost of false positives and false negatives are very different, it’s better to look at both Precision and Recall\n",
    "\n",
    "So we define the Precision as TP/(TP+FP) and Recall as TP/(TP+FN). \n",
    "\n",
    "And we have\n",
    "\n",
    "F1 = 2 (Prec Rec) / (Prec + Rec)"
   ]
  },
  {
   "cell_type": "code",
   "execution_count": 145,
   "id": "4fe62045",
   "metadata": {
    "execution": {
     "iopub.execute_input": "2022-05-10T13:12:29.973957Z",
     "iopub.status.busy": "2022-05-10T13:12:29.973625Z",
     "iopub.status.idle": "2022-05-10T13:12:30.021959Z",
     "shell.execute_reply": "2022-05-10T13:12:30.021006Z",
     "shell.execute_reply.started": "2022-05-10T13:12:29.973917Z"
    },
    "tags": []
   },
   "outputs": [
    {
     "data": {
      "text/plain": [
       "0.7529411764705882"
      ]
     },
     "execution_count": 145,
     "metadata": {},
     "output_type": "execute_result"
    }
   ],
   "source": [
    "from sklearn.metrics import f1_score\n",
    "\n",
    "knn_model.score(X_test, y_test)\n",
    "f1_score(y_test, y_pred)"
   ]
  },
  {
   "cell_type": "code",
   "execution_count": 146,
   "id": "ab5321b2",
   "metadata": {
    "execution": {
     "iopub.execute_input": "2022-05-10T13:12:30.109486Z",
     "iopub.status.busy": "2022-05-10T13:12:30.109067Z",
     "iopub.status.idle": "2022-05-10T13:12:30.119189Z",
     "shell.execute_reply": "2022-05-10T13:12:30.118066Z",
     "shell.execute_reply.started": "2022-05-10T13:12:30.109454Z"
    },
    "tags": []
   },
   "outputs": [
    {
     "name": "stdout",
     "output_type": "stream",
     "text": [
      "F1 score Results\n",
      "****************************************\n",
      "      Logistic Model: 0.7710843373493975\n",
      "       Decision Tree: 0.7272727272727273\n",
      "        Forest Model: 0.775\n",
      "           Ada Boost: 0.7191011235955056\n",
      "           SVM Model: 0.7954545454545455\n",
      "Neural Network Model: 0.8043478260869565\n",
      "     Neighbors Model: 0.7529411764705882\n"
     ]
    }
   ],
   "source": [
    "# f1_score\n",
    "print(\"F1 score Results\\n\" + \"*\"*40)\n",
    "print(\"      Logistic Model:\", log_f1)\n",
    "print(\"       Decision Tree:\", tree_f1)\n",
    "print(\"        Forest Model:\", forest_f1)\n",
    "print(\"           Ada Boost:\", ada_f1)\n",
    "print(\"           SVM Model:\", svm_f1)\n",
    "print(\"Neural Network Model:\", nn_f1)\n",
    "print(\"     Neighbors Model:\", knn_f1)\n"
   ]
  },
  {
   "cell_type": "markdown",
   "id": "3a1a7465",
   "metadata": {},
   "source": [
    "### Exercises"
   ]
  },
  {
   "cell_type": "markdown",
   "id": "bc7ea072",
   "metadata": {},
   "source": [
    "1. Compare F1 score for predicting LotArea variable (large = 1, other = 0; as large are considered top 40 %) using Random Forest a Ada Boost model."
   ]
  },
  {
   "cell_type": "code",
   "execution_count": null,
   "id": "88ced2c2",
   "metadata": {},
   "outputs": [],
   "source": [
    "# 1.\n",
    "# Your solution"
   ]
  }
 ],
 "metadata": {
  "kernelspec": {
   "display_name": "Python 3",
   "language": "python",
   "name": "python3"
  },
  "language_info": {
   "codemirror_mode": {
    "name": "ipython",
    "version": 3
   },
   "file_extension": ".py",
   "mimetype": "text/x-python",
   "name": "python",
   "nbconvert_exporter": "python",
   "pygments_lexer": "ipython3",
   "version": "3.8.8"
  }
 },
 "nbformat": 4,
 "nbformat_minor": 5
}
