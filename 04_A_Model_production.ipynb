{
 "cells": [
  {
   "cell_type": "markdown",
   "id": "82106e22",
   "metadata": {
    "execution": {
     "iopub.execute_input": "2021-05-02T11:36:08.265944Z",
     "iopub.status.busy": "2021-05-02T11:36:08.265585Z",
     "iopub.status.idle": "2021-05-02T11:36:08.270209Z",
     "shell.execute_reply": "2021-05-02T11:36:08.269302Z",
     "shell.execute_reply.started": "2021-05-02T11:36:08.265906Z"
    },
    "tags": []
   },
   "source": [
    "# Production deployment"
   ]
  },
  {
   "cell_type": "code",
   "execution_count": 1,
   "id": "c6ba2638",
   "metadata": {
    "execution": {
     "iopub.execute_input": "2021-05-04T11:36:15.481823Z",
     "iopub.status.busy": "2021-05-04T11:36:15.481441Z",
     "iopub.status.idle": "2021-05-04T11:36:15.866186Z",
     "shell.execute_reply": "2021-05-04T11:36:15.865000Z",
     "shell.execute_reply.started": "2021-05-04T11:36:15.481778Z"
    },
    "tags": []
   },
   "outputs": [],
   "source": [
    "import pandas as pd\n",
    "import warnings\n",
    "warnings.filterwarnings('ignore')"
   ]
  },
  {
   "cell_type": "code",
   "execution_count": 2,
   "id": "5e77e1fb",
   "metadata": {
    "execution": {
     "iopub.execute_input": "2021-05-04T11:36:15.868032Z",
     "iopub.status.busy": "2021-05-04T11:36:15.867672Z",
     "iopub.status.idle": "2021-05-04T11:36:15.907033Z",
     "shell.execute_reply": "2021-05-04T11:36:15.905895Z",
     "shell.execute_reply.started": "2021-05-04T11:36:15.867993Z"
    },
    "tags": []
   },
   "outputs": [],
   "source": [
    "data = pd.read_csv('./data/train.csv')"
   ]
  },
  {
   "cell_type": "markdown",
   "id": "f10f8527",
   "metadata": {},
   "source": [
    "## Scikit pipelines\n",
    "\n",
    "Pipeline can be used to chain multiple estimators into one. This is useful as there is often a fixed sequence of steps in processing the data, for example feature selection, normalization and classification. Pipeline serves multiple purposes here:\n",
    "\n",
    "**Convenience and encapsulation**\n",
    "You only have to call fit and predict once on your data to fit a whole sequence of estimators.\n",
    "\n",
    "**Joint parameter selection**\n",
    "You can grid search over parameters of all estimators in the pipeline at once.\n",
    "\n",
    "**Safety**\n",
    "Pipelines help avoid leaking statistics from your test data into the trained model in cross-validation, by ensuring that the same samples are used to train the transformers and predictors.\n",
    "\n",
    "All estimators in a pipeline, except the last one, must be transformers (i.e. must have a transform method). The last estimator may be any type (transformer, classifier, etc.)."
   ]
  },
  {
   "cell_type": "markdown",
   "id": "00465652",
   "metadata": {},
   "source": [
    "## Numeric vs. Categorical Features"
   ]
  },
  {
   "cell_type": "markdown",
   "id": "cdbf5cb1",
   "metadata": {},
   "source": [
    "At the beginning, we have to be sure that we are able to distinguish between continuous and categorical features. \n",
    "\n",
    "The reason is simple. The work and processing both type of features are different!!!\n",
    "\n",
    "  - **Continuous(numeric) feature**: Continuous variables are numeric variables that have an infinite number of values between any two values. A continuous variable can be numeric or date/time. *For example, the length of a part or the date and time a payment is received.*\n",
    "  \n",
    "  - **Categorical feature**: Categorical variables contain a finite number of categories or distinct groups. Categorical data might not have a logical order. *For example, categorical predictors include gender, material type, and payment method.*\n",
    "\n",
    "In general, type of object is not satisfactory and always correct. "
   ]
  },
  {
   "cell_type": "code",
   "execution_count": 3,
   "id": "89fb7eac",
   "metadata": {
    "execution": {
     "iopub.execute_input": "2021-05-04T11:36:15.908900Z",
     "iopub.status.busy": "2021-05-04T11:36:15.908506Z",
     "iopub.status.idle": "2021-05-04T11:36:16.096051Z",
     "shell.execute_reply": "2021-05-04T11:36:16.094965Z",
     "shell.execute_reply.started": "2021-05-04T11:36:15.908864Z"
    },
    "tags": []
   },
   "outputs": [],
   "source": [
    "from pandas.api.types import is_numeric_dtype\n",
    "\n",
    "unique_count_ratio = 0.05\n",
    "empty_ratio = 0.9\n",
    "min_distinct_values = 2\n",
    "columns = data.columns\n",
    "# define label columns\n",
    "label = 'SalePrice'\n",
    "date_features = ['YearBuilt', 'GarageYrBlt', 'YearRemodAdd', 'YrSold']\n",
    "#manually remove features\n",
    "drop_features = ['PriceNtile', 'Neighbourhood_Rank']\n",
    "# define empty list of categorical features which we will fill\n",
    "cat_features = []\n",
    "# define empty list of numerical features which we will fill\n",
    "num_features = []\n",
    "\n",
    "\n",
    "#consider feature categorical if ratio is below given value and number of unique records is >= 2\n",
    "for var in columns:\n",
    "    if \\\n",
    "      1.*data[var].nunique()/data[var].count() < unique_count_ratio \\\n",
    "      and data[var].nunique() >= min_distinct_values \\\n",
    "      and data[var].isna().sum() / data[var].count() < empty_ratio:\n",
    "        cat_features.append(var)\n",
    "    \n",
    "#consider feature numerical if ratio is greater than or equal to given value and feature has numerival data type\n",
    "for var in columns:\n",
    "    if \\\n",
    "      1.*data[var].nunique()/data[var].count() >= unique_count_ratio \\\n",
    "      and is_numeric_dtype(data[var]) \\\n",
    "      and data[var].isna().sum() / data[var].count() < empty_ratio:\n",
    "        num_features.append(var)\n",
    "        \n",
    "# remove data features from feature lists\n",
    "cat_features = [f for f in cat_features if f not in date_features + drop_features ]\n",
    "num_features = [f for f in num_features if f not in date_features + drop_features ]\n",
    "leftover_features = [c for c in columns if c not in num_features + cat_features + date_features]"
   ]
  },
  {
   "cell_type": "markdown",
   "id": "25919e96",
   "metadata": {
    "execution": {
     "iopub.execute_input": "2021-05-02T11:35:06.640989Z",
     "iopub.status.busy": "2021-05-02T11:35:06.640624Z",
     "iopub.status.idle": "2021-05-02T11:35:06.649331Z",
     "shell.execute_reply": "2021-05-02T11:35:06.647763Z",
     "shell.execute_reply.started": "2021-05-02T11:35:06.640950Z"
    }
   },
   "source": [
    "## OutlierRemover\n",
    "Create a custome object for Outlier handling"
   ]
  },
  {
   "cell_type": "code",
   "execution_count": 4,
   "id": "bcf57a00",
   "metadata": {
    "execution": {
     "iopub.execute_input": "2021-05-04T11:36:16.099376Z",
     "iopub.status.busy": "2021-05-04T11:36:16.099024Z",
     "iopub.status.idle": "2021-05-04T11:36:16.678913Z",
     "shell.execute_reply": "2021-05-04T11:36:16.677701Z",
     "shell.execute_reply.started": "2021-05-04T11:36:16.099340Z"
    },
    "tags": []
   },
   "outputs": [],
   "source": [
    "from sklearn.base import BaseEstimator, TransformerMixin\n",
    "import numpy as np\n",
    "\n",
    "class OutlierRemover(BaseEstimator, TransformerMixin):\n",
    "    \"\"\"Categorical data missing value imputer.\"\"\"\n",
    "\n",
    "    def __init__(self, variables=None) -> None:\n",
    "        if not isinstance(variables, list):\n",
    "            self.variables = [variables]\n",
    "        else:\n",
    "            self.variables = variables\n",
    "\n",
    "    def fit(self, X: pd.DataFrame, y: pd.Series = None\n",
    "            ) -> 'OutlierRemover':\n",
    "        \"\"\"Fit statement to accomodate the sklearn pipeline.\"\"\"\n",
    "        self.var_iqrs = {}\n",
    "        for var in self.variables:\n",
    "            Q3 = np.quantile(X[var], 0.75)\n",
    "            Q1 = np.quantile(X[var], 0.25)\n",
    "            IQR = Q3 - Q1\n",
    "            lower_range = Q1 - 1.5 * IQR\n",
    "            upper_range = Q3 + 1.5 * IQR\n",
    "            self.var_iqrs[var] = {\n",
    "                'lw_rng': lower_range\n",
    "                , 'up_rng': upper_range}\n",
    "        return self\n",
    "\n",
    "    def transform(self, X: pd.DataFrame) -> pd.DataFrame:\n",
    "        \"\"\"Apply the transforms to the dataframe.\"\"\"\n",
    "\n",
    "        X = X.copy()\n",
    "        for var in self.variables:\n",
    "            lower_range = self.var_iqrs[var]['lw_rng']\n",
    "            upper_range = self.var_iqrs[var]['up_rng']\n",
    "            if not lower_range == upper_range == 0:\n",
    "                X[var] = np.where(X[var] > upper_range, upper_range, X[var])\n",
    "                X[var] = np.where(X[var] < lower_range, lower_range, X[var])\n",
    "\n",
    "        return X"
   ]
  },
  {
   "cell_type": "markdown",
   "id": "4bc7c0df",
   "metadata": {
    "execution": {
     "iopub.execute_input": "2021-05-02T12:38:53.409369Z",
     "iopub.status.busy": "2021-05-02T12:38:53.409019Z",
     "iopub.status.idle": "2021-05-02T12:38:53.414219Z",
     "shell.execute_reply": "2021-05-02T12:38:53.412899Z",
     "shell.execute_reply.started": "2021-05-02T12:38:53.409330Z"
    }
   },
   "source": [
    "## DateProcessor\n",
    "Custom date processor"
   ]
  },
  {
   "cell_type": "code",
   "execution_count": 5,
   "id": "4d7a8da5",
   "metadata": {
    "execution": {
     "iopub.execute_input": "2021-05-04T11:36:16.681605Z",
     "iopub.status.busy": "2021-05-04T11:36:16.681217Z",
     "iopub.status.idle": "2021-05-04T11:36:16.692606Z",
     "shell.execute_reply": "2021-05-04T11:36:16.691230Z",
     "shell.execute_reply.started": "2021-05-04T11:36:16.681546Z"
    },
    "tags": []
   },
   "outputs": [],
   "source": [
    "class DateProcessor(BaseEstimator, TransformerMixin):\n",
    "    \"\"\"Categorical data missing value imputer.\"\"\"\n",
    "\n",
    "    def __init__(self, variables=None, date_treshold=1900) -> None:\n",
    "        if not isinstance(variables, list):\n",
    "            self.variables = [variables]\n",
    "        else:\n",
    "            self.variables = variables\n",
    "        self.date_treshold = date_treshold\n",
    "\n",
    "    def fit(self, X: pd.DataFrame, y: pd.Series = None\n",
    "            ) -> 'DateProcessor':\n",
    "        \"\"\"Fit statement to accomodate the sklearn pipeline.\"\"\"\n",
    "        self.max_dates = {}\n",
    "        self.quantiles = {}\n",
    "        for var in self.variables:\n",
    "            self.quantiles[var] = X[var].quantile([0, .2, .4, .6, .8, 1]).unique()\n",
    "        return self\n",
    "\n",
    "    def transform(self, X: pd.DataFrame) -> pd.DataFrame:\n",
    "        \"\"\"Apply the transforms to the dataframe.\"\"\"\n",
    "\n",
    "        X = X.copy()\n",
    "        for var in self.variables:\n",
    "            X[var] = np.where(X[var] <= self.date_treshold, np.nan, X[var]).astype(float)\n",
    "            X[var] = pd.cut(X[var], bins=self.quantiles[var], labels=False)\n",
    "            X[var] = X[var].replace(np.nan, 'UNKNOWN').astype(str)\n",
    "        return X"
   ]
  },
  {
   "cell_type": "markdown",
   "id": "43f28cc6",
   "metadata": {},
   "source": [
    "## CategoryMerger\n",
    "\n",
    "Custom category merger for ctegories with low counts"
   ]
  },
  {
   "cell_type": "code",
   "execution_count": 6,
   "id": "7b2e88de",
   "metadata": {
    "execution": {
     "iopub.execute_input": "2021-05-04T11:36:16.694711Z",
     "iopub.status.busy": "2021-05-04T11:36:16.694330Z",
     "iopub.status.idle": "2021-05-04T11:36:16.705828Z",
     "shell.execute_reply": "2021-05-04T11:36:16.704479Z",
     "shell.execute_reply.started": "2021-05-04T11:36:16.694677Z"
    },
    "tags": []
   },
   "outputs": [],
   "source": [
    "class CategoryMerger(BaseEstimator, TransformerMixin):\n",
    "    \"\"\"Categorical data missing value imputer.\"\"\"\n",
    "\n",
    "    def __init__(self, variables=None ) -> None:\n",
    "        if not isinstance(variables, list):\n",
    "            self.variables = [variables]\n",
    "        else:\n",
    "            self.variables = variables\n",
    "        self.merge_treshold = .05\n",
    "\n",
    "    def fit(self, X: pd.DataFrame, y: pd.Series = None\n",
    "            ) -> 'CategoryMerger':\n",
    "        \"\"\"Fit statement to accomodate the sklearn pipeline.\"\"\"\n",
    "        self.merge_cats = {}\n",
    "        df_size = X.shape[0]\n",
    "        for var in self.variables:\n",
    "            #group by category value and get count\n",
    "            cat_distribution = pd.DataFrame(X[[var]].groupby(var).size() / df_size).reset_index().rename(columns={0: 'count'}).sort_values(by='count')\n",
    "            #get those values with count <= that minimum value\n",
    "            insufficient_count_data = cat_distribution[cat_distribution['count'] <= self.merge_treshold]\n",
    "            #if there are more of those per category\n",
    "            if insufficient_count_data.shape[0] > 1:\n",
    "                self.merge_cats[var] = insufficient_count_data[var].tolist()\n",
    "            else:\n",
    "                self.merge_cats[var] = None\n",
    "\n",
    "        return self\n",
    "\n",
    "    def transform(self, X: pd.DataFrame) -> pd.DataFrame:\n",
    "        \"\"\"Apply the transforms to the dataframe.\"\"\"\n",
    "\n",
    "        X = X.copy()\n",
    "        for var in self.variables:\n",
    "            if self.merge_cats[var] is not None:\n",
    "                X[var] = X[var].replace(self.merge_cats[var], 'OTHER')\n",
    "        return X"
   ]
  },
  {
   "cell_type": "markdown",
   "id": "ec7b66d6",
   "metadata": {},
   "source": [
    "## CategoryEncoder\n",
    "\n",
    "Custom category encoder"
   ]
  },
  {
   "cell_type": "code",
   "execution_count": 7,
   "id": "3df43e06",
   "metadata": {
    "execution": {
     "iopub.execute_input": "2021-05-04T11:36:16.707843Z",
     "iopub.status.busy": "2021-05-04T11:36:16.707458Z",
     "iopub.status.idle": "2021-05-04T11:36:16.715460Z",
     "shell.execute_reply": "2021-05-04T11:36:16.714286Z",
     "shell.execute_reply.started": "2021-05-04T11:36:16.707808Z"
    },
    "tags": []
   },
   "outputs": [],
   "source": [
    "class CategoryEncoder(BaseEstimator, TransformerMixin):\n",
    "    \"\"\"Categorical data missing value imputer.\"\"\"\n",
    "\n",
    "    def __init__(self, variables=None ) -> None:\n",
    "        if not isinstance(variables, list):\n",
    "            self.variables = [variables]\n",
    "        else:\n",
    "            self.variables = variables\n",
    "        self.merge_treshold = .05\n",
    "\n",
    "    def fit(self, X: pd.DataFrame, y: pd.Series = None\n",
    "            ) -> 'CategoryEncoder':\n",
    "        \"\"\"Fit statement to accomodate the sklearn pipeline.\"\"\"\n",
    "        \n",
    "        return self\n",
    "\n",
    "    def transform(self, X: pd.DataFrame) -> pd.DataFrame:\n",
    "        \"\"\"Apply the transforms to the dataframe.\"\"\"\n",
    "\n",
    "        X = X.copy()\n",
    "        X = pd.get_dummies(X , columns = self.variables, prefix = self.variables) \\\n",
    "        \n",
    "        return X"
   ]
  },
  {
   "cell_type": "markdown",
   "id": "bf4d7f64",
   "metadata": {},
   "source": [
    "## Scaler & Imputer"
   ]
  },
  {
   "cell_type": "code",
   "execution_count": 8,
   "id": "8b0244d3",
   "metadata": {
    "execution": {
     "iopub.execute_input": "2021-05-04T11:36:16.717302Z",
     "iopub.status.busy": "2021-05-04T11:36:16.716958Z",
     "iopub.status.idle": "2021-05-04T11:36:16.802293Z",
     "shell.execute_reply": "2021-05-04T11:36:16.801106Z",
     "shell.execute_reply.started": "2021-05-04T11:36:16.717267Z"
    },
    "tags": []
   },
   "outputs": [],
   "source": [
    "import numpy as np\n",
    "from sklearn.impute import SimpleImputer\n",
    "from sklearn.preprocessing import StandardScaler\n",
    "\n",
    "class ScalerImputer(BaseEstimator, TransformerMixin):\n",
    "    \"\"\"Categorical data missing value imputer.\"\"\"\n",
    "\n",
    "    def __init__(self, variables=None ) -> None:\n",
    "        if not isinstance(variables, list):\n",
    "            self.variables = [variables]\n",
    "        else:\n",
    "            self.variables = variables\n",
    "        self.merge_treshold = .05\n",
    "        self.imputer = SimpleImputer(missing_values=np.nan, strategy='median')\n",
    "        #self.scaler = StandardScaler()\n",
    "\n",
    "    def fit(self, X: pd.DataFrame, y: pd.Series = None\n",
    "            ) -> 'ScalerImputer':\n",
    "        \"\"\"Fit statement to accomodate the sklearn pipeline.\"\"\"\n",
    "        self.imputer.fit(X)\n",
    "        #self.scaler.fit(X)\n",
    "        \n",
    "        return self\n",
    "\n",
    "    def transform(self, X: pd.DataFrame) -> pd.DataFrame:\n",
    "        \"\"\"Apply the transforms to the dataframe.\"\"\"\n",
    "\n",
    "        X = X.copy()\n",
    "        X_c = X.copy()\n",
    "        X = pd.DataFrame(self.imputer.transform(X))\n",
    "        #X = pd.DataFrame(self.scaler.transform(X))\n",
    "        X.columns = X_c.columns\n",
    "        X.index = X_c.index\n",
    "        \n",
    "        return X"
   ]
  },
  {
   "cell_type": "markdown",
   "id": "0f2f0fca",
   "metadata": {},
   "source": [
    "## Cleaner\n",
    "Final step top format the data frame"
   ]
  },
  {
   "cell_type": "code",
   "execution_count": 9,
   "id": "4c986a50",
   "metadata": {
    "execution": {
     "iopub.execute_input": "2021-05-04T11:36:16.804142Z",
     "iopub.status.busy": "2021-05-04T11:36:16.803792Z",
     "iopub.status.idle": "2021-05-04T11:36:16.812212Z",
     "shell.execute_reply": "2021-05-04T11:36:16.810974Z",
     "shell.execute_reply.started": "2021-05-04T11:36:16.804106Z"
    },
    "tags": []
   },
   "outputs": [],
   "source": [
    "class Cleaner(BaseEstimator, TransformerMixin):\n",
    "    \"\"\"Categorical data missing value imputer.\"\"\"\n",
    "\n",
    "    def __init__(self, variables=None ) -> None:\n",
    "        if not isinstance(variables, list):\n",
    "            self.variables = [variables]\n",
    "        else:\n",
    "            self.variables = variables\n",
    "        self.merge_treshold = .05\n",
    "\n",
    "    def fit(self, X: pd.DataFrame, y: pd.Series = None\n",
    "            ) -> 'Cleaner':\n",
    "        \"\"\"Fit statement to accomodate the sklearn pipeline.\"\"\"\n",
    "        \n",
    "        return self\n",
    "\n",
    "    def transform(self, X: pd.DataFrame) -> pd.DataFrame:\n",
    "        \"\"\"Apply the transforms to the dataframe.\"\"\"\n",
    "\n",
    "        X = X.copy()\n",
    "        X = X \\\n",
    "            .set_index('Id') \\\n",
    "            .rename(columns={'SalePrice': 'label'}) \\\n",
    "            .drop(columns=self.variables)\n",
    "        \n",
    "        return X"
   ]
  },
  {
   "cell_type": "markdown",
   "id": "482c4552",
   "metadata": {},
   "source": [
    "## Assembling the pipeline\n",
    "\n",
    "Sklear pipelines allows us to combine multiple estimators into a single pipeline"
   ]
  },
  {
   "cell_type": "code",
   "execution_count": 10,
   "id": "a2480162",
   "metadata": {
    "execution": {
     "iopub.execute_input": "2021-05-04T11:36:16.814192Z",
     "iopub.status.busy": "2021-05-04T11:36:16.813696Z",
     "iopub.status.idle": "2021-05-04T11:36:16.820608Z",
     "shell.execute_reply": "2021-05-04T11:36:16.819525Z",
     "shell.execute_reply.started": "2021-05-04T11:36:16.814156Z"
    },
    "tags": []
   },
   "outputs": [],
   "source": [
    "from sklearn.pipeline import Pipeline"
   ]
  },
  {
   "cell_type": "markdown",
   "id": "66ef7452",
   "metadata": {},
   "source": [
    "Our pipeline has following steps:\n",
    "  - outlierRemover\n",
    "  - dateProcessor\n",
    "  - categoryMerger\n",
    "  - categoryEncoder\n",
    "  - cleaner\n",
    "  - scaler"
   ]
  },
  {
   "cell_type": "code",
   "execution_count": 11,
   "id": "ebbb144b",
   "metadata": {
    "execution": {
     "iopub.execute_input": "2021-05-04T11:36:16.822296Z",
     "iopub.status.busy": "2021-05-04T11:36:16.821946Z",
     "iopub.status.idle": "2021-05-04T11:36:16.828530Z",
     "shell.execute_reply": "2021-05-04T11:36:16.827400Z",
     "shell.execute_reply.started": "2021-05-04T11:36:16.822262Z"
    },
    "tags": []
   },
   "outputs": [],
   "source": [
    "date_engineering_pipe = Pipeline([\n",
    "      ('outlierRemover', OutlierRemover(variables=num_features))\n",
    "    , ('dateProcessor', DateProcessor(variables=date_features))\n",
    "    , ('categoryMerger', CategoryMerger(variables=cat_features + date_features))\n",
    "    , ('categoryEncoder', CategoryEncoder(variables=cat_features + date_features))\n",
    "    , ('cleaner', Cleaner(variables=leftover_features))\n",
    "    , ('scaler', ScalerImputer())\n",
    "])"
   ]
  },
  {
   "cell_type": "markdown",
   "id": "d7ba8da4",
   "metadata": {
    "execution": {
     "iopub.execute_input": "2021-05-04T11:31:59.822711Z",
     "iopub.status.busy": "2021-05-04T11:31:59.822218Z",
     "iopub.status.idle": "2021-05-04T11:31:59.830440Z",
     "shell.execute_reply": "2021-05-04T11:31:59.828649Z",
     "shell.execute_reply.started": "2021-05-04T11:31:59.822670Z"
    },
    "tags": []
   },
   "source": [
    "We can call `.fit` on whole pipeline at once"
   ]
  },
  {
   "cell_type": "code",
   "execution_count": 12,
   "id": "a9a6a456",
   "metadata": {
    "execution": {
     "iopub.execute_input": "2021-05-04T11:36:16.830141Z",
     "iopub.status.busy": "2021-05-04T11:36:16.829797Z",
     "iopub.status.idle": "2021-05-04T11:36:17.484579Z",
     "shell.execute_reply": "2021-05-04T11:36:17.483415Z",
     "shell.execute_reply.started": "2021-05-04T11:36:16.830106Z"
    },
    "tags": []
   },
   "outputs": [
    {
     "data": {
      "text/plain": [
       "Pipeline(steps=[('outlierRemover',\n",
       "                 OutlierRemover(variables=['Id', 'LotFrontage', 'LotArea',\n",
       "                                           'MasVnrArea', 'BsmtFinSF1',\n",
       "                                           'BsmtFinSF2', 'BsmtUnfSF',\n",
       "                                           'TotalBsmtSF', '1stFlrSF',\n",
       "                                           '2ndFlrSF', 'GrLivArea',\n",
       "                                           'GarageArea', 'WoodDeckSF',\n",
       "                                           'OpenPorchSF', 'EnclosedPorch',\n",
       "                                           'ScreenPorch', 'SalePrice'])),\n",
       "                ('dateProcessor',\n",
       "                 DateProcessor(variables=['YearBuilt', 'GarageYrBlt',\n",
       "                                          'YearRemo...\n",
       "                                            'BldgType', 'HouseStyle',\n",
       "                                            'OverallQual', 'OverallCond',\n",
       "                                            'RoofStyle', 'RoofMatl',\n",
       "                                            'Exterior1st', 'Exterior2nd',\n",
       "                                            'MasVnrType', 'ExterQual',\n",
       "                                            'ExterCond', 'Foundation',\n",
       "                                            'BsmtQual', 'BsmtCond',\n",
       "                                            'BsmtExposure', 'BsmtFinType1',\n",
       "                                            'BsmtFinType2', 'Heating',\n",
       "                                            'HeatingQC', ...])),\n",
       "                ('cleaner',\n",
       "                 Cleaner(variables=['Alley', 'PoolQC', 'Fence',\n",
       "                                    'MiscFeature'])),\n",
       "                ('scaler', ScalerImputer(variables=[None]))])"
      ]
     },
     "execution_count": 12,
     "metadata": {},
     "output_type": "execute_result"
    }
   ],
   "source": [
    "date_engineering_pipe.fit(data)"
   ]
  },
  {
   "cell_type": "markdown",
   "id": "807657de",
   "metadata": {
    "execution": {
     "iopub.execute_input": "2021-05-04T11:32:21.877312Z",
     "iopub.status.busy": "2021-05-04T11:32:21.876863Z",
     "iopub.status.idle": "2021-05-04T11:32:21.884321Z",
     "shell.execute_reply": "2021-05-04T11:32:21.882747Z",
     "shell.execute_reply.started": "2021-05-04T11:32:21.877271Z"
    },
    "tags": []
   },
   "source": [
    "Also, we can transform data using this pipeline"
   ]
  },
  {
   "cell_type": "code",
   "execution_count": 13,
   "id": "962cf718",
   "metadata": {
    "execution": {
     "iopub.execute_input": "2021-05-04T11:36:17.486430Z",
     "iopub.status.busy": "2021-05-04T11:36:17.486054Z",
     "iopub.status.idle": "2021-05-04T11:36:17.710181Z",
     "shell.execute_reply": "2021-05-04T11:36:17.708967Z",
     "shell.execute_reply.started": "2021-05-04T11:36:17.486393Z"
    },
    "tags": []
   },
   "outputs": [],
   "source": [
    "processed_data = date_engineering_pipe.transform(data)"
   ]
  },
  {
   "cell_type": "code",
   "execution_count": 14,
   "id": "455605e4",
   "metadata": {
    "execution": {
     "iopub.execute_input": "2021-05-04T11:36:17.712069Z",
     "iopub.status.busy": "2021-05-04T11:36:17.711715Z",
     "iopub.status.idle": "2021-05-04T11:36:17.775012Z",
     "shell.execute_reply": "2021-05-04T11:36:17.773901Z",
     "shell.execute_reply.started": "2021-05-04T11:36:17.712031Z"
    },
    "tags": []
   },
   "outputs": [
    {
     "data": {
      "text/html": [
       "<div>\n",
       "<style scoped>\n",
       "    .dataframe tbody tr th:only-of-type {\n",
       "        vertical-align: middle;\n",
       "    }\n",
       "\n",
       "    .dataframe tbody tr th {\n",
       "        vertical-align: top;\n",
       "    }\n",
       "\n",
       "    .dataframe thead th {\n",
       "        text-align: right;\n",
       "    }\n",
       "</style>\n",
       "<table border=\"1\" class=\"dataframe\">\n",
       "  <thead>\n",
       "    <tr style=\"text-align: right;\">\n",
       "      <th></th>\n",
       "      <th>LotFrontage</th>\n",
       "      <th>LotArea</th>\n",
       "      <th>MasVnrArea</th>\n",
       "      <th>BsmtFinSF1</th>\n",
       "      <th>BsmtFinSF2</th>\n",
       "      <th>BsmtUnfSF</th>\n",
       "      <th>TotalBsmtSF</th>\n",
       "      <th>1stFlrSF</th>\n",
       "      <th>2ndFlrSF</th>\n",
       "      <th>GrLivArea</th>\n",
       "      <th>...</th>\n",
       "      <th>YearRemodAdd_1.0</th>\n",
       "      <th>YearRemodAdd_2.0</th>\n",
       "      <th>YearRemodAdd_3.0</th>\n",
       "      <th>YearRemodAdd_4.0</th>\n",
       "      <th>YearRemodAdd_UNKNOWN</th>\n",
       "      <th>YrSold_0.0</th>\n",
       "      <th>YrSold_1.0</th>\n",
       "      <th>YrSold_2.0</th>\n",
       "      <th>YrSold_3.0</th>\n",
       "      <th>YrSold_UNKNOWN</th>\n",
       "    </tr>\n",
       "    <tr>\n",
       "      <th>Id</th>\n",
       "      <th></th>\n",
       "      <th></th>\n",
       "      <th></th>\n",
       "      <th></th>\n",
       "      <th></th>\n",
       "      <th></th>\n",
       "      <th></th>\n",
       "      <th></th>\n",
       "      <th></th>\n",
       "      <th></th>\n",
       "      <th></th>\n",
       "      <th></th>\n",
       "      <th></th>\n",
       "      <th></th>\n",
       "      <th></th>\n",
       "      <th></th>\n",
       "      <th></th>\n",
       "      <th></th>\n",
       "      <th></th>\n",
       "      <th></th>\n",
       "      <th></th>\n",
       "    </tr>\n",
       "  </thead>\n",
       "  <tbody>\n",
       "    <tr>\n",
       "      <th>1.0</th>\n",
       "      <td>65.0</td>\n",
       "      <td>8450.0</td>\n",
       "      <td>196.0</td>\n",
       "      <td>706.0</td>\n",
       "      <td>0.0</td>\n",
       "      <td>150.0</td>\n",
       "      <td>856.0</td>\n",
       "      <td>856.0</td>\n",
       "      <td>854.0</td>\n",
       "      <td>1710.0</td>\n",
       "      <td>...</td>\n",
       "      <td>0.0</td>\n",
       "      <td>0.0</td>\n",
       "      <td>1.0</td>\n",
       "      <td>0.0</td>\n",
       "      <td>0.0</td>\n",
       "      <td>0.0</td>\n",
       "      <td>1.0</td>\n",
       "      <td>0.0</td>\n",
       "      <td>0.0</td>\n",
       "      <td>0.0</td>\n",
       "    </tr>\n",
       "    <tr>\n",
       "      <th>2.0</th>\n",
       "      <td>80.0</td>\n",
       "      <td>9600.0</td>\n",
       "      <td>0.0</td>\n",
       "      <td>978.0</td>\n",
       "      <td>0.0</td>\n",
       "      <td>284.0</td>\n",
       "      <td>1262.0</td>\n",
       "      <td>1262.0</td>\n",
       "      <td>0.0</td>\n",
       "      <td>1262.0</td>\n",
       "      <td>...</td>\n",
       "      <td>1.0</td>\n",
       "      <td>0.0</td>\n",
       "      <td>0.0</td>\n",
       "      <td>0.0</td>\n",
       "      <td>0.0</td>\n",
       "      <td>1.0</td>\n",
       "      <td>0.0</td>\n",
       "      <td>0.0</td>\n",
       "      <td>0.0</td>\n",
       "      <td>0.0</td>\n",
       "    </tr>\n",
       "    <tr>\n",
       "      <th>3.0</th>\n",
       "      <td>68.0</td>\n",
       "      <td>11250.0</td>\n",
       "      <td>162.0</td>\n",
       "      <td>486.0</td>\n",
       "      <td>0.0</td>\n",
       "      <td>434.0</td>\n",
       "      <td>920.0</td>\n",
       "      <td>920.0</td>\n",
       "      <td>866.0</td>\n",
       "      <td>1786.0</td>\n",
       "      <td>...</td>\n",
       "      <td>0.0</td>\n",
       "      <td>0.0</td>\n",
       "      <td>1.0</td>\n",
       "      <td>0.0</td>\n",
       "      <td>0.0</td>\n",
       "      <td>0.0</td>\n",
       "      <td>1.0</td>\n",
       "      <td>0.0</td>\n",
       "      <td>0.0</td>\n",
       "      <td>0.0</td>\n",
       "    </tr>\n",
       "    <tr>\n",
       "      <th>4.0</th>\n",
       "      <td>60.0</td>\n",
       "      <td>9550.0</td>\n",
       "      <td>0.0</td>\n",
       "      <td>216.0</td>\n",
       "      <td>0.0</td>\n",
       "      <td>540.0</td>\n",
       "      <td>756.0</td>\n",
       "      <td>961.0</td>\n",
       "      <td>756.0</td>\n",
       "      <td>1717.0</td>\n",
       "      <td>...</td>\n",
       "      <td>1.0</td>\n",
       "      <td>0.0</td>\n",
       "      <td>0.0</td>\n",
       "      <td>0.0</td>\n",
       "      <td>0.0</td>\n",
       "      <td>0.0</td>\n",
       "      <td>0.0</td>\n",
       "      <td>0.0</td>\n",
       "      <td>0.0</td>\n",
       "      <td>1.0</td>\n",
       "    </tr>\n",
       "    <tr>\n",
       "      <th>5.0</th>\n",
       "      <td>84.0</td>\n",
       "      <td>14260.0</td>\n",
       "      <td>350.0</td>\n",
       "      <td>655.0</td>\n",
       "      <td>0.0</td>\n",
       "      <td>490.0</td>\n",
       "      <td>1145.0</td>\n",
       "      <td>1145.0</td>\n",
       "      <td>1053.0</td>\n",
       "      <td>2198.0</td>\n",
       "      <td>...</td>\n",
       "      <td>0.0</td>\n",
       "      <td>0.0</td>\n",
       "      <td>1.0</td>\n",
       "      <td>0.0</td>\n",
       "      <td>0.0</td>\n",
       "      <td>0.0</td>\n",
       "      <td>1.0</td>\n",
       "      <td>0.0</td>\n",
       "      <td>0.0</td>\n",
       "      <td>0.0</td>\n",
       "    </tr>\n",
       "    <tr>\n",
       "      <th>...</th>\n",
       "      <td>...</td>\n",
       "      <td>...</td>\n",
       "      <td>...</td>\n",
       "      <td>...</td>\n",
       "      <td>...</td>\n",
       "      <td>...</td>\n",
       "      <td>...</td>\n",
       "      <td>...</td>\n",
       "      <td>...</td>\n",
       "      <td>...</td>\n",
       "      <td>...</td>\n",
       "      <td>...</td>\n",
       "      <td>...</td>\n",
       "      <td>...</td>\n",
       "      <td>...</td>\n",
       "      <td>...</td>\n",
       "      <td>...</td>\n",
       "      <td>...</td>\n",
       "      <td>...</td>\n",
       "      <td>...</td>\n",
       "      <td>...</td>\n",
       "    </tr>\n",
       "    <tr>\n",
       "      <th>1456.0</th>\n",
       "      <td>62.0</td>\n",
       "      <td>7917.0</td>\n",
       "      <td>0.0</td>\n",
       "      <td>0.0</td>\n",
       "      <td>0.0</td>\n",
       "      <td>953.0</td>\n",
       "      <td>953.0</td>\n",
       "      <td>953.0</td>\n",
       "      <td>694.0</td>\n",
       "      <td>1647.0</td>\n",
       "      <td>...</td>\n",
       "      <td>0.0</td>\n",
       "      <td>0.0</td>\n",
       "      <td>1.0</td>\n",
       "      <td>0.0</td>\n",
       "      <td>0.0</td>\n",
       "      <td>1.0</td>\n",
       "      <td>0.0</td>\n",
       "      <td>0.0</td>\n",
       "      <td>0.0</td>\n",
       "      <td>0.0</td>\n",
       "    </tr>\n",
       "    <tr>\n",
       "      <th>1457.0</th>\n",
       "      <td>85.0</td>\n",
       "      <td>13175.0</td>\n",
       "      <td>119.0</td>\n",
       "      <td>790.0</td>\n",
       "      <td>163.0</td>\n",
       "      <td>589.0</td>\n",
       "      <td>1542.0</td>\n",
       "      <td>2073.0</td>\n",
       "      <td>0.0</td>\n",
       "      <td>2073.0</td>\n",
       "      <td>...</td>\n",
       "      <td>0.0</td>\n",
       "      <td>1.0</td>\n",
       "      <td>0.0</td>\n",
       "      <td>0.0</td>\n",
       "      <td>0.0</td>\n",
       "      <td>0.0</td>\n",
       "      <td>0.0</td>\n",
       "      <td>0.0</td>\n",
       "      <td>1.0</td>\n",
       "      <td>0.0</td>\n",
       "    </tr>\n",
       "    <tr>\n",
       "      <th>1458.0</th>\n",
       "      <td>66.0</td>\n",
       "      <td>9042.0</td>\n",
       "      <td>0.0</td>\n",
       "      <td>275.0</td>\n",
       "      <td>0.0</td>\n",
       "      <td>877.0</td>\n",
       "      <td>1152.0</td>\n",
       "      <td>1188.0</td>\n",
       "      <td>1152.0</td>\n",
       "      <td>2340.0</td>\n",
       "      <td>...</td>\n",
       "      <td>0.0</td>\n",
       "      <td>0.0</td>\n",
       "      <td>0.0</td>\n",
       "      <td>1.0</td>\n",
       "      <td>0.0</td>\n",
       "      <td>0.0</td>\n",
       "      <td>0.0</td>\n",
       "      <td>0.0</td>\n",
       "      <td>1.0</td>\n",
       "      <td>0.0</td>\n",
       "    </tr>\n",
       "    <tr>\n",
       "      <th>1459.0</th>\n",
       "      <td>68.0</td>\n",
       "      <td>9717.0</td>\n",
       "      <td>0.0</td>\n",
       "      <td>49.0</td>\n",
       "      <td>1029.0</td>\n",
       "      <td>0.0</td>\n",
       "      <td>1078.0</td>\n",
       "      <td>1078.0</td>\n",
       "      <td>0.0</td>\n",
       "      <td>1078.0</td>\n",
       "      <td>...</td>\n",
       "      <td>0.0</td>\n",
       "      <td>1.0</td>\n",
       "      <td>0.0</td>\n",
       "      <td>0.0</td>\n",
       "      <td>0.0</td>\n",
       "      <td>0.0</td>\n",
       "      <td>0.0</td>\n",
       "      <td>0.0</td>\n",
       "      <td>1.0</td>\n",
       "      <td>0.0</td>\n",
       "    </tr>\n",
       "    <tr>\n",
       "      <th>1460.0</th>\n",
       "      <td>75.0</td>\n",
       "      <td>9937.0</td>\n",
       "      <td>0.0</td>\n",
       "      <td>830.0</td>\n",
       "      <td>290.0</td>\n",
       "      <td>136.0</td>\n",
       "      <td>1256.0</td>\n",
       "      <td>1256.0</td>\n",
       "      <td>0.0</td>\n",
       "      <td>1256.0</td>\n",
       "      <td>...</td>\n",
       "      <td>1.0</td>\n",
       "      <td>0.0</td>\n",
       "      <td>0.0</td>\n",
       "      <td>0.0</td>\n",
       "      <td>0.0</td>\n",
       "      <td>0.0</td>\n",
       "      <td>1.0</td>\n",
       "      <td>0.0</td>\n",
       "      <td>0.0</td>\n",
       "      <td>0.0</td>\n",
       "    </tr>\n",
       "  </tbody>\n",
       "</table>\n",
       "<p>1460 rows × 234 columns</p>\n",
       "</div>"
      ],
      "text/plain": [
       "        LotFrontage  LotArea  MasVnrArea  BsmtFinSF1  BsmtFinSF2  BsmtUnfSF  \\\n",
       "Id                                                                            \n",
       "1.0            65.0   8450.0       196.0       706.0         0.0      150.0   \n",
       "2.0            80.0   9600.0         0.0       978.0         0.0      284.0   \n",
       "3.0            68.0  11250.0       162.0       486.0         0.0      434.0   \n",
       "4.0            60.0   9550.0         0.0       216.0         0.0      540.0   \n",
       "5.0            84.0  14260.0       350.0       655.0         0.0      490.0   \n",
       "...             ...      ...         ...         ...         ...        ...   \n",
       "1456.0         62.0   7917.0         0.0         0.0         0.0      953.0   \n",
       "1457.0         85.0  13175.0       119.0       790.0       163.0      589.0   \n",
       "1458.0         66.0   9042.0         0.0       275.0         0.0      877.0   \n",
       "1459.0         68.0   9717.0         0.0        49.0      1029.0        0.0   \n",
       "1460.0         75.0   9937.0         0.0       830.0       290.0      136.0   \n",
       "\n",
       "        TotalBsmtSF  1stFlrSF  2ndFlrSF  GrLivArea  ...  YearRemodAdd_1.0  \\\n",
       "Id                                                  ...                     \n",
       "1.0           856.0     856.0     854.0     1710.0  ...               0.0   \n",
       "2.0          1262.0    1262.0       0.0     1262.0  ...               1.0   \n",
       "3.0           920.0     920.0     866.0     1786.0  ...               0.0   \n",
       "4.0           756.0     961.0     756.0     1717.0  ...               1.0   \n",
       "5.0          1145.0    1145.0    1053.0     2198.0  ...               0.0   \n",
       "...             ...       ...       ...        ...  ...               ...   \n",
       "1456.0        953.0     953.0     694.0     1647.0  ...               0.0   \n",
       "1457.0       1542.0    2073.0       0.0     2073.0  ...               0.0   \n",
       "1458.0       1152.0    1188.0    1152.0     2340.0  ...               0.0   \n",
       "1459.0       1078.0    1078.0       0.0     1078.0  ...               0.0   \n",
       "1460.0       1256.0    1256.0       0.0     1256.0  ...               1.0   \n",
       "\n",
       "        YearRemodAdd_2.0  YearRemodAdd_3.0  YearRemodAdd_4.0  \\\n",
       "Id                                                             \n",
       "1.0                  0.0               1.0               0.0   \n",
       "2.0                  0.0               0.0               0.0   \n",
       "3.0                  0.0               1.0               0.0   \n",
       "4.0                  0.0               0.0               0.0   \n",
       "5.0                  0.0               1.0               0.0   \n",
       "...                  ...               ...               ...   \n",
       "1456.0               0.0               1.0               0.0   \n",
       "1457.0               1.0               0.0               0.0   \n",
       "1458.0               0.0               0.0               1.0   \n",
       "1459.0               1.0               0.0               0.0   \n",
       "1460.0               0.0               0.0               0.0   \n",
       "\n",
       "        YearRemodAdd_UNKNOWN  YrSold_0.0  YrSold_1.0  YrSold_2.0  YrSold_3.0  \\\n",
       "Id                                                                             \n",
       "1.0                      0.0         0.0         1.0         0.0         0.0   \n",
       "2.0                      0.0         1.0         0.0         0.0         0.0   \n",
       "3.0                      0.0         0.0         1.0         0.0         0.0   \n",
       "4.0                      0.0         0.0         0.0         0.0         0.0   \n",
       "5.0                      0.0         0.0         1.0         0.0         0.0   \n",
       "...                      ...         ...         ...         ...         ...   \n",
       "1456.0                   0.0         1.0         0.0         0.0         0.0   \n",
       "1457.0                   0.0         0.0         0.0         0.0         1.0   \n",
       "1458.0                   0.0         0.0         0.0         0.0         1.0   \n",
       "1459.0                   0.0         0.0         0.0         0.0         1.0   \n",
       "1460.0                   0.0         0.0         1.0         0.0         0.0   \n",
       "\n",
       "        YrSold_UNKNOWN  \n",
       "Id                      \n",
       "1.0                0.0  \n",
       "2.0                0.0  \n",
       "3.0                0.0  \n",
       "4.0                1.0  \n",
       "5.0                0.0  \n",
       "...                ...  \n",
       "1456.0             0.0  \n",
       "1457.0             0.0  \n",
       "1458.0             0.0  \n",
       "1459.0             0.0  \n",
       "1460.0             0.0  \n",
       "\n",
       "[1460 rows x 234 columns]"
      ]
     },
     "execution_count": 14,
     "metadata": {},
     "output_type": "execute_result"
    }
   ],
   "source": [
    "processed_data"
   ]
  },
  {
   "cell_type": "markdown",
   "id": "c57b4224",
   "metadata": {},
   "source": [
    "## MLflow\n",
    "\n",
    "MLflow is an open source platform to manage the ML lifecycle, including experimentation, reproducibility, deployment, and a central model registry.\n",
    "\n",
    "Firstly, we will log into ML Flow (the link is just for demonstration, will be shut down after the class)"
   ]
  },
  {
   "cell_type": "code",
   "execution_count": 15,
   "id": "4b8270d6",
   "metadata": {
    "execution": {
     "iopub.execute_input": "2021-05-04T11:36:17.776858Z",
     "iopub.status.busy": "2021-05-04T11:36:17.776459Z",
     "iopub.status.idle": "2021-05-04T11:36:18.185692Z",
     "shell.execute_reply": "2021-05-04T11:36:18.184454Z",
     "shell.execute_reply.started": "2021-05-04T11:36:17.776823Z"
    },
    "tags": []
   },
   "outputs": [],
   "source": [
    "# Import mlflow\n",
    "import mlflow\n",
    "import mlflow.sklearn\n",
    "mlflow.set_tracking_uri(\"http://78.45.31.168:5050/\")\n",
    "#mlflow.set_experiment(\"house-price-experiment\")"
   ]
  },
  {
   "cell_type": "code",
   "execution_count": 16,
   "id": "25adaadb",
   "metadata": {
    "execution": {
     "iopub.execute_input": "2021-05-04T11:36:18.187608Z",
     "iopub.status.busy": "2021-05-04T11:36:18.187227Z",
     "iopub.status.idle": "2021-05-04T11:36:18.202458Z",
     "shell.execute_reply": "2021-05-04T11:36:18.201111Z",
     "shell.execute_reply.started": "2021-05-04T11:36:18.187545Z"
    },
    "tags": []
   },
   "outputs": [
    {
     "name": "stderr",
     "output_type": "stream",
     "text": [
      "/opt/conda/lib/python3.8/site-packages/ipykernel/ipkernel.py:283: DeprecationWarning: `should_run_async` will not call `transform_cell` automatically in the future. Please pass the result to `transformed_cell` argument and any exception that happen during thetransform in `preprocessing_exc_tuple` in IPython 7.17 and above.\n",
      "  and should_run_async(code)\n"
     ]
    }
   ],
   "source": [
    "#with mlflow.start_run():\n",
    "#    mlflow.sklearn.log_model(\n",
    "#        date_engineering_pipe, \"model\", registered_model_name=\"date_engineering\",\n",
    "#    )"
   ]
  },
  {
   "cell_type": "markdown",
   "id": "2c786dc8",
   "metadata": {
    "execution": {
     "iopub.execute_input": "2021-05-04T10:21:36.164432Z",
     "iopub.status.busy": "2021-05-04T10:21:36.163655Z",
     "iopub.status.idle": "2021-05-04T10:21:36.182492Z",
     "shell.execute_reply": "2021-05-04T10:21:36.181230Z",
     "shell.execute_reply.started": "2021-05-04T10:21:36.164351Z"
    },
    "tags": []
   },
   "source": [
    "Next we will train the model"
   ]
  },
  {
   "cell_type": "code",
   "execution_count": 17,
   "id": "bcb93bdb",
   "metadata": {
    "execution": {
     "iopub.execute_input": "2021-05-04T11:36:18.205848Z",
     "iopub.status.busy": "2021-05-04T11:36:18.205052Z",
     "iopub.status.idle": "2021-05-04T11:36:18.223986Z",
     "shell.execute_reply": "2021-05-04T11:36:18.222342Z",
     "shell.execute_reply.started": "2021-05-04T11:36:18.205783Z"
    },
    "tags": []
   },
   "outputs": [],
   "source": [
    "from sklearn.model_selection import train_test_split\n",
    "\n",
    "x_train, x_test, y_train, y_test = train_test_split(\n",
    "    processed_data.drop(columns=['label'])\n",
    "    , processed_data[['label']]\n",
    "    , test_size = 0.3, random_state=42)"
   ]
  },
  {
   "cell_type": "code",
   "execution_count": 18,
   "id": "8ec37bfd",
   "metadata": {
    "execution": {
     "iopub.execute_input": "2021-05-04T11:36:18.225864Z",
     "iopub.status.busy": "2021-05-04T11:36:18.225480Z",
     "iopub.status.idle": "2021-05-04T11:36:18.605308Z",
     "shell.execute_reply": "2021-05-04T11:36:18.604302Z",
     "shell.execute_reply.started": "2021-05-04T11:36:18.225828Z"
    },
    "tags": []
   },
   "outputs": [
    {
     "name": "stdout",
     "output_type": "stream",
     "text": [
      "Elasticnet model (alpha=0.050000, l1_ratio=0.050000):\n",
      "  RMSE: 21233.556000833283\n",
      "  MAE: 15443.970517176716\n",
      "  R2: 0.9035227604636454\n"
     ]
    }
   ],
   "source": [
    "from sklearn.linear_model import ElasticNet\n",
    "from sklearn.linear_model import lasso_path, enet_path\n",
    "from sklearn.metrics import mean_squared_error, mean_absolute_error, r2_score\n",
    "\n",
    "# Evaluate metrics\n",
    "def eval_metrics(actual, pred):\n",
    "    rmse = np.sqrt(mean_squared_error(actual, pred))\n",
    "    mae = mean_absolute_error(actual, pred)\n",
    "    r2 = r2_score(actual, pred)\n",
    "    return rmse, mae, r2\n",
    "\n",
    "alpha = 0.05\n",
    "l1_ratio = 0.05\n",
    "\n",
    "# Run ElasticNet\n",
    "elnModel = ElasticNet(alpha=alpha, l1_ratio=l1_ratio, random_state=42)\n",
    "elnModel.fit(x_train, y_train)\n",
    "predicted_qualities = elnModel.predict(x_test)\n",
    "(rmse, mae, r2) = eval_metrics(y_test, predicted_qualities)\n",
    "\n",
    "# Print out ElasticNet model metrics\n",
    "print(\"Elasticnet model (alpha=%f, l1_ratio=%f):\" % (alpha, l1_ratio))\n",
    "print(\"  RMSE: %s\" % rmse)\n",
    "print(\"  MAE: %s\" % mae)\n",
    "print(\"  R2: %s\" % r2)"
   ]
  },
  {
   "cell_type": "markdown",
   "id": "f6ab5f48",
   "metadata": {
    "execution": {
     "iopub.execute_input": "2021-05-04T10:21:38.805239Z",
     "iopub.status.busy": "2021-05-04T10:21:38.804574Z",
     "iopub.status.idle": "2021-05-04T10:21:41.123359Z",
     "shell.execute_reply": "2021-05-04T10:21:41.121113Z",
     "shell.execute_reply.started": "2021-05-04T10:21:38.805146Z"
    },
    "tags": []
   },
   "source": [
    "Finally we can save and log model into MLflow."
   ]
  },
  {
   "cell_type": "code",
   "execution_count": 19,
   "id": "0cb40d66",
   "metadata": {
    "execution": {
     "iopub.execute_input": "2021-05-04T11:36:18.610397Z",
     "iopub.status.busy": "2021-05-04T11:36:18.610084Z",
     "iopub.status.idle": "2021-05-04T11:36:21.372059Z",
     "shell.execute_reply": "2021-05-04T11:36:21.370788Z",
     "shell.execute_reply.started": "2021-05-04T11:36:18.610366Z"
    },
    "tags": []
   },
   "outputs": [
    {
     "name": "stderr",
     "output_type": "stream",
     "text": [
      "/opt/conda/lib/python3.8/site-packages/ipykernel/ipkernel.py:283: DeprecationWarning: `should_run_async` will not call `transform_cell` automatically in the future. Please pass the result to `transformed_cell` argument and any exception that happen during thetransform in `preprocessing_exc_tuple` in IPython 7.17 and above.\n",
      "  and should_run_async(code)\n",
      "Registered model 'elnModel' already exists. Creating a new version of this model...\n",
      "Created version '6' of model 'elnModel'.\n"
     ]
    }
   ],
   "source": [
    "# Log mlflow attributes for mlflow UI\n",
    "with mlflow.start_run():\n",
    "    mlflow.log_param(\"alpha\", alpha)\n",
    "    mlflow.log_param(\"l1_ratio\", l1_ratio)\n",
    "    mlflow.log_metric(\"rmse\", rmse)\n",
    "    mlflow.log_metric(\"r2\", r2)\n",
    "    mlflow.log_metric(\"mae\", mae)\n",
    "    mlflow.sklearn.log_model(elnModel, \"elnModel\", registered_model_name=\"elnModel\")"
   ]
  },
  {
   "cell_type": "markdown",
   "id": "d62c307f",
   "metadata": {
    "execution": {
     "iopub.execute_input": "2021-05-04T10:21:43.065776Z",
     "iopub.status.busy": "2021-05-04T10:21:43.065294Z",
     "iopub.status.idle": "2021-05-04T10:21:45.460589Z",
     "shell.execute_reply": "2021-05-04T10:21:45.459469Z",
     "shell.execute_reply.started": "2021-05-04T10:21:43.065734Z"
    },
    "tags": []
   },
   "source": [
    "And another model for comparison\n"
   ]
  },
  {
   "cell_type": "code",
   "execution_count": 24,
   "id": "b14eadb7",
   "metadata": {
    "execution": {
     "iopub.execute_input": "2021-05-04T11:37:16.975331Z",
     "iopub.status.busy": "2021-05-04T11:37:16.974895Z",
     "iopub.status.idle": "2021-05-04T11:37:17.054942Z",
     "shell.execute_reply": "2021-05-04T11:37:17.053711Z",
     "shell.execute_reply.started": "2021-05-04T11:37:16.975291Z"
    },
    "tags": []
   },
   "outputs": [
    {
     "name": "stdout",
     "output_type": "stream",
     "text": [
      "Elasticnet model (alpha=0.050000, l1_ratio=0.050000):\n",
      "  RMSE: 23304.75284704685\n",
      "  MAE: 16730.87883107138\n",
      "  R2: 0.8837833351995802\n"
     ]
    }
   ],
   "source": [
    "from sklearn.linear_model import LinearRegression\n",
    "\n",
    "lin_model = LinearRegression()\n",
    "lin_model.fit(x_train, y_train)\n",
    "predicted_qualities = lin_model.predict(x_test)\n",
    "(rmse, mae, r2) = eval_metrics(y_test, predicted_qualities)\n",
    "\n",
    "# Print out ElasticNet model metrics\n",
    "print(\"Elasticnet model (alpha=%f, l1_ratio=%f):\" % (alpha, l1_ratio))\n",
    "print(\"  RMSE: %s\" % rmse)\n",
    "print(\"  MAE: %s\" % mae)\n",
    "print(\"  R2: %s\" % r2)\n",
    "\n",
    "# Log mlflow attributes for mlflow UI\n",
    "#with mlflow.start_run():\n",
    "#    mlflow.log_param(\"alpha\", alpha)\n",
    "#    mlflow.log_param(\"l1_ratio\", l1_ratio)\n",
    "#    mlflow.log_metric(\"rmse\", rmse)\n",
    "#    mlflow.log_metric(\"r2\", r2)\n",
    "#    mlflow.log_metric(\"mae\", mae)\n",
    "#    mlflow.sklearn.log_model(lin_model, \"linModel\", registered_model_name=\"linModel\")"
   ]
  },
  {
   "cell_type": "markdown",
   "id": "a10496a3",
   "metadata": {
    "execution": {
     "iopub.execute_input": "2021-05-04T10:21:46.479165Z",
     "iopub.status.busy": "2021-05-04T10:21:46.478715Z",
     "iopub.status.idle": "2021-05-04T10:21:46.491631Z",
     "shell.execute_reply": "2021-05-04T10:21:46.490459Z",
     "shell.execute_reply.started": "2021-05-04T10:21:46.479124Z"
    },
    "tags": []
   },
   "source": [
    "Correct result vs predicted results"
   ]
  },
  {
   "cell_type": "code",
   "execution_count": 21,
   "id": "7181cc93",
   "metadata": {
    "execution": {
     "iopub.execute_input": "2021-05-04T11:36:23.370363Z",
     "iopub.status.busy": "2021-05-04T11:36:23.369680Z",
     "iopub.status.idle": "2021-05-04T11:36:23.384841Z",
     "shell.execute_reply": "2021-05-04T11:36:23.383717Z",
     "shell.execute_reply.started": "2021-05-04T11:36:23.370290Z"
    },
    "tags": []
   },
   "outputs": [
    {
     "name": "stderr",
     "output_type": "stream",
     "text": [
      "/opt/conda/lib/python3.8/site-packages/ipykernel/ipkernel.py:283: DeprecationWarning: `should_run_async` will not call `transform_cell` automatically in the future. Please pass the result to `transformed_cell` argument and any exception that happen during thetransform in `preprocessing_exc_tuple` in IPython 7.17 and above.\n",
      "  and should_run_async(code)\n"
     ]
    },
    {
     "data": {
      "text/html": [
       "<div>\n",
       "<style scoped>\n",
       "    .dataframe tbody tr th:only-of-type {\n",
       "        vertical-align: middle;\n",
       "    }\n",
       "\n",
       "    .dataframe tbody tr th {\n",
       "        vertical-align: top;\n",
       "    }\n",
       "\n",
       "    .dataframe thead th {\n",
       "        text-align: right;\n",
       "    }\n",
       "</style>\n",
       "<table border=\"1\" class=\"dataframe\">\n",
       "  <thead>\n",
       "    <tr style=\"text-align: right;\">\n",
       "      <th></th>\n",
       "      <th>label</th>\n",
       "    </tr>\n",
       "    <tr>\n",
       "      <th>Id</th>\n",
       "      <th></th>\n",
       "    </tr>\n",
       "  </thead>\n",
       "  <tbody>\n",
       "    <tr>\n",
       "      <th>893.0</th>\n",
       "      <td>154500.0</td>\n",
       "    </tr>\n",
       "  </tbody>\n",
       "</table>\n",
       "</div>"
      ],
      "text/plain": [
       "          label\n",
       "Id             \n",
       "893.0  154500.0"
      ]
     },
     "execution_count": 21,
     "metadata": {},
     "output_type": "execute_result"
    }
   ],
   "source": [
    "y_test.head(1)"
   ]
  },
  {
   "cell_type": "markdown",
   "id": "7bb86a32",
   "metadata": {
    "execution": {
     "iopub.execute_input": "2021-05-04T10:21:49.999182Z",
     "iopub.status.busy": "2021-05-04T10:21:49.998677Z",
     "iopub.status.idle": "2021-05-04T10:21:51.408572Z",
     "shell.execute_reply": "2021-05-04T10:21:51.407192Z",
     "shell.execute_reply.started": "2021-05-04T10:21:49.999139Z"
    },
    "tags": []
   },
   "source": [
    "Published model runs as REST API"
   ]
  },
  {
   "cell_type": "code",
   "execution_count": 22,
   "id": "6ef65097",
   "metadata": {
    "execution": {
     "iopub.execute_input": "2021-05-04T11:36:23.386823Z",
     "iopub.status.busy": "2021-05-04T11:36:23.386433Z",
     "iopub.status.idle": "2021-05-04T11:36:25.143277Z",
     "shell.execute_reply": "2021-05-04T11:36:25.141940Z",
     "shell.execute_reply.started": "2021-05-04T11:36:23.386787Z"
    },
    "tags": []
   },
   "outputs": [
    {
     "name": "stderr",
     "output_type": "stream",
     "text": [
      "/opt/conda/lib/python3.8/site-packages/ipykernel/ipkernel.py:283: DeprecationWarning: `should_run_async` will not call `transform_cell` automatically in the future. Please pass the result to `transformed_cell` argument and any exception that happen during thetransform in `preprocessing_exc_tuple` in IPython 7.17 and above.\n",
      "  and should_run_async(code)\n"
     ]
    },
    {
     "name": "stdout",
     "output_type": "stream",
     "text": [
      "[136204.8692541481]"
     ]
    }
   ],
   "source": [
    "! curl -X POST -H \"Content-Type:application/json; format=pandas-split\" --data '{\"columns\":[\"LotFrontage\", \"LotArea\", \"MasVnrArea\", \"BsmtFinSF1\", \"BsmtFinSF2\", \"BsmtUnfSF\", \"TotalBsmtSF\", \"1stFlrSF\", \"2ndFlrSF\", \"GrLivArea\", \"GarageArea\", \"WoodDeckSF\", \"OpenPorchSF\", \"EnclosedPorch\", \"ScreenPorch\", \"MSSubClass_20\", \"MSSubClass_50\", \"MSSubClass_60\", \"MSSubClass_120\", \"MSSubClass_OTHER\", \"MSZoning_OTHER\", \"MSZoning_RL\", \"MSZoning_RM\", \"Street_Grvl\", \"Street_Pave\", \"LotShape_IR1\", \"LotShape_OTHER\", \"LotShape_Reg\", \"LandContour_Lvl\", \"LandContour_OTHER\", \"Utilities_AllPub\", \"Utilities_NoSeWa\", \"LotConfig_Corner\", \"LotConfig_CulDSac\", \"LotConfig_Inside\", \"LotConfig_OTHER\", \"LandSlope_Gtl\", \"LandSlope_OTHER\", \"Neighborhood_CollgCr\", \"Neighborhood_Edwards\", \"Neighborhood_Gilbert\", \"Neighborhood_NAmes\", \"Neighborhood_NridgHt\", \"Neighborhood_OTHER\", \"Neighborhood_OldTown\", \"Neighborhood_Sawyer\", \"Neighborhood_Somerst\", \"Condition1_Feedr\", \"Condition1_Norm\", \"Condition1_OTHER\", \"Condition2_Norm\", \"Condition2_OTHER\", \"BldgType_1Fam\", \"BldgType_OTHER\", \"BldgType_TwnhsE\", \"HouseStyle_1.5Fin\", \"HouseStyle_1Story\", \"HouseStyle_2Story\", \"HouseStyle_OTHER\", \"OverallQual_4\", \"OverallQual_5\", \"OverallQual_6\", \"OverallQual_7\", \"OverallQual_8\", \"OverallQual_OTHER\", \"OverallCond_5\", \"OverallCond_6\", \"OverallCond_7\", \"OverallCond_OTHER\", \"RoofStyle_Gable\", \"RoofStyle_Hip\", \"RoofStyle_OTHER\", \"RoofMatl_CompShg\", \"RoofMatl_OTHER\", \"Exterior1st_HdBoard\", \"Exterior1st_MetalSd\", \"Exterior1st_OTHER\", \"Exterior1st_Plywood\", \"Exterior1st_VinylSd\", \"Exterior1st_Wd Sdng\", \"Exterior2nd_HdBoard\", \"Exterior2nd_MetalSd\", \"Exterior2nd_OTHER\", \"Exterior2nd_Plywood\", \"Exterior2nd_VinylSd\", \"Exterior2nd_Wd Sdng\", \"MasVnrType_BrkCmn\", \"MasVnrType_BrkFace\", \"MasVnrType_None\", \"MasVnrType_Stone\", \"ExterQual_Gd\", \"ExterQual_OTHER\", \"ExterQual_TA\", \"ExterCond_Gd\", \"ExterCond_OTHER\", \"ExterCond_TA\", \"Foundation_BrkTil\", \"Foundation_CBlock\", \"Foundation_OTHER\", \"Foundation_PConc\", \"BsmtQual_Ex\", \"BsmtQual_Fa\", \"BsmtQual_Gd\", \"BsmtQual_TA\", \"BsmtCond_OTHER\", \"BsmtCond_TA\", \"BsmtExposure_Av\", \"BsmtExposure_Gd\", \"BsmtExposure_Mn\", \"BsmtExposure_No\", \"BsmtFinType1_ALQ\", \"BsmtFinType1_BLQ\", \"BsmtFinType1_GLQ\", \"BsmtFinType1_LwQ\", \"BsmtFinType1_Rec\", \"BsmtFinType1_Unf\", \"BsmtFinType2_OTHER\", \"BsmtFinType2_Unf\", \"Heating_GasA\", \"Heating_OTHER\", \"HeatingQC_Ex\", \"HeatingQC_Gd\", \"HeatingQC_OTHER\", \"HeatingQC_TA\", \"CentralAir_N\", \"CentralAir_Y\", \"Electrical_FuseA\", \"Electrical_OTHER\", \"Electrical_SBrkr\", \"LowQualFinSF_0\", \"LowQualFinSF_OTHER\", \"BsmtFullBath_0\", \"BsmtFullBath_1\", \"BsmtFullBath_OTHER\", \"BsmtHalfBath_0\", \"BsmtHalfBath_1\", \"BsmtHalfBath_2\", \"FullBath_1\", \"FullBath_2\", \"FullBath_OTHER\", \"HalfBath_0\", \"HalfBath_1\", \"HalfBath_2\", \"BedroomAbvGr_2\", \"BedroomAbvGr_3\", \"BedroomAbvGr_4\", \"BedroomAbvGr_OTHER\", \"KitchenAbvGr_1\", \"KitchenAbvGr_OTHER\", \"KitchenQual_Ex\", \"KitchenQual_Fa\", \"KitchenQual_Gd\", \"KitchenQual_TA\", \"TotRmsAbvGrd_4\", \"TotRmsAbvGrd_5\", \"TotRmsAbvGrd_6\", \"TotRmsAbvGrd_7\", \"TotRmsAbvGrd_8\", \"TotRmsAbvGrd_9\", \"TotRmsAbvGrd_OTHER\", \"Functional_OTHER\", \"Functional_Typ\", \"Fireplaces_0\", \"Fireplaces_1\", \"Fireplaces_2\", \"Fireplaces_3\", \"FireplaceQu_Gd\", \"FireplaceQu_OTHER\", \"FireplaceQu_TA\", \"GarageType_Attchd\", \"GarageType_BuiltIn\", \"GarageType_Detchd\", \"GarageType_OTHER\", \"GarageFinish_Fin\", \"GarageFinish_RFn\", \"GarageFinish_Unf\", \"GarageCars_0\", \"GarageCars_1\", \"GarageCars_2\", \"GarageCars_3\", \"GarageCars_4\", \"GarageQual_OTHER\", \"GarageQual_TA\", \"GarageCond_OTHER\", \"GarageCond_TA\", \"PavedDrive_N\", \"PavedDrive_P\", \"PavedDrive_Y\", \"3SsnPorch_0\", \"3SsnPorch_OTHER\", \"PoolArea_0\", \"PoolArea_OTHER\", \"MiscVal_0\", \"MiscVal_OTHER\", \"MoSold_3\", \"MoSold_4\", \"MoSold_5\", \"MoSold_6\", \"MoSold_7\", \"MoSold_8\", \"MoSold_10\", \"MoSold_11\", \"MoSold_OTHER\", \"SaleType_New\", \"SaleType_OTHER\", \"SaleType_WD\", \"SaleCondition_Abnorml\", \"SaleCondition_Normal\", \"SaleCondition_OTHER\", \"SaleCondition_Partial\", \"YearBuilt_0.0\", \"YearBuilt_1.0\", \"YearBuilt_2.0\", \"YearBuilt_3.0\", \"YearBuilt_4.0\", \"YearBuilt_UNKNOWN\", \"GarageYrBlt_0.0\", \"GarageYrBlt_1.0\", \"GarageYrBlt_2.0\", \"GarageYrBlt_3.0\", \"GarageYrBlt_4.0\", \"GarageYrBlt_UNKNOWN\", \"YearRemodAdd_0.0\", \"YearRemodAdd_1.0\", \"YearRemodAdd_2.0\", \"YearRemodAdd_3.0\", \"YearRemodAdd_4.0\", \"YearRemodAdd_UNKNOWN\", \"YrSold_0.0\", \"YrSold_1.0\", \"YrSold_2.0\", \"YrSold_3.0\", \"YrSold_UNKNOWNh\"],\"data\":[[70.0, 8414.0, 0.0, 663.0, 0.0, 396.0, 1059.0, 1068.0, 0.0, 1068.0, 264.0, 192.0, 0.0, 0.0, 0.0, 1.0, 0.0, 0.0, 0.0, 0.0, 0.0, 1.0, 0.0, 0.0, 1.0, 0.0, 0.0, 1.0, 1.0, 0.0, 1.0, 0.0, 0.0, 0.0, 1.0, 0.0, 1.0, 0.0, 0.0, 0.0, 0.0, 0.0, 0.0, 0.0, 0.0, 1.0, 0.0, 0.0, 1.0, 0.0, 1.0, 0.0, 1.0, 0.0, 0.0, 0.0, 1.0, 0.0, 0.0, 0.0, 0.0, 1.0, 0.0, 0.0, 0.0, 0.0, 0.0, 0.0, 1.0, 0.0, 1.0, 0.0, 1.0, 0.0, 1.0, 0.0, 0.0, 0.0, 0.0, 0.0, 1.0, 0.0, 0.0, 0.0, 0.0, 0.0, 0.0, 0.0, 1.0, 0.0, 0.0, 0.0, 1.0, 0.0, 0.0, 1.0, 0.0, 1.0, 0.0, 0.0, 0.0, 0.0, 0.0, 1.0, 0.0, 1.0, 0.0, 0.0, 0.0, 1.0, 0.0, 0.0, 1.0, 0.0, 0.0, 0.0, 0.0, 1.0, 1.0, 0.0, 0.0, 0.0, 0.0, 1.0, 0.0, 1.0, 0.0, 0.0, 1.0, 1.0, 0.0, 1.0, 0.0, 0.0, 0.0, 1.0, 0.0, 1.0, 0.0, 0.0, 1.0, 0.0, 0.0, 0.0, 1.0, 0.0, 0.0, 1.0, 0.0, 0.0, 0.0, 0.0, 1.0, 0.0, 0.0, 1.0, 0.0, 0.0, 0.0, 0.0, 0.0, 1.0, 1.0, 0.0, 0.0, 0.0, 0.0, 0.0, 0.0, 1.0, 0.0, 0.0, 0.0, 0.0, 1.0, 0.0, 0.0, 1.0, 0.0, 0.0, 0.0, 0.0, 1.0, 0.0, 1.0, 0.0, 0.0, 1.0, 1.0, 0.0, 1.0, 0.0, 1.0, 0.0, 0.0, 0.0, 0.0, 0.0, 0.0, 0.0, 0.0, 0.0, 1.0, 0.0, 0.0, 1.0, 0.0, 1.0, 0.0, 0.0, 0.0, 1.0, 0.0, 0.0, 0.0, 0.0, 0.0, 1.0, 0.0, 0.0, 0.0, 0.0, 0.0, 0.0, 0.0, 1.0, 0.0, 0.0, 0.0, 0.0, 0.0, 0.0, 1.0]]}' http://78.45.31.168:5001/invocations"
   ]
  },
  {
   "cell_type": "code",
   "execution_count": 25,
   "id": "8dc4c350",
   "metadata": {
    "execution": {
     "iopub.execute_input": "2021-05-04T11:40:02.964076Z",
     "iopub.status.busy": "2021-05-04T11:40:02.963601Z",
     "iopub.status.idle": "2021-05-04T11:40:04.385538Z",
     "shell.execute_reply": "2021-05-04T11:40:04.384252Z",
     "shell.execute_reply.started": "2021-05-04T11:40:02.964036Z"
    },
    "tags": []
   },
   "outputs": [
    {
     "name": "stdout",
     "output_type": "stream",
     "text": [
      "[[145039.51764900953]]"
     ]
    }
   ],
   "source": [
    "! curl -X POST -H \"Content-Type:application/json; format=pandas-split\" --data '{\"columns\":[\"LotFrontage\", \"LotArea\", \"MasVnrArea\", \"BsmtFinSF1\", \"BsmtFinSF2\", \"BsmtUnfSF\", \"TotalBsmtSF\", \"1stFlrSF\", \"2ndFlrSF\", \"GrLivArea\", \"GarageArea\", \"WoodDeckSF\", \"OpenPorchSF\", \"EnclosedPorch\", \"ScreenPorch\", \"MSSubClass_20\", \"MSSubClass_50\", \"MSSubClass_60\", \"MSSubClass_120\", \"MSSubClass_OTHER\", \"MSZoning_OTHER\", \"MSZoning_RL\", \"MSZoning_RM\", \"Street_Grvl\", \"Street_Pave\", \"LotShape_IR1\", \"LotShape_OTHER\", \"LotShape_Reg\", \"LandContour_Lvl\", \"LandContour_OTHER\", \"Utilities_AllPub\", \"Utilities_NoSeWa\", \"LotConfig_Corner\", \"LotConfig_CulDSac\", \"LotConfig_Inside\", \"LotConfig_OTHER\", \"LandSlope_Gtl\", \"LandSlope_OTHER\", \"Neighborhood_CollgCr\", \"Neighborhood_Edwards\", \"Neighborhood_Gilbert\", \"Neighborhood_NAmes\", \"Neighborhood_NridgHt\", \"Neighborhood_OTHER\", \"Neighborhood_OldTown\", \"Neighborhood_Sawyer\", \"Neighborhood_Somerst\", \"Condition1_Feedr\", \"Condition1_Norm\", \"Condition1_OTHER\", \"Condition2_Norm\", \"Condition2_OTHER\", \"BldgType_1Fam\", \"BldgType_OTHER\", \"BldgType_TwnhsE\", \"HouseStyle_1.5Fin\", \"HouseStyle_1Story\", \"HouseStyle_2Story\", \"HouseStyle_OTHER\", \"OverallQual_4\", \"OverallQual_5\", \"OverallQual_6\", \"OverallQual_7\", \"OverallQual_8\", \"OverallQual_OTHER\", \"OverallCond_5\", \"OverallCond_6\", \"OverallCond_7\", \"OverallCond_OTHER\", \"RoofStyle_Gable\", \"RoofStyle_Hip\", \"RoofStyle_OTHER\", \"RoofMatl_CompShg\", \"RoofMatl_OTHER\", \"Exterior1st_HdBoard\", \"Exterior1st_MetalSd\", \"Exterior1st_OTHER\", \"Exterior1st_Plywood\", \"Exterior1st_VinylSd\", \"Exterior1st_Wd Sdng\", \"Exterior2nd_HdBoard\", \"Exterior2nd_MetalSd\", \"Exterior2nd_OTHER\", \"Exterior2nd_Plywood\", \"Exterior2nd_VinylSd\", \"Exterior2nd_Wd Sdng\", \"MasVnrType_BrkCmn\", \"MasVnrType_BrkFace\", \"MasVnrType_None\", \"MasVnrType_Stone\", \"ExterQual_Gd\", \"ExterQual_OTHER\", \"ExterQual_TA\", \"ExterCond_Gd\", \"ExterCond_OTHER\", \"ExterCond_TA\", \"Foundation_BrkTil\", \"Foundation_CBlock\", \"Foundation_OTHER\", \"Foundation_PConc\", \"BsmtQual_Ex\", \"BsmtQual_Fa\", \"BsmtQual_Gd\", \"BsmtQual_TA\", \"BsmtCond_OTHER\", \"BsmtCond_TA\", \"BsmtExposure_Av\", \"BsmtExposure_Gd\", \"BsmtExposure_Mn\", \"BsmtExposure_No\", \"BsmtFinType1_ALQ\", \"BsmtFinType1_BLQ\", \"BsmtFinType1_GLQ\", \"BsmtFinType1_LwQ\", \"BsmtFinType1_Rec\", \"BsmtFinType1_Unf\", \"BsmtFinType2_OTHER\", \"BsmtFinType2_Unf\", \"Heating_GasA\", \"Heating_OTHER\", \"HeatingQC_Ex\", \"HeatingQC_Gd\", \"HeatingQC_OTHER\", \"HeatingQC_TA\", \"CentralAir_N\", \"CentralAir_Y\", \"Electrical_FuseA\", \"Electrical_OTHER\", \"Electrical_SBrkr\", \"LowQualFinSF_0\", \"LowQualFinSF_OTHER\", \"BsmtFullBath_0\", \"BsmtFullBath_1\", \"BsmtFullBath_OTHER\", \"BsmtHalfBath_0\", \"BsmtHalfBath_1\", \"BsmtHalfBath_2\", \"FullBath_1\", \"FullBath_2\", \"FullBath_OTHER\", \"HalfBath_0\", \"HalfBath_1\", \"HalfBath_2\", \"BedroomAbvGr_2\", \"BedroomAbvGr_3\", \"BedroomAbvGr_4\", \"BedroomAbvGr_OTHER\", \"KitchenAbvGr_1\", \"KitchenAbvGr_OTHER\", \"KitchenQual_Ex\", \"KitchenQual_Fa\", \"KitchenQual_Gd\", \"KitchenQual_TA\", \"TotRmsAbvGrd_4\", \"TotRmsAbvGrd_5\", \"TotRmsAbvGrd_6\", \"TotRmsAbvGrd_7\", \"TotRmsAbvGrd_8\", \"TotRmsAbvGrd_9\", \"TotRmsAbvGrd_OTHER\", \"Functional_OTHER\", \"Functional_Typ\", \"Fireplaces_0\", \"Fireplaces_1\", \"Fireplaces_2\", \"Fireplaces_3\", \"FireplaceQu_Gd\", \"FireplaceQu_OTHER\", \"FireplaceQu_TA\", \"GarageType_Attchd\", \"GarageType_BuiltIn\", \"GarageType_Detchd\", \"GarageType_OTHER\", \"GarageFinish_Fin\", \"GarageFinish_RFn\", \"GarageFinish_Unf\", \"GarageCars_0\", \"GarageCars_1\", \"GarageCars_2\", \"GarageCars_3\", \"GarageCars_4\", \"GarageQual_OTHER\", \"GarageQual_TA\", \"GarageCond_OTHER\", \"GarageCond_TA\", \"PavedDrive_N\", \"PavedDrive_P\", \"PavedDrive_Y\", \"3SsnPorch_0\", \"3SsnPorch_OTHER\", \"PoolArea_0\", \"PoolArea_OTHER\", \"MiscVal_0\", \"MiscVal_OTHER\", \"MoSold_3\", \"MoSold_4\", \"MoSold_5\", \"MoSold_6\", \"MoSold_7\", \"MoSold_8\", \"MoSold_10\", \"MoSold_11\", \"MoSold_OTHER\", \"SaleType_New\", \"SaleType_OTHER\", \"SaleType_WD\", \"SaleCondition_Abnorml\", \"SaleCondition_Normal\", \"SaleCondition_OTHER\", \"SaleCondition_Partial\", \"YearBuilt_0.0\", \"YearBuilt_1.0\", \"YearBuilt_2.0\", \"YearBuilt_3.0\", \"YearBuilt_4.0\", \"YearBuilt_UNKNOWN\", \"GarageYrBlt_0.0\", \"GarageYrBlt_1.0\", \"GarageYrBlt_2.0\", \"GarageYrBlt_3.0\", \"GarageYrBlt_4.0\", \"GarageYrBlt_UNKNOWN\", \"YearRemodAdd_0.0\", \"YearRemodAdd_1.0\", \"YearRemodAdd_2.0\", \"YearRemodAdd_3.0\", \"YearRemodAdd_4.0\", \"YearRemodAdd_UNKNOWN\", \"YrSold_0.0\", \"YrSold_1.0\", \"YrSold_2.0\", \"YrSold_3.0\", \"YrSold_UNKNOWNh\"],\"data\":[[70.0, 8414.0, 0.0, 663.0, 0.0, 396.0, 1059.0, 1068.0, 0.0, 1068.0, 264.0, 192.0, 0.0, 0.0, 0.0, 1.0, 0.0, 0.0, 0.0, 0.0, 0.0, 1.0, 0.0, 0.0, 1.0, 0.0, 0.0, 1.0, 1.0, 0.0, 1.0, 0.0, 0.0, 0.0, 1.0, 0.0, 1.0, 0.0, 0.0, 0.0, 0.0, 0.0, 0.0, 0.0, 0.0, 1.0, 0.0, 0.0, 1.0, 0.0, 1.0, 0.0, 1.0, 0.0, 0.0, 0.0, 1.0, 0.0, 0.0, 0.0, 0.0, 1.0, 0.0, 0.0, 0.0, 0.0, 0.0, 0.0, 1.0, 0.0, 1.0, 0.0, 1.0, 0.0, 1.0, 0.0, 0.0, 0.0, 0.0, 0.0, 1.0, 0.0, 0.0, 0.0, 0.0, 0.0, 0.0, 0.0, 1.0, 0.0, 0.0, 0.0, 1.0, 0.0, 0.0, 1.0, 0.0, 1.0, 0.0, 0.0, 0.0, 0.0, 0.0, 1.0, 0.0, 1.0, 0.0, 0.0, 0.0, 1.0, 0.0, 0.0, 1.0, 0.0, 0.0, 0.0, 0.0, 1.0, 1.0, 0.0, 0.0, 0.0, 0.0, 1.0, 0.0, 1.0, 0.0, 0.0, 1.0, 1.0, 0.0, 1.0, 0.0, 0.0, 0.0, 1.0, 0.0, 1.0, 0.0, 0.0, 1.0, 0.0, 0.0, 0.0, 1.0, 0.0, 0.0, 1.0, 0.0, 0.0, 0.0, 0.0, 1.0, 0.0, 0.0, 1.0, 0.0, 0.0, 0.0, 0.0, 0.0, 1.0, 1.0, 0.0, 0.0, 0.0, 0.0, 0.0, 0.0, 1.0, 0.0, 0.0, 0.0, 0.0, 1.0, 0.0, 0.0, 1.0, 0.0, 0.0, 0.0, 0.0, 1.0, 0.0, 1.0, 0.0, 0.0, 1.0, 1.0, 0.0, 1.0, 0.0, 1.0, 0.0, 0.0, 0.0, 0.0, 0.0, 0.0, 0.0, 0.0, 0.0, 1.0, 0.0, 0.0, 1.0, 0.0, 1.0, 0.0, 0.0, 0.0, 1.0, 0.0, 0.0, 0.0, 0.0, 0.0, 1.0, 0.0, 0.0, 0.0, 0.0, 0.0, 0.0, 0.0, 1.0, 0.0, 0.0, 0.0, 0.0, 0.0, 0.0, 1.0]]}' http://78.45.31.168:5002/invocations"
   ]
  },
  {
   "cell_type": "code",
   "execution_count": null,
   "id": "f29cd77f",
   "metadata": {},
   "outputs": [],
   "source": []
  }
 ],
 "metadata": {
  "kernelspec": {
   "display_name": "Python 3",
   "language": "python",
   "name": "python3"
  },
  "language_info": {
   "codemirror_mode": {
    "name": "ipython",
    "version": 3
   },
   "file_extension": ".py",
   "mimetype": "text/x-python",
   "name": "python",
   "nbconvert_exporter": "python",
   "pygments_lexer": "ipython3",
   "version": "3.8.8"
  }
 },
 "nbformat": 4,
 "nbformat_minor": 5
}
