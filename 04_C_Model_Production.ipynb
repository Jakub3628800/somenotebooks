{
 "cells": [
  {
   "cell_type": "markdown",
   "id": "2cfdb40f",
   "metadata": {
    "execution": {
     "iopub.execute_input": "2021-05-02T11:36:08.265944Z",
     "iopub.status.busy": "2021-05-02T11:36:08.265585Z",
     "iopub.status.idle": "2021-05-02T11:36:08.270209Z",
     "shell.execute_reply": "2021-05-02T11:36:08.269302Z",
     "shell.execute_reply.started": "2021-05-02T11:36:08.265906Z"
    },
    "tags": []
   },
   "source": [
    "# <font color='red'> LESSON 4C: Production Deployment</font>"
   ]
  },
  {
   "cell_type": "code",
   "execution_count": 126,
   "id": "6adbe670",
   "metadata": {
    "execution": {
     "iopub.execute_input": "2022-05-10T09:53:40.794144Z",
     "iopub.status.busy": "2022-05-10T09:53:40.793695Z",
     "iopub.status.idle": "2022-05-10T09:53:40.800818Z",
     "shell.execute_reply": "2022-05-10T09:53:40.799191Z",
     "shell.execute_reply.started": "2022-05-10T09:53:40.794103Z"
    },
    "tags": []
   },
   "outputs": [],
   "source": [
    "import pandas as pd\n",
    "import warnings\n",
    "warnings.filterwarnings('ignore')"
   ]
  },
  {
   "cell_type": "code",
   "execution_count": 127,
   "id": "f15de295",
   "metadata": {
    "execution": {
     "iopub.execute_input": "2022-05-10T09:53:41.153172Z",
     "iopub.status.busy": "2022-05-10T09:53:41.152708Z",
     "iopub.status.idle": "2022-05-10T09:53:41.196857Z",
     "shell.execute_reply": "2022-05-10T09:53:41.195720Z",
     "shell.execute_reply.started": "2022-05-10T09:53:41.153133Z"
    },
    "tags": []
   },
   "outputs": [],
   "source": [
    "data = pd.read_csv('./data/train.csv')"
   ]
  },
  {
   "cell_type": "markdown",
   "id": "ec51b794",
   "metadata": {},
   "source": [
    "## Scikit pipelines\n",
    "\n",
    "Pipeline can be used to chain multiple estimators into one. This is useful as there is often a fixed sequence of steps in processing the data, for example feature selection, normalization and classification. Pipeline serves multiple purposes here:\n",
    "\n",
    "**Convenience and encapsulation**\n",
    "\n",
    "You only have to call fit and predict once on your data to fit a whole sequence of estimators.\n",
    "\n",
    "**Joint parameter selection**\n",
    "\n",
    "You can grid search over parameters of all estimators in the pipeline at once.\n",
    "\n",
    "**Safety**\n",
    "\n",
    "Pipelines help avoid leaking statistics from your test data into the trained model in cross-validation, by ensuring that the same samples are used to train the transformers and predictors.\n",
    "\n",
    "All estimators in a pipeline, except the last one, must be transformers (i.e. must have a transform method). The last estimator may be any type (transformer, classifier, etc.)."
   ]
  },
  {
   "cell_type": "markdown",
   "id": "5c6df181",
   "metadata": {},
   "source": [
    "## Numeric vs. Categorical Features"
   ]
  },
  {
   "cell_type": "markdown",
   "id": "b1d77b26",
   "metadata": {},
   "source": [
    "At the beginning, we have to be sure that we are able to distinguish between continuous and categorical features. \n",
    "\n",
    "The reason is simple. The work and processing both type of features are different!!!\n",
    "\n",
    "  - **Continuous(numeric) feature**: Continuous variables are numeric variables that have an infinite number of values between any two values. A continuous variable can be numeric or date/time. *For example, the length of a part or the date and time a payment is received.*\n",
    "  \n",
    "  - **Categorical feature**: Categorical variables contain a finite number of categories or distinct groups. Categorical data might not have a logical order. *For example, categorical predictors include gender, material type, and payment method.*\n",
    "\n",
    "In general, type of object is not satisfactory and always correct. "
   ]
  },
  {
   "cell_type": "code",
   "execution_count": 128,
   "id": "c93085a9",
   "metadata": {
    "execution": {
     "iopub.execute_input": "2022-05-10T09:53:42.117481Z",
     "iopub.status.busy": "2022-05-10T09:53:42.117020Z",
     "iopub.status.idle": "2022-05-10T09:53:42.299321Z",
     "shell.execute_reply": "2022-05-10T09:53:42.298052Z",
     "shell.execute_reply.started": "2022-05-10T09:53:42.117440Z"
    },
    "tags": []
   },
   "outputs": [],
   "source": [
    "from pandas.api.types import is_numeric_dtype\n",
    "\n",
    "unique_count_ratio = 0.05\n",
    "empty_ratio = 0.9\n",
    "min_distinct_values = 2\n",
    "columns = data.columns\n",
    "# define label columns\n",
    "label = 'SalePrice'\n",
    "date_features = ['YearBuilt', 'GarageYrBlt', 'YearRemodAdd', 'YrSold']\n",
    "#manually remove features\n",
    "drop_features = ['PriceNtile', 'Neighbourhood_Rank']\n",
    "# define empty list of categorical features which we will fill\n",
    "cat_features = []\n",
    "# define empty list of numerical features which we will fill\n",
    "num_features = []\n",
    "\n",
    "\n",
    "#consider feature categorical if ratio is below given value and number of unique records is >= 2\n",
    "for var in columns:\n",
    "    if \\\n",
    "      1.*data[var].nunique()/data[var].count() < unique_count_ratio \\\n",
    "      and data[var].nunique() >= min_distinct_values \\\n",
    "      and data[var].isna().sum() / data[var].count() < empty_ratio:\n",
    "        cat_features.append(var)\n",
    "    \n",
    "#consider feature numerical if ratio is greater than or equal to given value and feature has numerival data type\n",
    "for var in columns:\n",
    "    if \\\n",
    "      1.*data[var].nunique()/data[var].count() >= unique_count_ratio \\\n",
    "      and is_numeric_dtype(data[var]) \\\n",
    "      and data[var].isna().sum() / data[var].count() < empty_ratio:\n",
    "        num_features.append(var)\n",
    "        \n",
    "# remove data features from feature lists\n",
    "cat_features = [f for f in cat_features if f not in date_features + drop_features ]\n",
    "num_features = [f for f in num_features if f not in date_features + drop_features ]\n",
    "leftover_features = [c for c in columns if c not in num_features + cat_features + date_features]"
   ]
  },
  {
   "cell_type": "markdown",
   "id": "cf524660",
   "metadata": {
    "execution": {
     "iopub.execute_input": "2021-05-02T11:35:06.640989Z",
     "iopub.status.busy": "2021-05-02T11:35:06.640624Z",
     "iopub.status.idle": "2021-05-02T11:35:06.649331Z",
     "shell.execute_reply": "2021-05-02T11:35:06.647763Z",
     "shell.execute_reply.started": "2021-05-02T11:35:06.640950Z"
    }
   },
   "source": [
    "## OutlierRemover\n",
    "Create a custom object for outlier handling"
   ]
  },
  {
   "cell_type": "code",
   "execution_count": 129,
   "id": "683610bf",
   "metadata": {
    "execution": {
     "iopub.execute_input": "2022-05-10T09:53:42.693136Z",
     "iopub.status.busy": "2022-05-10T09:53:42.692687Z",
     "iopub.status.idle": "2022-05-10T09:53:42.705893Z",
     "shell.execute_reply": "2022-05-10T09:53:42.704632Z",
     "shell.execute_reply.started": "2022-05-10T09:53:42.693096Z"
    },
    "tags": []
   },
   "outputs": [],
   "source": [
    "from sklearn.base import BaseEstimator, TransformerMixin\n",
    "import numpy as np\n",
    "\n",
    "class OutlierRemover(BaseEstimator, TransformerMixin):\n",
    "    \"\"\"Categorical data missing value imputer.\"\"\"\n",
    "\n",
    "    def __init__(self, variables=None) -> None:\n",
    "        if not isinstance(variables, list):\n",
    "            self.variables = [variables]\n",
    "        else:\n",
    "            self.variables = variables\n",
    "\n",
    "    def fit(self, X: pd.DataFrame, y: pd.Series = None\n",
    "            ) -> 'OutlierRemover':\n",
    "        \"\"\"Fit statement to accomodate the sklearn pipeline.\"\"\"\n",
    "        self.var_iqrs = {}\n",
    "        for var in self.variables:\n",
    "            Q3 = np.quantile(X[var], 0.75)\n",
    "            Q1 = np.quantile(X[var], 0.25)\n",
    "            IQR = Q3 - Q1\n",
    "            lower_range = Q1 - 1.5 * IQR\n",
    "            upper_range = Q3 + 1.5 * IQR\n",
    "            self.var_iqrs[var] = {\n",
    "                'lw_rng': lower_range\n",
    "                , 'up_rng': upper_range}\n",
    "        return self\n",
    "\n",
    "    def transform(self, X: pd.DataFrame) -> pd.DataFrame:\n",
    "        \"\"\"Apply the transforms to the dataframe.\"\"\"\n",
    "\n",
    "        X = X.copy()\n",
    "        for var in self.variables:\n",
    "            lower_range = self.var_iqrs[var]['lw_rng']\n",
    "            upper_range = self.var_iqrs[var]['up_rng']\n",
    "            if not lower_range == upper_range == 0:\n",
    "                X[var] = np.where(X[var] > upper_range, upper_range, X[var])\n",
    "                X[var] = np.where(X[var] < lower_range, lower_range, X[var])\n",
    "\n",
    "        return X"
   ]
  },
  {
   "cell_type": "markdown",
   "id": "bbaeda91",
   "metadata": {
    "execution": {
     "iopub.execute_input": "2021-05-02T12:38:53.409369Z",
     "iopub.status.busy": "2021-05-02T12:38:53.409019Z",
     "iopub.status.idle": "2021-05-02T12:38:53.414219Z",
     "shell.execute_reply": "2021-05-02T12:38:53.412899Z",
     "shell.execute_reply.started": "2021-05-02T12:38:53.409330Z"
    }
   },
   "source": [
    "## DateProcessor\n",
    "Custom date processor"
   ]
  },
  {
   "cell_type": "code",
   "execution_count": 130,
   "id": "2a36f10e",
   "metadata": {
    "execution": {
     "iopub.execute_input": "2022-05-10T09:53:43.163347Z",
     "iopub.status.busy": "2022-05-10T09:53:43.162886Z",
     "iopub.status.idle": "2022-05-10T09:53:43.174913Z",
     "shell.execute_reply": "2022-05-10T09:53:43.173618Z",
     "shell.execute_reply.started": "2022-05-10T09:53:43.163307Z"
    },
    "tags": []
   },
   "outputs": [],
   "source": [
    "class DateProcessor(BaseEstimator, TransformerMixin):\n",
    "    \"\"\"Categorical data missing value imputer.\"\"\"\n",
    "\n",
    "    def __init__(self, variables=None, date_treshold=1900) -> None:\n",
    "        if not isinstance(variables, list):\n",
    "            self.variables = [variables]\n",
    "        else:\n",
    "            self.variables = variables\n",
    "        self.date_treshold = date_treshold\n",
    "\n",
    "    def fit(self, X: pd.DataFrame, y: pd.Series = None\n",
    "            ) -> 'DateProcessor':\n",
    "        \"\"\"Fit statement to accomodate the sklearn pipeline.\"\"\"\n",
    "        self.max_dates = {}\n",
    "        self.quantiles = {}\n",
    "        for var in self.variables:\n",
    "            self.quantiles[var] = X[var].quantile([0, .2, .4, .6, .8, 1]).unique()\n",
    "        return self\n",
    "\n",
    "    def transform(self, X: pd.DataFrame) -> pd.DataFrame:\n",
    "        \"\"\"Apply the transforms to the dataframe.\"\"\"\n",
    "\n",
    "        X = X.copy()\n",
    "        for var in self.variables:\n",
    "            X[var] = np.where(X[var] <= self.date_treshold, np.nan, X[var]).astype(float)\n",
    "            X[var] = pd.cut(X[var], bins=self.quantiles[var], labels=False)\n",
    "            X[var] = X[var].replace(np.nan, 'UNKNOWN').astype(str)\n",
    "        return X"
   ]
  },
  {
   "cell_type": "markdown",
   "id": "e095c490",
   "metadata": {},
   "source": [
    "## CategoryMerger\n",
    "\n",
    "Custom category merger for categories with low counts"
   ]
  },
  {
   "cell_type": "code",
   "execution_count": 131,
   "id": "2f80697a",
   "metadata": {
    "execution": {
     "iopub.execute_input": "2022-05-10T09:53:43.666638Z",
     "iopub.status.busy": "2022-05-10T09:53:43.666123Z",
     "iopub.status.idle": "2022-05-10T09:53:43.681317Z",
     "shell.execute_reply": "2022-05-10T09:53:43.680075Z",
     "shell.execute_reply.started": "2022-05-10T09:53:43.666596Z"
    },
    "tags": []
   },
   "outputs": [],
   "source": [
    "class CategoryMerger(BaseEstimator, TransformerMixin):\n",
    "    \"\"\"Categorical data missing value imputer.\"\"\"\n",
    "\n",
    "    def __init__(self, variables=None ) -> None:\n",
    "        if not isinstance(variables, list):\n",
    "            self.variables = [variables]\n",
    "        else:\n",
    "            self.variables = variables\n",
    "        self.merge_treshold = .05\n",
    "\n",
    "    def fit(self, X: pd.DataFrame, y: pd.Series = None\n",
    "            ) -> 'CategoryMerger':\n",
    "        \"\"\"Fit statement to accomodate the sklearn pipeline.\"\"\"\n",
    "        self.merge_cats = {}\n",
    "        df_size = X.shape[0]\n",
    "        for var in self.variables:\n",
    "            #group by category value and get count\n",
    "            cat_distribution = pd.DataFrame(X[[var]].groupby(var).size() / df_size).reset_index().rename(columns={0: 'count'}).sort_values(by='count')\n",
    "            #get those values with count <= that minimum value\n",
    "            insufficient_count_data = cat_distribution[cat_distribution['count'] <= self.merge_treshold]\n",
    "            #if there are more of those per category\n",
    "            if insufficient_count_data.shape[0] > 1:\n",
    "                self.merge_cats[var] = insufficient_count_data[var].tolist()\n",
    "            else:\n",
    "                self.merge_cats[var] = None\n",
    "\n",
    "        return self\n",
    "\n",
    "    def transform(self, X: pd.DataFrame) -> pd.DataFrame:\n",
    "        \"\"\"Apply the transforms to the dataframe.\"\"\"\n",
    "\n",
    "        X = X.copy()\n",
    "        for var in self.variables:\n",
    "            if self.merge_cats[var] is not None:\n",
    "                X[var] = X[var].replace(self.merge_cats[var], 'OTHER')\n",
    "        return X"
   ]
  },
  {
   "cell_type": "markdown",
   "id": "817fe4a2",
   "metadata": {},
   "source": [
    "## CategoryEncoder\n",
    "\n",
    "Custom category encoder"
   ]
  },
  {
   "cell_type": "code",
   "execution_count": 132,
   "id": "5e1fa194",
   "metadata": {
    "execution": {
     "iopub.execute_input": "2022-05-10T09:53:44.146924Z",
     "iopub.status.busy": "2022-05-10T09:53:44.146407Z",
     "iopub.status.idle": "2022-05-10T09:53:44.155235Z",
     "shell.execute_reply": "2022-05-10T09:53:44.153980Z",
     "shell.execute_reply.started": "2022-05-10T09:53:44.146883Z"
    },
    "tags": []
   },
   "outputs": [],
   "source": [
    "class CategoryEncoder(BaseEstimator, TransformerMixin):\n",
    "    \"\"\"Categorical data missing value imputer.\"\"\"\n",
    "\n",
    "    def __init__(self, variables=None ) -> None:\n",
    "        if not isinstance(variables, list):\n",
    "            self.variables = [variables]\n",
    "        else:\n",
    "            self.variables = variables\n",
    "        self.merge_treshold = .05\n",
    "\n",
    "    def fit(self, X: pd.DataFrame, y: pd.Series = None\n",
    "            ) -> 'CategoryEncoder':\n",
    "        \"\"\"Fit statement to accomodate the sklearn pipeline.\"\"\"\n",
    "        \n",
    "        return self\n",
    "\n",
    "    def transform(self, X: pd.DataFrame) -> pd.DataFrame:\n",
    "        \"\"\"Apply the transforms to the dataframe.\"\"\"\n",
    "\n",
    "        X = X.copy()\n",
    "        X = pd.get_dummies(X , columns = self.variables, prefix = self.variables) \\\n",
    "        \n",
    "        return X"
   ]
  },
  {
   "cell_type": "markdown",
   "id": "4ab672e4",
   "metadata": {},
   "source": [
    "## Scaler & Imputer"
   ]
  },
  {
   "cell_type": "code",
   "execution_count": 133,
   "id": "27f71219",
   "metadata": {
    "execution": {
     "iopub.execute_input": "2022-05-10T09:53:44.942819Z",
     "iopub.status.busy": "2022-05-10T09:53:44.942334Z",
     "iopub.status.idle": "2022-05-10T09:53:44.953586Z",
     "shell.execute_reply": "2022-05-10T09:53:44.952129Z",
     "shell.execute_reply.started": "2022-05-10T09:53:44.942779Z"
    },
    "tags": []
   },
   "outputs": [],
   "source": [
    "import numpy as np\n",
    "from sklearn.impute import SimpleImputer\n",
    "from sklearn.preprocessing import StandardScaler\n",
    "\n",
    "class ScalerImputer(BaseEstimator, TransformerMixin):\n",
    "    \"\"\"Categorical data missing value imputer.\"\"\"\n",
    "\n",
    "    def __init__(self, variables=None ) -> None:\n",
    "        if not isinstance(variables, list):\n",
    "            self.variables = [variables]\n",
    "        else:\n",
    "            self.variables = variables\n",
    "        self.merge_treshold = .05\n",
    "        self.imputer = SimpleImputer(missing_values=np.nan, strategy='median')\n",
    "        #self.scaler = StandardScaler()\n",
    "\n",
    "    def fit(self, X: pd.DataFrame, y: pd.Series = None\n",
    "            ) -> 'ScalerImputer':\n",
    "        \"\"\"Fit statement to accomodate the sklearn pipeline.\"\"\"\n",
    "        self.imputer.fit(X)\n",
    "        #self.scaler.fit(X)\n",
    "        \n",
    "        return self\n",
    "\n",
    "    def transform(self, X: pd.DataFrame) -> pd.DataFrame:\n",
    "        \"\"\"Apply the transforms to the dataframe.\"\"\"\n",
    "\n",
    "        X = X.copy()\n",
    "        X_c = X.copy()\n",
    "        X = pd.DataFrame(self.imputer.transform(X))\n",
    "        #X = pd.DataFrame(self.scaler.transform(X))\n",
    "        X.columns = X_c.columns\n",
    "        X.index = X_c.index\n",
    "        \n",
    "        return X"
   ]
  },
  {
   "cell_type": "markdown",
   "id": "0b5bfc57",
   "metadata": {},
   "source": [
    "## Cleaner\n",
    "Final step top format the data frame"
   ]
  },
  {
   "cell_type": "code",
   "execution_count": 134,
   "id": "99e82d27",
   "metadata": {
    "execution": {
     "iopub.execute_input": "2022-05-10T09:53:45.627007Z",
     "iopub.status.busy": "2022-05-10T09:53:45.626533Z",
     "iopub.status.idle": "2022-05-10T09:53:45.635601Z",
     "shell.execute_reply": "2022-05-10T09:53:45.634373Z",
     "shell.execute_reply.started": "2022-05-10T09:53:45.626967Z"
    },
    "tags": []
   },
   "outputs": [],
   "source": [
    "class Cleaner(BaseEstimator, TransformerMixin):\n",
    "    \"\"\"Categorical data missing value imputer.\"\"\"\n",
    "\n",
    "    def __init__(self, variables=None ) -> None:\n",
    "        if not isinstance(variables, list):\n",
    "            self.variables = [variables]\n",
    "        else:\n",
    "            self.variables = variables\n",
    "        self.merge_treshold = .05\n",
    "\n",
    "    def fit(self, X: pd.DataFrame, y: pd.Series = None\n",
    "            ) -> 'Cleaner':\n",
    "        \"\"\"Fit statement to accomodate the sklearn pipeline.\"\"\"\n",
    "        \n",
    "        return self\n",
    "\n",
    "    def transform(self, X: pd.DataFrame) -> pd.DataFrame:\n",
    "        \"\"\"Apply the transforms to the dataframe.\"\"\"\n",
    "\n",
    "        X = X.copy()\n",
    "        X = X \\\n",
    "            .set_index('Id') \\\n",
    "            .rename(columns={'SalePrice': 'label'}) \\\n",
    "            .drop(columns=self.variables)\n",
    "        \n",
    "        return X"
   ]
  },
  {
   "cell_type": "markdown",
   "id": "f689a887",
   "metadata": {},
   "source": [
    "## Assembling the pipeline\n",
    "\n",
    "Sklearn pipelines allows us to combine multiple estimators into a single pipeline"
   ]
  },
  {
   "cell_type": "code",
   "execution_count": 135,
   "id": "ad778930",
   "metadata": {
    "execution": {
     "iopub.execute_input": "2022-05-10T09:53:46.382249Z",
     "iopub.status.busy": "2022-05-10T09:53:46.381801Z",
     "iopub.status.idle": "2022-05-10T09:53:46.389542Z",
     "shell.execute_reply": "2022-05-10T09:53:46.387893Z",
     "shell.execute_reply.started": "2022-05-10T09:53:46.382210Z"
    },
    "tags": []
   },
   "outputs": [],
   "source": [
    "from sklearn.pipeline import Pipeline"
   ]
  },
  {
   "cell_type": "markdown",
   "id": "7ae9774d",
   "metadata": {},
   "source": [
    "Our pipeline has following steps:\n",
    "  - outlierRemover\n",
    "  - dateProcessor\n",
    "  - categoryMerger\n",
    "  - categoryEncoder\n",
    "  - cleaner\n",
    "  - scaler"
   ]
  },
  {
   "cell_type": "code",
   "execution_count": 141,
   "id": "2d4aeb2a",
   "metadata": {
    "execution": {
     "iopub.execute_input": "2022-05-10T10:10:41.665258Z",
     "iopub.status.busy": "2022-05-10T10:10:41.664667Z",
     "iopub.status.idle": "2022-05-10T10:10:41.673239Z",
     "shell.execute_reply": "2022-05-10T10:10:41.671991Z",
     "shell.execute_reply.started": "2022-05-10T10:10:41.665219Z"
    },
    "tags": []
   },
   "outputs": [],
   "source": [
    "data_engineering_pipe = Pipeline([\n",
    "      ('outlierRemover', OutlierRemover(variables=num_features))\n",
    "    , ('dateProcessor', DateProcessor(variables=date_features))\n",
    "    , ('categoryMerger', CategoryMerger(variables=cat_features + date_features))\n",
    "    , ('categoryEncoder', CategoryEncoder(variables=cat_features + date_features))\n",
    "    , ('cleaner', Cleaner(variables=leftover_features))\n",
    "    , ('scaler', ScalerImputer())\n",
    "])"
   ]
  },
  {
   "cell_type": "markdown",
   "id": "d921b9dc",
   "metadata": {
    "execution": {
     "iopub.execute_input": "2021-05-04T11:31:59.822711Z",
     "iopub.status.busy": "2021-05-04T11:31:59.822218Z",
     "iopub.status.idle": "2021-05-04T11:31:59.830440Z",
     "shell.execute_reply": "2021-05-04T11:31:59.828649Z",
     "shell.execute_reply.started": "2021-05-04T11:31:59.822670Z"
    },
    "tags": []
   },
   "source": [
    "We can call `.fit` on whole pipeline at once"
   ]
  },
  {
   "cell_type": "code",
   "execution_count": 142,
   "id": "dab8c356",
   "metadata": {
    "execution": {
     "iopub.execute_input": "2022-05-10T10:10:43.069113Z",
     "iopub.status.busy": "2022-05-10T10:10:43.068500Z",
     "iopub.status.idle": "2022-05-10T10:10:43.766666Z",
     "shell.execute_reply": "2022-05-10T10:10:43.765569Z",
     "shell.execute_reply.started": "2022-05-10T10:10:43.069053Z"
    },
    "tags": []
   },
   "outputs": [
    {
     "data": {
      "text/plain": [
       "Pipeline(steps=[('outlierRemover',\n",
       "                 OutlierRemover(variables=['Id', 'LotFrontage', 'LotArea',\n",
       "                                           'MasVnrArea', 'BsmtFinSF1',\n",
       "                                           'BsmtFinSF2', 'BsmtUnfSF',\n",
       "                                           'TotalBsmtSF', '1stFlrSF',\n",
       "                                           '2ndFlrSF', 'GrLivArea',\n",
       "                                           'GarageArea', 'WoodDeckSF',\n",
       "                                           'OpenPorchSF', 'EnclosedPorch',\n",
       "                                           'ScreenPorch', 'SalePrice'])),\n",
       "                ('dateProcessor',\n",
       "                 DateProcessor(variables=['YearBuilt', 'GarageYrBlt',\n",
       "                                          'YearRemo...\n",
       "                                            'BldgType', 'HouseStyle',\n",
       "                                            'OverallQual', 'OverallCond',\n",
       "                                            'RoofStyle', 'RoofMatl',\n",
       "                                            'Exterior1st', 'Exterior2nd',\n",
       "                                            'MasVnrType', 'ExterQual',\n",
       "                                            'ExterCond', 'Foundation',\n",
       "                                            'BsmtQual', 'BsmtCond',\n",
       "                                            'BsmtExposure', 'BsmtFinType1',\n",
       "                                            'BsmtFinType2', 'Heating',\n",
       "                                            'HeatingQC', ...])),\n",
       "                ('cleaner',\n",
       "                 Cleaner(variables=['Alley', 'PoolQC', 'Fence',\n",
       "                                    'MiscFeature'])),\n",
       "                ('scaler', ScalerImputer(variables=[None]))])"
      ]
     },
     "execution_count": 142,
     "metadata": {},
     "output_type": "execute_result"
    }
   ],
   "source": [
    "data_engineering_pipe.fit(data)"
   ]
  },
  {
   "cell_type": "markdown",
   "id": "09d55c09",
   "metadata": {
    "execution": {
     "iopub.execute_input": "2021-05-04T11:32:21.877312Z",
     "iopub.status.busy": "2021-05-04T11:32:21.876863Z",
     "iopub.status.idle": "2021-05-04T11:32:21.884321Z",
     "shell.execute_reply": "2021-05-04T11:32:21.882747Z",
     "shell.execute_reply.started": "2021-05-04T11:32:21.877271Z"
    },
    "tags": []
   },
   "source": [
    "Also, we can transform data using this pipeline"
   ]
  },
  {
   "cell_type": "code",
   "execution_count": 143,
   "id": "6f3671d5",
   "metadata": {
    "execution": {
     "iopub.execute_input": "2022-05-10T10:10:45.593026Z",
     "iopub.status.busy": "2022-05-10T10:10:45.592513Z",
     "iopub.status.idle": "2022-05-10T10:10:45.822957Z",
     "shell.execute_reply": "2022-05-10T10:10:45.821690Z",
     "shell.execute_reply.started": "2022-05-10T10:10:45.592938Z"
    },
    "tags": []
   },
   "outputs": [],
   "source": [
    "processed_data = data_engineering_pipe.transform(data)"
   ]
  },
  {
   "cell_type": "code",
   "execution_count": 144,
   "id": "dadc3c8c",
   "metadata": {
    "execution": {
     "iopub.execute_input": "2022-05-10T10:10:49.077241Z",
     "iopub.status.busy": "2022-05-10T10:10:49.076773Z",
     "iopub.status.idle": "2022-05-10T10:10:49.142316Z",
     "shell.execute_reply": "2022-05-10T10:10:49.141263Z",
     "shell.execute_reply.started": "2022-05-10T10:10:49.077201Z"
    },
    "tags": []
   },
   "outputs": [
    {
     "data": {
      "text/html": [
       "<div>\n",
       "<style scoped>\n",
       "    .dataframe tbody tr th:only-of-type {\n",
       "        vertical-align: middle;\n",
       "    }\n",
       "\n",
       "    .dataframe tbody tr th {\n",
       "        vertical-align: top;\n",
       "    }\n",
       "\n",
       "    .dataframe thead th {\n",
       "        text-align: right;\n",
       "    }\n",
       "</style>\n",
       "<table border=\"1\" class=\"dataframe\">\n",
       "  <thead>\n",
       "    <tr style=\"text-align: right;\">\n",
       "      <th></th>\n",
       "      <th>LotFrontage</th>\n",
       "      <th>LotArea</th>\n",
       "      <th>MasVnrArea</th>\n",
       "      <th>BsmtFinSF1</th>\n",
       "      <th>BsmtFinSF2</th>\n",
       "      <th>BsmtUnfSF</th>\n",
       "      <th>TotalBsmtSF</th>\n",
       "      <th>1stFlrSF</th>\n",
       "      <th>2ndFlrSF</th>\n",
       "      <th>GrLivArea</th>\n",
       "      <th>...</th>\n",
       "      <th>YearRemodAdd_1.0</th>\n",
       "      <th>YearRemodAdd_2.0</th>\n",
       "      <th>YearRemodAdd_3.0</th>\n",
       "      <th>YearRemodAdd_4.0</th>\n",
       "      <th>YearRemodAdd_UNKNOWN</th>\n",
       "      <th>YrSold_0.0</th>\n",
       "      <th>YrSold_1.0</th>\n",
       "      <th>YrSold_2.0</th>\n",
       "      <th>YrSold_3.0</th>\n",
       "      <th>YrSold_UNKNOWN</th>\n",
       "    </tr>\n",
       "    <tr>\n",
       "      <th>Id</th>\n",
       "      <th></th>\n",
       "      <th></th>\n",
       "      <th></th>\n",
       "      <th></th>\n",
       "      <th></th>\n",
       "      <th></th>\n",
       "      <th></th>\n",
       "      <th></th>\n",
       "      <th></th>\n",
       "      <th></th>\n",
       "      <th></th>\n",
       "      <th></th>\n",
       "      <th></th>\n",
       "      <th></th>\n",
       "      <th></th>\n",
       "      <th></th>\n",
       "      <th></th>\n",
       "      <th></th>\n",
       "      <th></th>\n",
       "      <th></th>\n",
       "      <th></th>\n",
       "    </tr>\n",
       "  </thead>\n",
       "  <tbody>\n",
       "    <tr>\n",
       "      <th>1.0</th>\n",
       "      <td>65.0</td>\n",
       "      <td>8450.0</td>\n",
       "      <td>196.0</td>\n",
       "      <td>706.0</td>\n",
       "      <td>0.0</td>\n",
       "      <td>150.0</td>\n",
       "      <td>856.0</td>\n",
       "      <td>856.0</td>\n",
       "      <td>854.0</td>\n",
       "      <td>1710.0</td>\n",
       "      <td>...</td>\n",
       "      <td>0.0</td>\n",
       "      <td>0.0</td>\n",
       "      <td>1.0</td>\n",
       "      <td>0.0</td>\n",
       "      <td>0.0</td>\n",
       "      <td>0.0</td>\n",
       "      <td>1.0</td>\n",
       "      <td>0.0</td>\n",
       "      <td>0.0</td>\n",
       "      <td>0.0</td>\n",
       "    </tr>\n",
       "    <tr>\n",
       "      <th>2.0</th>\n",
       "      <td>80.0</td>\n",
       "      <td>9600.0</td>\n",
       "      <td>0.0</td>\n",
       "      <td>978.0</td>\n",
       "      <td>0.0</td>\n",
       "      <td>284.0</td>\n",
       "      <td>1262.0</td>\n",
       "      <td>1262.0</td>\n",
       "      <td>0.0</td>\n",
       "      <td>1262.0</td>\n",
       "      <td>...</td>\n",
       "      <td>1.0</td>\n",
       "      <td>0.0</td>\n",
       "      <td>0.0</td>\n",
       "      <td>0.0</td>\n",
       "      <td>0.0</td>\n",
       "      <td>1.0</td>\n",
       "      <td>0.0</td>\n",
       "      <td>0.0</td>\n",
       "      <td>0.0</td>\n",
       "      <td>0.0</td>\n",
       "    </tr>\n",
       "    <tr>\n",
       "      <th>3.0</th>\n",
       "      <td>68.0</td>\n",
       "      <td>11250.0</td>\n",
       "      <td>162.0</td>\n",
       "      <td>486.0</td>\n",
       "      <td>0.0</td>\n",
       "      <td>434.0</td>\n",
       "      <td>920.0</td>\n",
       "      <td>920.0</td>\n",
       "      <td>866.0</td>\n",
       "      <td>1786.0</td>\n",
       "      <td>...</td>\n",
       "      <td>0.0</td>\n",
       "      <td>0.0</td>\n",
       "      <td>1.0</td>\n",
       "      <td>0.0</td>\n",
       "      <td>0.0</td>\n",
       "      <td>0.0</td>\n",
       "      <td>1.0</td>\n",
       "      <td>0.0</td>\n",
       "      <td>0.0</td>\n",
       "      <td>0.0</td>\n",
       "    </tr>\n",
       "    <tr>\n",
       "      <th>4.0</th>\n",
       "      <td>60.0</td>\n",
       "      <td>9550.0</td>\n",
       "      <td>0.0</td>\n",
       "      <td>216.0</td>\n",
       "      <td>0.0</td>\n",
       "      <td>540.0</td>\n",
       "      <td>756.0</td>\n",
       "      <td>961.0</td>\n",
       "      <td>756.0</td>\n",
       "      <td>1717.0</td>\n",
       "      <td>...</td>\n",
       "      <td>1.0</td>\n",
       "      <td>0.0</td>\n",
       "      <td>0.0</td>\n",
       "      <td>0.0</td>\n",
       "      <td>0.0</td>\n",
       "      <td>0.0</td>\n",
       "      <td>0.0</td>\n",
       "      <td>0.0</td>\n",
       "      <td>0.0</td>\n",
       "      <td>1.0</td>\n",
       "    </tr>\n",
       "    <tr>\n",
       "      <th>5.0</th>\n",
       "      <td>84.0</td>\n",
       "      <td>14260.0</td>\n",
       "      <td>350.0</td>\n",
       "      <td>655.0</td>\n",
       "      <td>0.0</td>\n",
       "      <td>490.0</td>\n",
       "      <td>1145.0</td>\n",
       "      <td>1145.0</td>\n",
       "      <td>1053.0</td>\n",
       "      <td>2198.0</td>\n",
       "      <td>...</td>\n",
       "      <td>0.0</td>\n",
       "      <td>0.0</td>\n",
       "      <td>1.0</td>\n",
       "      <td>0.0</td>\n",
       "      <td>0.0</td>\n",
       "      <td>0.0</td>\n",
       "      <td>1.0</td>\n",
       "      <td>0.0</td>\n",
       "      <td>0.0</td>\n",
       "      <td>0.0</td>\n",
       "    </tr>\n",
       "    <tr>\n",
       "      <th>...</th>\n",
       "      <td>...</td>\n",
       "      <td>...</td>\n",
       "      <td>...</td>\n",
       "      <td>...</td>\n",
       "      <td>...</td>\n",
       "      <td>...</td>\n",
       "      <td>...</td>\n",
       "      <td>...</td>\n",
       "      <td>...</td>\n",
       "      <td>...</td>\n",
       "      <td>...</td>\n",
       "      <td>...</td>\n",
       "      <td>...</td>\n",
       "      <td>...</td>\n",
       "      <td>...</td>\n",
       "      <td>...</td>\n",
       "      <td>...</td>\n",
       "      <td>...</td>\n",
       "      <td>...</td>\n",
       "      <td>...</td>\n",
       "      <td>...</td>\n",
       "    </tr>\n",
       "    <tr>\n",
       "      <th>1456.0</th>\n",
       "      <td>62.0</td>\n",
       "      <td>7917.0</td>\n",
       "      <td>0.0</td>\n",
       "      <td>0.0</td>\n",
       "      <td>0.0</td>\n",
       "      <td>953.0</td>\n",
       "      <td>953.0</td>\n",
       "      <td>953.0</td>\n",
       "      <td>694.0</td>\n",
       "      <td>1647.0</td>\n",
       "      <td>...</td>\n",
       "      <td>0.0</td>\n",
       "      <td>0.0</td>\n",
       "      <td>1.0</td>\n",
       "      <td>0.0</td>\n",
       "      <td>0.0</td>\n",
       "      <td>1.0</td>\n",
       "      <td>0.0</td>\n",
       "      <td>0.0</td>\n",
       "      <td>0.0</td>\n",
       "      <td>0.0</td>\n",
       "    </tr>\n",
       "    <tr>\n",
       "      <th>1457.0</th>\n",
       "      <td>85.0</td>\n",
       "      <td>13175.0</td>\n",
       "      <td>119.0</td>\n",
       "      <td>790.0</td>\n",
       "      <td>163.0</td>\n",
       "      <td>589.0</td>\n",
       "      <td>1542.0</td>\n",
       "      <td>2073.0</td>\n",
       "      <td>0.0</td>\n",
       "      <td>2073.0</td>\n",
       "      <td>...</td>\n",
       "      <td>0.0</td>\n",
       "      <td>1.0</td>\n",
       "      <td>0.0</td>\n",
       "      <td>0.0</td>\n",
       "      <td>0.0</td>\n",
       "      <td>0.0</td>\n",
       "      <td>0.0</td>\n",
       "      <td>0.0</td>\n",
       "      <td>1.0</td>\n",
       "      <td>0.0</td>\n",
       "    </tr>\n",
       "    <tr>\n",
       "      <th>1458.0</th>\n",
       "      <td>66.0</td>\n",
       "      <td>9042.0</td>\n",
       "      <td>0.0</td>\n",
       "      <td>275.0</td>\n",
       "      <td>0.0</td>\n",
       "      <td>877.0</td>\n",
       "      <td>1152.0</td>\n",
       "      <td>1188.0</td>\n",
       "      <td>1152.0</td>\n",
       "      <td>2340.0</td>\n",
       "      <td>...</td>\n",
       "      <td>0.0</td>\n",
       "      <td>0.0</td>\n",
       "      <td>0.0</td>\n",
       "      <td>1.0</td>\n",
       "      <td>0.0</td>\n",
       "      <td>0.0</td>\n",
       "      <td>0.0</td>\n",
       "      <td>0.0</td>\n",
       "      <td>1.0</td>\n",
       "      <td>0.0</td>\n",
       "    </tr>\n",
       "    <tr>\n",
       "      <th>1459.0</th>\n",
       "      <td>68.0</td>\n",
       "      <td>9717.0</td>\n",
       "      <td>0.0</td>\n",
       "      <td>49.0</td>\n",
       "      <td>1029.0</td>\n",
       "      <td>0.0</td>\n",
       "      <td>1078.0</td>\n",
       "      <td>1078.0</td>\n",
       "      <td>0.0</td>\n",
       "      <td>1078.0</td>\n",
       "      <td>...</td>\n",
       "      <td>0.0</td>\n",
       "      <td>1.0</td>\n",
       "      <td>0.0</td>\n",
       "      <td>0.0</td>\n",
       "      <td>0.0</td>\n",
       "      <td>0.0</td>\n",
       "      <td>0.0</td>\n",
       "      <td>0.0</td>\n",
       "      <td>1.0</td>\n",
       "      <td>0.0</td>\n",
       "    </tr>\n",
       "    <tr>\n",
       "      <th>1460.0</th>\n",
       "      <td>75.0</td>\n",
       "      <td>9937.0</td>\n",
       "      <td>0.0</td>\n",
       "      <td>830.0</td>\n",
       "      <td>290.0</td>\n",
       "      <td>136.0</td>\n",
       "      <td>1256.0</td>\n",
       "      <td>1256.0</td>\n",
       "      <td>0.0</td>\n",
       "      <td>1256.0</td>\n",
       "      <td>...</td>\n",
       "      <td>1.0</td>\n",
       "      <td>0.0</td>\n",
       "      <td>0.0</td>\n",
       "      <td>0.0</td>\n",
       "      <td>0.0</td>\n",
       "      <td>0.0</td>\n",
       "      <td>1.0</td>\n",
       "      <td>0.0</td>\n",
       "      <td>0.0</td>\n",
       "      <td>0.0</td>\n",
       "    </tr>\n",
       "  </tbody>\n",
       "</table>\n",
       "<p>1460 rows × 234 columns</p>\n",
       "</div>"
      ],
      "text/plain": [
       "        LotFrontage  LotArea  MasVnrArea  BsmtFinSF1  BsmtFinSF2  BsmtUnfSF  \\\n",
       "Id                                                                            \n",
       "1.0            65.0   8450.0       196.0       706.0         0.0      150.0   \n",
       "2.0            80.0   9600.0         0.0       978.0         0.0      284.0   \n",
       "3.0            68.0  11250.0       162.0       486.0         0.0      434.0   \n",
       "4.0            60.0   9550.0         0.0       216.0         0.0      540.0   \n",
       "5.0            84.0  14260.0       350.0       655.0         0.0      490.0   \n",
       "...             ...      ...         ...         ...         ...        ...   \n",
       "1456.0         62.0   7917.0         0.0         0.0         0.0      953.0   \n",
       "1457.0         85.0  13175.0       119.0       790.0       163.0      589.0   \n",
       "1458.0         66.0   9042.0         0.0       275.0         0.0      877.0   \n",
       "1459.0         68.0   9717.0         0.0        49.0      1029.0        0.0   \n",
       "1460.0         75.0   9937.0         0.0       830.0       290.0      136.0   \n",
       "\n",
       "        TotalBsmtSF  1stFlrSF  2ndFlrSF  GrLivArea  ...  YearRemodAdd_1.0  \\\n",
       "Id                                                  ...                     \n",
       "1.0           856.0     856.0     854.0     1710.0  ...               0.0   \n",
       "2.0          1262.0    1262.0       0.0     1262.0  ...               1.0   \n",
       "3.0           920.0     920.0     866.0     1786.0  ...               0.0   \n",
       "4.0           756.0     961.0     756.0     1717.0  ...               1.0   \n",
       "5.0          1145.0    1145.0    1053.0     2198.0  ...               0.0   \n",
       "...             ...       ...       ...        ...  ...               ...   \n",
       "1456.0        953.0     953.0     694.0     1647.0  ...               0.0   \n",
       "1457.0       1542.0    2073.0       0.0     2073.0  ...               0.0   \n",
       "1458.0       1152.0    1188.0    1152.0     2340.0  ...               0.0   \n",
       "1459.0       1078.0    1078.0       0.0     1078.0  ...               0.0   \n",
       "1460.0       1256.0    1256.0       0.0     1256.0  ...               1.0   \n",
       "\n",
       "        YearRemodAdd_2.0  YearRemodAdd_3.0  YearRemodAdd_4.0  \\\n",
       "Id                                                             \n",
       "1.0                  0.0               1.0               0.0   \n",
       "2.0                  0.0               0.0               0.0   \n",
       "3.0                  0.0               1.0               0.0   \n",
       "4.0                  0.0               0.0               0.0   \n",
       "5.0                  0.0               1.0               0.0   \n",
       "...                  ...               ...               ...   \n",
       "1456.0               0.0               1.0               0.0   \n",
       "1457.0               1.0               0.0               0.0   \n",
       "1458.0               0.0               0.0               1.0   \n",
       "1459.0               1.0               0.0               0.0   \n",
       "1460.0               0.0               0.0               0.0   \n",
       "\n",
       "        YearRemodAdd_UNKNOWN  YrSold_0.0  YrSold_1.0  YrSold_2.0  YrSold_3.0  \\\n",
       "Id                                                                             \n",
       "1.0                      0.0         0.0         1.0         0.0         0.0   \n",
       "2.0                      0.0         1.0         0.0         0.0         0.0   \n",
       "3.0                      0.0         0.0         1.0         0.0         0.0   \n",
       "4.0                      0.0         0.0         0.0         0.0         0.0   \n",
       "5.0                      0.0         0.0         1.0         0.0         0.0   \n",
       "...                      ...         ...         ...         ...         ...   \n",
       "1456.0                   0.0         1.0         0.0         0.0         0.0   \n",
       "1457.0                   0.0         0.0         0.0         0.0         1.0   \n",
       "1458.0                   0.0         0.0         0.0         0.0         1.0   \n",
       "1459.0                   0.0         0.0         0.0         0.0         1.0   \n",
       "1460.0                   0.0         0.0         1.0         0.0         0.0   \n",
       "\n",
       "        YrSold_UNKNOWN  \n",
       "Id                      \n",
       "1.0                0.0  \n",
       "2.0                0.0  \n",
       "3.0                0.0  \n",
       "4.0                1.0  \n",
       "5.0                0.0  \n",
       "...                ...  \n",
       "1456.0             0.0  \n",
       "1457.0             0.0  \n",
       "1458.0             0.0  \n",
       "1459.0             0.0  \n",
       "1460.0             0.0  \n",
       "\n",
       "[1460 rows x 234 columns]"
      ]
     },
     "execution_count": 144,
     "metadata": {},
     "output_type": "execute_result"
    }
   ],
   "source": [
    "processed_data"
   ]
  },
  {
   "cell_type": "markdown",
   "id": "ce083747",
   "metadata": {},
   "source": [
    "## MLflow\n",
    "\n",
    "MLflow is an open source platform to manage the ML lifecycle, including experimentation, reproducibility, deployment, and a central model registry.\n",
    "\n",
    "Firstly, we will log into ML Flow (the link is just for demonstration, will be shut down after the class)"
   ]
  },
  {
   "cell_type": "code",
   "execution_count": 146,
   "id": "b3243f45",
   "metadata": {
    "execution": {
     "iopub.execute_input": "2022-05-10T10:11:22.187900Z",
     "iopub.status.busy": "2022-05-10T10:11:22.187432Z",
     "iopub.status.idle": "2022-05-10T10:11:22.229518Z",
     "shell.execute_reply": "2022-05-10T10:11:22.228321Z",
     "shell.execute_reply.started": "2022-05-10T10:11:22.187861Z"
    },
    "tags": []
   },
   "outputs": [],
   "source": [
    "# Import mlflow\n",
    "import mlflow\n",
    "import mlflow.sklearn\n",
    "mlflow.set_tracking_uri(\"http://20.52.18.106:5000/\")\n",
    "mlflow.set_experiment(\"house-price-experiment\")"
   ]
  },
  {
   "cell_type": "markdown",
   "id": "f0a12d71",
   "metadata": {
    "execution": {
     "iopub.execute_input": "2022-05-06T13:30:25.314739Z",
     "iopub.status.busy": "2022-05-06T13:30:25.314111Z",
     "iopub.status.idle": "2022-05-06T13:30:25.323383Z",
     "shell.execute_reply": "2022-05-06T13:30:25.321834Z",
     "shell.execute_reply.started": "2022-05-06T13:30:25.314698Z"
    },
    "tags": []
   },
   "source": [
    "#### MLflow UI\n",
    "\n",
    "http://20.52.18.106:5000/"
   ]
  },
  {
   "cell_type": "code",
   "execution_count": 147,
   "id": "52be1d5d",
   "metadata": {
    "execution": {
     "iopub.execute_input": "2022-05-10T10:11:23.119577Z",
     "iopub.status.busy": "2022-05-10T10:11:23.119115Z",
     "iopub.status.idle": "2022-05-10T10:11:23.126008Z",
     "shell.execute_reply": "2022-05-10T10:11:23.124915Z",
     "shell.execute_reply.started": "2022-05-10T10:11:23.119517Z"
    },
    "tags": []
   },
   "outputs": [],
   "source": [
    "import os\n",
    "os.environ[\"AWS_ACCESS_KEY_ID\"] = \"admin\"\n",
    "os.environ[\"AWS_SECRET_ACCESS_KEY\"] = \"sample_key\"\n",
    "os.environ[\"MLFLOW_S3_ENDPOINT_URL\"]= \"http://20.52.18.106:9000\"\n",
    "os.environ[\"MLFLOW_TRACKING_URI\"] = \"http://20.52.18.106:5000\""
   ]
  },
  {
   "cell_type": "markdown",
   "id": "214c8fca",
   "metadata": {
    "execution": {
     "iopub.execute_input": "2021-05-04T10:21:36.164432Z",
     "iopub.status.busy": "2021-05-04T10:21:36.163655Z",
     "iopub.status.idle": "2021-05-04T10:21:36.182492Z",
     "shell.execute_reply": "2021-05-04T10:21:36.181230Z",
     "shell.execute_reply.started": "2021-05-04T10:21:36.164351Z"
    },
    "tags": []
   },
   "source": [
    "Next we will train the model"
   ]
  },
  {
   "cell_type": "code",
   "execution_count": 148,
   "id": "c6fa5c18",
   "metadata": {
    "execution": {
     "iopub.execute_input": "2022-05-10T10:11:23.900223Z",
     "iopub.status.busy": "2022-05-10T10:11:23.899790Z",
     "iopub.status.idle": "2022-05-10T10:11:23.917098Z",
     "shell.execute_reply": "2022-05-10T10:11:23.915538Z",
     "shell.execute_reply.started": "2022-05-10T10:11:23.900185Z"
    },
    "tags": []
   },
   "outputs": [],
   "source": [
    "from sklearn.model_selection import train_test_split\n",
    "\n",
    "x_train, x_test, y_train, y_test = train_test_split(\n",
    "    processed_data.drop(columns=['label'])\n",
    "    , processed_data[['label']]\n",
    "    , test_size = 0.3, random_state=42)"
   ]
  },
  {
   "cell_type": "code",
   "execution_count": 149,
   "id": "93b0eee8",
   "metadata": {
    "execution": {
     "iopub.execute_input": "2022-05-10T10:11:24.928148Z",
     "iopub.status.busy": "2022-05-10T10:11:24.927689Z",
     "iopub.status.idle": "2022-05-10T10:11:25.314758Z",
     "shell.execute_reply": "2022-05-10T10:11:25.313485Z",
     "shell.execute_reply.started": "2022-05-10T10:11:24.928104Z"
    },
    "tags": []
   },
   "outputs": [
    {
     "name": "stdout",
     "output_type": "stream",
     "text": [
      "Elasticnet model (alpha=0.050000, l1_ratio=0.050000):\n",
      "  RMSE: 21233.556000833283\n",
      "  MAE: 15443.970517176716\n",
      "  R2: 0.9035227604636454\n"
     ]
    }
   ],
   "source": [
    "from sklearn.linear_model import ElasticNet\n",
    "from sklearn.linear_model import lasso_path, enet_path\n",
    "from sklearn.metrics import mean_squared_error, mean_absolute_error, r2_score\n",
    "\n",
    "# Evaluate metrics\n",
    "def eval_metrics(actual, pred):\n",
    "    rmse = np.sqrt(mean_squared_error(actual, pred))\n",
    "    mae = mean_absolute_error(actual, pred)\n",
    "    r2 = r2_score(actual, pred)\n",
    "    return rmse, mae, r2\n",
    "\n",
    "alpha = 0.05\n",
    "l1_ratio = 0.05\n",
    "\n",
    "# Run ElasticNet\n",
    "elnModel = ElasticNet(alpha=alpha, l1_ratio=l1_ratio, random_state=42)\n",
    "elnModel.fit(x_train, y_train)\n",
    "predicted_qualities = elnModel.predict(x_test)\n",
    "(rmse, mae, r2) = eval_metrics(y_test, predicted_qualities)\n",
    "\n",
    "# Print out ElasticNet model metrics\n",
    "print(\"Elasticnet model (alpha=%f, l1_ratio=%f):\" % (alpha, l1_ratio))\n",
    "print(\"  RMSE: %s\" % rmse)\n",
    "print(\"  MAE: %s\" % mae)\n",
    "print(\"  R2: %s\" % r2)"
   ]
  },
  {
   "cell_type": "markdown",
   "id": "a0639320",
   "metadata": {
    "execution": {
     "iopub.execute_input": "2021-05-04T10:21:38.805239Z",
     "iopub.status.busy": "2021-05-04T10:21:38.804574Z",
     "iopub.status.idle": "2021-05-04T10:21:41.123359Z",
     "shell.execute_reply": "2021-05-04T10:21:41.121113Z",
     "shell.execute_reply.started": "2021-05-04T10:21:38.805146Z"
    },
    "tags": []
   },
   "source": [
    "Finally we can save and log model into MLflow."
   ]
  },
  {
   "cell_type": "code",
   "execution_count": 165,
   "id": "73f1b08f",
   "metadata": {
    "execution": {
     "iopub.execute_input": "2022-05-10T10:14:06.690379Z",
     "iopub.status.busy": "2022-05-10T10:14:06.689901Z",
     "iopub.status.idle": "2022-05-10T10:14:07.319392Z",
     "shell.execute_reply": "2022-05-10T10:14:07.318136Z",
     "shell.execute_reply.started": "2022-05-10T10:14:06.690340Z"
    },
    "tags": []
   },
   "outputs": [
    {
     "name": "stderr",
     "output_type": "stream",
     "text": [
      "Registered model 'elnModel' already exists. Creating a new version of this model...\n",
      "Created version '17' of model 'elnModel'.\n"
     ]
    }
   ],
   "source": [
    "# Log mlflow attributes for mlflow UI\n",
    "from mlflow.models.signature import infer_signature\n",
    "signature = infer_signature(x_train, elnModel.predict(x_train))\n",
    "\n",
    "with mlflow.start_run():\n",
    "    mlflow.log_param(\"alpha\", alpha)\n",
    "    mlflow.log_param(\"l1_ratio\", l1_ratio)\n",
    "    mlflow.log_metric(\"rmse\", rmse)\n",
    "    mlflow.log_metric(\"r2\", r2)\n",
    "    mlflow.log_metric(\"mae\", mae)\n",
    "    mlflow.sklearn.log_model(sk_model = elnModel, artifact_path = \"elnModel\", registered_model_name=\"elnModel\")"
   ]
  },
  {
   "cell_type": "code",
   "execution_count": null,
   "id": "33c9699e",
   "metadata": {
    "tags": []
   },
   "outputs": [],
   "source": [
    "mlflow.sklearn.save_model(\n",
    "    elnModel, \"elnModel/\",\n",
    "    serialization_format=mlflow.sklearn.SERIALIZATION_FORMAT_CLOUDPICKLE)"
   ]
  },
  {
   "cell_type": "code",
   "execution_count": 154,
   "id": "63d6e9c2",
   "metadata": {
    "execution": {
     "iopub.execute_input": "2022-05-10T10:12:04.708222Z",
     "iopub.status.busy": "2022-05-10T10:12:04.707759Z",
     "iopub.status.idle": "2022-05-10T10:12:05.996473Z",
     "shell.execute_reply": "2022-05-10T10:12:05.994978Z",
     "shell.execute_reply.started": "2022-05-10T10:12:04.708181Z"
    },
    "tags": []
   },
   "outputs": [
    {
     "name": "stdout",
     "output_type": "stream",
     "text": [
      "[136204.8692541481]"
     ]
    }
   ],
   "source": [
    "!curl -X POST -H \"Content-Type:application/json; format=pandas-split\" --data '{\"columns\":[\"LotFrontage\", \"LotArea\", \"MasVnrArea\", \"BsmtFinSF1\", \"BsmtFinSF2\", \"BsmtUnfSF\", \"TotalBsmtSF\", \"1stFlrSF\", \"2ndFlrSF\", \"GrLivArea\", \"GarageArea\", \"WoodDeckSF\", \"OpenPorchSF\", \"EnclosedPorch\", \"ScreenPorch\", \"MSSubClass_20\", \"MSSubClass_50\", \"MSSubClass_60\", \"MSSubClass_120\", \"MSSubClass_OTHER\", \"MSZoning_OTHER\", \"MSZoning_RL\", \"MSZoning_RM\", \"Street_Grvl\", \"Street_Pave\", \"LotShape_IR1\", \"LotShape_OTHER\", \"LotShape_Reg\", \"LandContour_Lvl\", \"LandContour_OTHER\", \"Utilities_AllPub\", \"Utilities_NoSeWa\", \"LotConfig_Corner\", \"LotConfig_CulDSac\", \"LotConfig_Inside\", \"LotConfig_OTHER\", \"LandSlope_Gtl\", \"LandSlope_OTHER\", \"Neighborhood_CollgCr\", \"Neighborhood_Edwards\", \"Neighborhood_Gilbert\", \"Neighborhood_NAmes\", \"Neighborhood_NridgHt\", \"Neighborhood_OTHER\", \"Neighborhood_OldTown\", \"Neighborhood_Sawyer\", \"Neighborhood_Somerst\", \"Condition1_Feedr\", \"Condition1_Norm\", \"Condition1_OTHER\", \"Condition2_Norm\", \"Condition2_OTHER\", \"BldgType_1Fam\", \"BldgType_OTHER\", \"BldgType_TwnhsE\", \"HouseStyle_1.5Fin\", \"HouseStyle_1Story\", \"HouseStyle_2Story\", \"HouseStyle_OTHER\", \"OverallQual_4\", \"OverallQual_5\", \"OverallQual_6\", \"OverallQual_7\", \"OverallQual_8\", \"OverallQual_OTHER\", \"OverallCond_5\", \"OverallCond_6\", \"OverallCond_7\", \"OverallCond_OTHER\", \"RoofStyle_Gable\", \"RoofStyle_Hip\", \"RoofStyle_OTHER\", \"RoofMatl_CompShg\", \"RoofMatl_OTHER\", \"Exterior1st_HdBoard\", \"Exterior1st_MetalSd\", \"Exterior1st_OTHER\", \"Exterior1st_Plywood\", \"Exterior1st_VinylSd\", \"Exterior1st_Wd Sdng\", \"Exterior2nd_HdBoard\", \"Exterior2nd_MetalSd\", \"Exterior2nd_OTHER\", \"Exterior2nd_Plywood\", \"Exterior2nd_VinylSd\", \"Exterior2nd_Wd Sdng\", \"MasVnrType_BrkCmn\", \"MasVnrType_BrkFace\", \"MasVnrType_None\", \"MasVnrType_Stone\", \"ExterQual_Gd\", \"ExterQual_OTHER\", \"ExterQual_TA\", \"ExterCond_Gd\", \"ExterCond_OTHER\", \"ExterCond_TA\", \"Foundation_BrkTil\", \"Foundation_CBlock\", \"Foundation_OTHER\", \"Foundation_PConc\", \"BsmtQual_Ex\", \"BsmtQual_Fa\", \"BsmtQual_Gd\", \"BsmtQual_TA\", \"BsmtCond_OTHER\", \"BsmtCond_TA\", \"BsmtExposure_Av\", \"BsmtExposure_Gd\", \"BsmtExposure_Mn\", \"BsmtExposure_No\", \"BsmtFinType1_ALQ\", \"BsmtFinType1_BLQ\", \"BsmtFinType1_GLQ\", \"BsmtFinType1_LwQ\", \"BsmtFinType1_Rec\", \"BsmtFinType1_Unf\", \"BsmtFinType2_OTHER\", \"BsmtFinType2_Unf\", \"Heating_GasA\", \"Heating_OTHER\", \"HeatingQC_Ex\", \"HeatingQC_Gd\", \"HeatingQC_OTHER\", \"HeatingQC_TA\", \"CentralAir_N\", \"CentralAir_Y\", \"Electrical_FuseA\", \"Electrical_OTHER\", \"Electrical_SBrkr\", \"LowQualFinSF_0\", \"LowQualFinSF_OTHER\", \"BsmtFullBath_0\", \"BsmtFullBath_1\", \"BsmtFullBath_OTHER\", \"BsmtHalfBath_0\", \"BsmtHalfBath_1\", \"BsmtHalfBath_2\", \"FullBath_1\", \"FullBath_2\", \"FullBath_OTHER\", \"HalfBath_0\", \"HalfBath_1\", \"HalfBath_2\", \"BedroomAbvGr_2\", \"BedroomAbvGr_3\", \"BedroomAbvGr_4\", \"BedroomAbvGr_OTHER\", \"KitchenAbvGr_1\", \"KitchenAbvGr_OTHER\", \"KitchenQual_Ex\", \"KitchenQual_Fa\", \"KitchenQual_Gd\", \"KitchenQual_TA\", \"TotRmsAbvGrd_4\", \"TotRmsAbvGrd_5\", \"TotRmsAbvGrd_6\", \"TotRmsAbvGrd_7\", \"TotRmsAbvGrd_8\", \"TotRmsAbvGrd_9\", \"TotRmsAbvGrd_OTHER\", \"Functional_OTHER\", \"Functional_Typ\", \"Fireplaces_0\", \"Fireplaces_1\", \"Fireplaces_2\", \"Fireplaces_3\", \"FireplaceQu_Gd\", \"FireplaceQu_OTHER\", \"FireplaceQu_TA\", \"GarageType_Attchd\", \"GarageType_BuiltIn\", \"GarageType_Detchd\", \"GarageType_OTHER\", \"GarageFinish_Fin\", \"GarageFinish_RFn\", \"GarageFinish_Unf\", \"GarageCars_0\", \"GarageCars_1\", \"GarageCars_2\", \"GarageCars_3\", \"GarageCars_4\", \"GarageQual_OTHER\", \"GarageQual_TA\", \"GarageCond_OTHER\", \"GarageCond_TA\", \"PavedDrive_N\", \"PavedDrive_P\", \"PavedDrive_Y\", \"3SsnPorch_0\", \"3SsnPorch_OTHER\", \"PoolArea_0\", \"PoolArea_OTHER\", \"MiscVal_0\", \"MiscVal_OTHER\", \"MoSold_3\", \"MoSold_4\", \"MoSold_5\", \"MoSold_6\", \"MoSold_7\", \"MoSold_8\", \"MoSold_10\", \"MoSold_11\", \"MoSold_OTHER\", \"SaleType_New\", \"SaleType_OTHER\", \"SaleType_WD\", \"SaleCondition_Abnorml\", \"SaleCondition_Normal\", \"SaleCondition_OTHER\", \"SaleCondition_Partial\", \"YearBuilt_0.0\", \"YearBuilt_1.0\", \"YearBuilt_2.0\", \"YearBuilt_3.0\", \"YearBuilt_4.0\", \"YearBuilt_UNKNOWN\", \"GarageYrBlt_0.0\", \"GarageYrBlt_1.0\", \"GarageYrBlt_2.0\", \"GarageYrBlt_3.0\", \"GarageYrBlt_4.0\", \"GarageYrBlt_UNKNOWN\", \"YearRemodAdd_0.0\", \"YearRemodAdd_1.0\", \"YearRemodAdd_2.0\", \"YearRemodAdd_3.0\", \"YearRemodAdd_4.0\", \"YearRemodAdd_UNKNOWN\", \"YrSold_0.0\", \"YrSold_1.0\", \"YrSold_2.0\", \"YrSold_3.0\", \"YrSold_UNKNOWNh\"],\"data\":[[70.0, 8414.0, 0.0, 663.0, 0.0, 396.0, 1059.0, 1068.0, 0.0, 1068.0, 264.0, 192.0, 0.0, 0.0, 0.0, 1.0, 0.0, 0.0, 0.0, 0.0, 0.0, 1.0, 0.0, 0.0, 1.0, 0.0, 0.0, 1.0, 1.0, 0.0, 1.0, 0.0, 0.0, 0.0, 1.0, 0.0, 1.0, 0.0, 0.0, 0.0, 0.0, 0.0, 0.0, 0.0, 0.0, 1.0, 0.0, 0.0, 1.0, 0.0, 1.0, 0.0, 1.0, 0.0, 0.0, 0.0, 1.0, 0.0, 0.0, 0.0, 0.0, 1.0, 0.0, 0.0, 0.0, 0.0, 0.0, 0.0, 1.0, 0.0, 1.0, 0.0, 1.0, 0.0, 1.0, 0.0, 0.0, 0.0, 0.0, 0.0, 1.0, 0.0, 0.0, 0.0, 0.0, 0.0, 0.0, 0.0, 1.0, 0.0, 0.0, 0.0, 1.0, 0.0, 0.0, 1.0, 0.0, 1.0, 0.0, 0.0, 0.0, 0.0, 0.0, 1.0, 0.0, 1.0, 0.0, 0.0, 0.0, 1.0, 0.0, 0.0, 1.0, 0.0, 0.0, 0.0, 0.0, 1.0, 1.0, 0.0, 0.0, 0.0, 0.0, 1.0, 0.0, 1.0, 0.0, 0.0, 1.0, 1.0, 0.0, 1.0, 0.0, 0.0, 0.0, 1.0, 0.0, 1.0, 0.0, 0.0, 1.0, 0.0, 0.0, 0.0, 1.0, 0.0, 0.0, 1.0, 0.0, 0.0, 0.0, 0.0, 1.0, 0.0, 0.0, 1.0, 0.0, 0.0, 0.0, 0.0, 0.0, 1.0, 1.0, 0.0, 0.0, 0.0, 0.0, 0.0, 0.0, 1.0, 0.0, 0.0, 0.0, 0.0, 1.0, 0.0, 0.0, 1.0, 0.0, 0.0, 0.0, 0.0, 1.0, 0.0, 1.0, 0.0, 0.0, 1.0, 1.0, 0.0, 1.0, 0.0, 1.0, 0.0, 0.0, 0.0, 0.0, 0.0, 0.0, 0.0, 0.0, 0.0, 1.0, 0.0, 0.0, 1.0, 0.0, 1.0, 0.0, 0.0, 0.0, 1.0, 0.0, 0.0, 0.0, 0.0, 0.0, 1.0, 0.0, 0.0, 0.0, 0.0, 0.0, 0.0, 0.0, 1.0, 0.0, 0.0, 0.0, 0.0, 0.0, 0.0, 1.0]]}' http://20.52.18.106:5001/invocations"
   ]
  },
  {
   "cell_type": "markdown",
   "id": "c00bdb2d",
   "metadata": {
    "execution": {
     "iopub.execute_input": "2021-05-04T10:21:43.065776Z",
     "iopub.status.busy": "2021-05-04T10:21:43.065294Z",
     "iopub.status.idle": "2021-05-04T10:21:45.460589Z",
     "shell.execute_reply": "2021-05-04T10:21:45.459469Z",
     "shell.execute_reply.started": "2021-05-04T10:21:43.065734Z"
    },
    "tags": []
   },
   "source": [
    "And another model for comparison\n"
   ]
  },
  {
   "cell_type": "code",
   "execution_count": 166,
   "id": "4ca596c3",
   "metadata": {
    "execution": {
     "iopub.execute_input": "2022-05-10T10:14:12.287919Z",
     "iopub.status.busy": "2022-05-10T10:14:12.287311Z",
     "iopub.status.idle": "2022-05-10T10:14:12.965347Z",
     "shell.execute_reply": "2022-05-10T10:14:12.963722Z",
     "shell.execute_reply.started": "2022-05-10T10:14:12.287871Z"
    },
    "tags": []
   },
   "outputs": [
    {
     "name": "stdout",
     "output_type": "stream",
     "text": [
      "Elasticnet model (alpha=0.050000, l1_ratio=0.050000):\n",
      "  RMSE: 23304.75284704685\n",
      "  MAE: 16730.87883107138\n",
      "  R2: 0.8837833351995802\n"
     ]
    },
    {
     "name": "stderr",
     "output_type": "stream",
     "text": [
      "Registered model 'linModel' already exists. Creating a new version of this model...\n",
      "Created version '2' of model 'linModel'.\n"
     ]
    }
   ],
   "source": [
    "from sklearn.linear_model import LinearRegression\n",
    "\n",
    "lin_model = LinearRegression()\n",
    "lin_model.fit(x_train, y_train)\n",
    "predicted_qualities = lin_model.predict(x_test)\n",
    "(rmse, mae, r2) = eval_metrics(y_test, predicted_qualities)\n",
    "\n",
    "# Print out ElasticNet model metrics\n",
    "print(\"Elasticnet model (alpha=%f, l1_ratio=%f):\" % (alpha, l1_ratio))\n",
    "print(\"  RMSE: %s\" % rmse)\n",
    "print(\"  MAE: %s\" % mae)\n",
    "print(\"  R2: %s\" % r2)\n",
    "\n",
    "with mlflow.start_run():\n",
    "    mlflow.log_param(\"alpha\", alpha)\n",
    "    mlflow.log_param(\"l1_ratio\", l1_ratio)\n",
    "    mlflow.log_metric(\"rmse\", rmse)\n",
    "    mlflow.log_metric(\"r2\", r2)\n",
    "    mlflow.log_metric(\"mae\", mae)\n",
    "    mlflow.sklearn.log_model(lin_model, \"linModel\", registered_model_name=\"linModel\")"
   ]
  },
  {
   "cell_type": "code",
   "execution_count": null,
   "id": "16894e2c",
   "metadata": {
    "tags": []
   },
   "outputs": [],
   "source": [
    "mlflow.sklearn.save_model(\n",
    "    lin_model, \"lin_model/\",\n",
    "    serialization_format=mlflow.sklearn.SERIALIZATION_FORMAT_CLOUDPICKLE)"
   ]
  },
  {
   "cell_type": "markdown",
   "id": "392b20a9",
   "metadata": {
    "execution": {
     "iopub.execute_input": "2021-05-04T10:21:46.479165Z",
     "iopub.status.busy": "2021-05-04T10:21:46.478715Z",
     "iopub.status.idle": "2021-05-04T10:21:46.491631Z",
     "shell.execute_reply": "2021-05-04T10:21:46.490459Z",
     "shell.execute_reply.started": "2021-05-04T10:21:46.479124Z"
    },
    "tags": []
   },
   "source": [
    "### Load model from MlFlow"
   ]
  },
  {
   "cell_type": "code",
   "execution_count": 170,
   "id": "cca687cc",
   "metadata": {
    "execution": {
     "iopub.execute_input": "2022-05-10T10:15:17.292222Z",
     "iopub.status.busy": "2022-05-10T10:15:17.291758Z",
     "iopub.status.idle": "2022-05-10T10:15:17.318325Z",
     "shell.execute_reply": "2022-05-10T10:15:17.317100Z",
     "shell.execute_reply.started": "2022-05-10T10:15:17.292174Z"
    },
    "tags": []
   },
   "outputs": [
    {
     "data": {
      "text/plain": [
       "array([136204.86925415, 320881.17423756, 104018.53295819, 158049.47254768,\n",
       "       294449.97900112,  80426.81761941, 216871.81518044, 138870.51575027,\n",
       "        69144.90869622, 148021.65109409, 139370.89433189, 113650.4710205 ,\n",
       "       155408.13264919, 204941.6841277 , 167959.22149492, 139776.2008711 ,\n",
       "       199511.0543025 , 137493.51219702, 120035.08158085, 216529.97968087,\n",
       "       168445.144816  , 205818.91912456, 176553.96596628, 131837.10109003,\n",
       "       202093.16975854, 167296.54176832, 196713.90978979, 110439.62705418,\n",
       "       174027.58606126, 197378.66887531, 113642.76217657, 265098.89453759,\n",
       "       230012.34507223, 117113.91713803, 257987.61454103, 150238.44160755,\n",
       "       145635.0679262 , 203949.70904346, 301555.76348303,  99810.62071827,\n",
       "       117817.96384557, 245034.47251784, 111720.89657031, 328524.13659129,\n",
       "       128355.48391422, 165640.03161004, 101073.14982563, 125648.76953245,\n",
       "       346071.70726269, 122629.4844828 , 121619.15971645, 233019.27018101,\n",
       "       130547.84755377, 325284.99288334, 152635.80006555, 242683.18041142,\n",
       "       200217.44491963, 179245.55556026, 119045.00967824,  94264.1546825 ,\n",
       "        52305.91826435, 168878.80454529, 296700.76527334, 241908.63408601,\n",
       "       290383.6514823 , 218346.68144192, 100164.22373836, 309575.31948055,\n",
       "       116558.32283519, 161732.95377679, 109840.89815599, 128487.94426414,\n",
       "       112373.74165512,  86649.18279158, 379418.01490611, 189840.67322919,\n",
       "       293777.64164785, 297143.34260726, 135889.28028268, 120814.83271553,\n",
       "       103104.93327665,  81904.77358984, 125012.50995511,  76832.76356699,\n",
       "       147121.67830064, 150638.96195249, 260988.85905183, 206436.15310611,\n",
       "       146283.58558681, 188462.83657377, 135363.11378228, 148172.85830697,\n",
       "       132339.27241547, 278809.22429295, 131896.91237973, 188082.43045903,\n",
       "       170166.241675  , 177036.02416277, 210055.99158629, 266679.12126762,\n",
       "       183805.83238833, 205822.88854088, 263378.69764981, 112598.0103139 ,\n",
       "       201645.31363803, 181984.59514451, 136883.2970848 , 255230.79158357,\n",
       "       147856.90081   , 208245.10263933,  52618.51328287, 118907.82606811,\n",
       "       130193.60164519, 140089.67455981, 207359.97101984, 115992.87793749,\n",
       "       115995.14460703, 103445.75722292, 123401.25986899, 196910.31969746,\n",
       "       130274.87447143, 140524.34738989, 175665.82601622, 191444.80630062,\n",
       "       194811.15663756, 128681.97735085, 238465.10951053,  76457.87803089,\n",
       "       152948.02205837, 182979.99262462, 191680.24485966, 335081.21841558,\n",
       "       190970.33421495, 142072.01123887,  75160.22848208, 303033.97448622,\n",
       "       296734.08260322, 130805.39888085, 235511.96279209, 322942.1462386 ,\n",
       "       318097.14469794, 141099.51013891, 185976.80953271, 173476.37820881,\n",
       "       137504.18654781, 116953.92359779, 228305.49684623, 194736.18148166,\n",
       "       121326.14932489,  79090.83311   , 123908.39325614, 128853.02207211,\n",
       "       261007.95104204, 151204.72473086, 107754.38079101, 118498.76818975,\n",
       "       134516.84628194, 147746.50409842,  86200.26257809, 133405.31590823,\n",
       "       198702.04842466, 117927.81280606, 291641.73019448, 150526.0147135 ,\n",
       "       112454.23248981, 124410.12255231, 226997.8242371 , 319389.1200153 ,\n",
       "       358088.01530667, 232219.86159951, 304145.83870946,  81906.46935863,\n",
       "       114315.08150532, 149998.03810581, 289734.55551145, 133469.07526911,\n",
       "       121663.13795321, 219309.5159929 , 135391.99032173, 171151.74816932,\n",
       "       170873.04703458, 114782.17692995, 120859.83895731, 119403.77581141,\n",
       "       253180.56774877, 131297.51304244, 291856.44235397, 237975.75960888,\n",
       "       197388.1384957 ,  92921.41773757, 113059.3688945 , 102889.28335214,\n",
       "       128303.71496342, 139177.59091367, 201462.12509919, 197044.88845902,\n",
       "       212061.06134269, 102788.2266293 , 205115.5993741 , 129221.82286282,\n",
       "       222010.25254587, 200503.59648234, 132215.72247219, 303250.15044969,\n",
       "       195151.08850969, 121602.8783435 , 245725.61969037, 124837.61544667,\n",
       "       160730.99658   , 104372.57605775, 232782.80600989, 130024.5088244 ,\n",
       "       118573.67203718, 154828.73560964, 207463.55802187, 253240.82998388,\n",
       "       214873.05937768, 147356.88692823, 112741.01101335, 131633.27028227,\n",
       "       127614.58821199, 225434.7972971 , 212784.52306105,  82284.8317383 ,\n",
       "       229108.05429379, 145524.5078906 , 104261.48167743, 104693.60553973,\n",
       "       160620.18466302, 117184.02128867, 115808.69168928, 175073.05356191,\n",
       "       113703.03545562, 148633.50788304, 237607.54432466, 138112.41864269,\n",
       "       194205.15151045, 161966.00611271, 255695.66069802, 124613.3593044 ,\n",
       "        92935.15254585, 238114.71102011, 209856.63969006, 318935.68881212,\n",
       "       202522.75771367, 144391.90254424, 146218.79664264, 184242.37430105,\n",
       "       156734.33268115,  86869.51354537, 198906.73199642, 168179.14814627,\n",
       "       139542.63333198,  88753.13653128, 142237.14394307, 132226.01505545,\n",
       "        97774.38462508, 119911.68643976, 177381.04911321, 253340.96367346,\n",
       "       303081.1770044 , 175827.58748661, 117360.06400595, 255079.02330741,\n",
       "       303947.29836338, 238668.57332357, 181426.60715381, 136601.65003121,\n",
       "       117911.79584601, 165244.21974479, 329885.42026443, 206958.59010561,\n",
       "       236956.39972669, 112644.35838358,  86923.70260477, 135972.9734164 ,\n",
       "       142379.70631149, 274324.0230148 , 243895.857177  , 143316.62924406,\n",
       "       208399.46893018,  95703.44386326, 191782.44120352, 110765.78965548,\n",
       "       291746.0099936 , 169769.15700935, 216443.65631584, 133900.13938858,\n",
       "       256668.61750229, 202389.21101888, 119145.94378342, 110511.31630241,\n",
       "       151630.50582937, 175390.30480517,  86217.36223218, 169752.571934  ,\n",
       "       162597.01554758, 129831.46057063, 187644.26495281, 121410.35058999,\n",
       "       201568.53682086, 229214.78865557, 107385.56032379, 135713.26244365,\n",
       "       166071.30203519, 182652.82426763, 136920.66270059, 220098.57403205,\n",
       "       239085.29425514, 110396.45290771, 140310.08539854, 203105.86568178,\n",
       "        81665.28452276, 187179.74067326, 138028.72600104, 179981.0405907 ,\n",
       "       191799.19107272, 169294.25354884, 275570.07138178,  86046.36206556,\n",
       "       206562.93731867, 145630.85534804, 135743.91861525,  79617.35288106,\n",
       "       206057.44816138, 161778.82878156, 134198.23253   , 197492.61046496,\n",
       "       170884.90959415,  89828.63017125, 146796.59927254, 173328.84560612,\n",
       "       129568.364451  , 181378.78088965, 160208.47737779, 115353.22039528,\n",
       "       135992.00384959,  93231.11324136,  62980.13571662, 206676.17954978,\n",
       "       181196.83085361, 125384.64189061, 127363.3812019 , 163895.37643418,\n",
       "       239623.80372979, 286290.12600741, 314671.71683445, 116582.83824911,\n",
       "       251147.35834685, 126930.63399203, 240103.48956515, 343216.1388022 ,\n",
       "       274115.77600144, 198480.31500022, 245367.1812614 , 135888.00186158,\n",
       "       126403.93975866,  71865.69878762, 203464.98727926, 320368.85810561,\n",
       "       196137.67007604, 124267.24344775, 242770.7474924 , 232848.80049995,\n",
       "       126525.99987666, 195336.30603133, 167702.57102068, 108319.67799221,\n",
       "       126837.44372797, 150303.04859268, 126390.35084363, 172909.11133735,\n",
       "       112466.0017376 , 199793.09220942, 157138.39884525, 123714.81572068,\n",
       "       213526.24492469, 209426.28686935,  87678.91066553, 224880.81428382,\n",
       "       138598.23310317, 208282.86354802, 186352.36165086, 172881.87267708,\n",
       "       147272.76020108, 228072.49435607, 166831.78427701, 142776.07816469,\n",
       "       279385.73755811, 181353.22806526, 122563.09011578, 151091.98805242,\n",
       "       120116.03284436, 292319.62368736, 136850.49750643, 363648.05800617,\n",
       "       130645.31496767, 170464.11702332, 168054.7297415 , 133365.95282474,\n",
       "       170062.00383619, 337973.18566788, 145472.9887382 , 146843.10787069,\n",
       "       156042.44291072,  97211.93647661, 185825.46340904, 152212.13092446,\n",
       "       259441.05199491, 212397.82478078, 224250.47626761, 214673.82719395,\n",
       "        90472.17076682, 296367.82635496, 145385.26059298, 346776.51575477,\n",
       "       118521.40504328, 304245.06192092, 268729.39634005, 131338.37484669,\n",
       "       222211.96362168, 246624.59317675, 211105.9798738 , 178380.14904005,\n",
       "       263247.48135037, 131941.75252882, 223820.3132325 , 157246.08931063,\n",
       "       184050.92159817, 226824.80923304, 107242.22620944, 143522.19451907,\n",
       "       195405.54512307, 132457.08986142, 136735.01927959, 206432.74678562,\n",
       "       126453.92891531, 347519.96146035])"
      ]
     },
     "execution_count": 170,
     "metadata": {},
     "output_type": "execute_result"
    }
   ],
   "source": [
    "import mlflow.sklearn\n",
    "logged_model = 'elnModel'\n",
    "\n",
    "# Load model as a PyFuncModel.\n",
    "loaded_model = mlflow.sklearn.load_model(\"elnModel\")\n",
    "\n",
    "# Predict on a Pandas DataFrame.\n",
    "import pandas as pd\n",
    "loaded_model.predict(pd.DataFrame(x_test))"
   ]
  },
  {
   "cell_type": "markdown",
   "id": "91ce4a25",
   "metadata": {},
   "source": [
    "### Set model as production version"
   ]
  },
  {
   "cell_type": "code",
   "execution_count": 171,
   "id": "79c2bcc7",
   "metadata": {
    "execution": {
     "iopub.execute_input": "2022-05-10T10:15:53.758502Z",
     "iopub.status.busy": "2022-05-10T10:15:53.758049Z",
     "iopub.status.idle": "2022-05-10T10:15:53.763444Z",
     "shell.execute_reply": "2022-05-10T10:15:53.762270Z",
     "shell.execute_reply.started": "2022-05-10T10:15:53.758463Z"
    },
    "tags": []
   },
   "outputs": [],
   "source": [
    "from mlflow.tracking import MlflowClient\n",
    "\n",
    "client = MlflowClient()"
   ]
  },
  {
   "cell_type": "code",
   "execution_count": 172,
   "id": "df34d665",
   "metadata": {
    "execution": {
     "iopub.execute_input": "2022-05-10T10:15:56.594733Z",
     "iopub.status.busy": "2022-05-10T10:15:56.594283Z",
     "iopub.status.idle": "2022-05-10T10:15:56.648757Z",
     "shell.execute_reply": "2022-05-10T10:15:56.647661Z",
     "shell.execute_reply.started": "2022-05-10T10:15:56.594693Z"
    },
    "tags": []
   },
   "outputs": [
    {
     "data": {
      "text/plain": [
       "<ModelVersion: creation_timestamp=1652177507347, current_stage='Production', description='', last_updated_timestamp=1652177756622, name='elnModel', run_id='e1efa5db5e0c451d99dc6f908ad130b8', source='s3://mlflow/1/e1efa5db5e0c451d99dc6f908ad130b8/artifacts/elnModel', status='READY', status_message='', user_id='', version='11'>"
      ]
     },
     "execution_count": 172,
     "metadata": {},
     "output_type": "execute_result"
    }
   ],
   "source": [
    "client = MlflowClient()\n",
    "client.transition_model_version_stage(\n",
    "    name=\"elnModel\",\n",
    "    version=11,\n",
    "    stage=\"Production\"\n",
    ")"
   ]
  },
  {
   "cell_type": "code",
   "execution_count": null,
   "id": "35bac7ad",
   "metadata": {},
   "outputs": [],
   "source": []
  }
 ],
 "metadata": {
  "kernelspec": {
   "display_name": "Python 3",
   "language": "python",
   "name": "python3"
  },
  "language_info": {
   "codemirror_mode": {
    "name": "ipython",
    "version": 3
   },
   "file_extension": ".py",
   "mimetype": "text/x-python",
   "name": "python",
   "nbconvert_exporter": "python",
   "pygments_lexer": "ipython3",
   "version": "3.8.8"
  }
 },
 "nbformat": 4,
 "nbformat_minor": 5
}
